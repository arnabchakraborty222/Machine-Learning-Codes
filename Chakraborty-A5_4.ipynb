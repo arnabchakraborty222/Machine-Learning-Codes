{
 "cells": [
  {
   "cell_type": "markdown",
   "metadata": {
    "colab_type": "text",
    "id": "8lNE-ri4yjlS"
   },
   "source": [
    "# A5 1-D and 2-D Convolutional Neural Networks in Pytorch\n",
    "\n",
    "* A5.4: *Changed structure of `CNN2D.__init__` by having it call `make_cnn_and_fc_layers` function. It is this function that `CNN1D` must override., not the `__init__` constructor.*\n",
    "* A5.3: *Added two missing statements in `CNN2D` that initialize `layeri` to 0 and increment it by 1*\n",
    "* A5.2: *added an exception to `CNN2D.__init__` code that provides a helpful message if you specify an impossible configuration for convolutional layers.  Repeat this exception code in your `CNN1D.__init__` function.*\n",
    "* A5.1: *small edit in CNN2D to allow empty list for `n_hiddens_per_fc_layer`.*\n",
    "\n",
    "In this assignment, you will experiment with the given convolutional neural network for 2-dimensional input samples (images), in class `CNN2D`, by applying it to the MNIST data.  You will also define a new class for handling 1-dimensional input samples, called `CNN1D`, that extends `CNN2D`."
   ]
  },
  {
   "cell_type": "code",
   "execution_count": 2,
   "metadata": {
    "colab": {},
    "colab_type": "code",
    "id": "PlOQj_mbyjlU"
   },
   "outputs": [],
   "source": [
    "import numpy as np\n",
    "import torch\n",
    "import pandas\n",
    "\n",
    "import matplotlib.pyplot as plt"
   ]
  },
  {
   "cell_type": "markdown",
   "metadata": {
    "colab_type": "text",
    "id": "e5i0hmMXyjld"
   },
   "source": [
    "## `CNN2D` class"
   ]
  },
  {
   "cell_type": "markdown",
   "metadata": {
    "colab_type": "text",
    "id": "yTTIu5E1yjlf"
   },
   "source": [
    "Here is a definition of `CNN2D`."
   ]
  },
  {
   "cell_type": "code",
   "execution_count": 3,
   "metadata": {
    "colab": {},
    "colab_type": "code",
    "id": "r8hJk0SMyjlg"
   },
   "outputs": [],
   "source": [
    "import numpy as np\n",
    "import torch\n",
    "\n",
    "\n",
    "class CNN2D(torch.nn.Module):\n",
    "\n",
    "    def __init__(self, n_inputs, n_hiddens_per_conv_layer, n_hiddens_per_fc_layer, n_outputs,\n",
    "                 patch_size_per_conv_layer, stride_per_conv_layer, activation_function='tanh', device='cpu'):\n",
    "\n",
    "        super().__init__()\n",
    "\n",
    "        self.device = device\n",
    "\n",
    "        n_conv_layers = len(n_hiddens_per_conv_layer)\n",
    "        if (len(patch_size_per_conv_layer) != n_conv_layers\n",
    "            or len(stride_per_conv_layer) != n_conv_layers):\n",
    "            raise Exception('The lengths of n_hiddens_per_conv_layer, patch_size_per_conv_layer, and stride_per_conv_layer must be equal.')\n",
    "\n",
    "        self.activation_function = torch.tanh if activation_function == 'tanh' else torch.relu\n",
    "\n",
    "        self.make_conv_and_fc_layers(n_inputs, n_hiddens_per_conv_layer, n_hiddens_per_fc_layer, n_outputs,\n",
    "                                     patch_size_per_conv_layer, stride_per_conv_layer)\n",
    "        \n",
    "        self.Xmeans = None\n",
    "        self.to(self.device)\n",
    "\n",
    "    def make_conv_and_fc_layers(self, n_inputs, n_hiddens_per_conv_layer, n_hiddens_per_fc_layer, n_outputs,\n",
    "                                patch_size_per_conv_layer, stride_per_conv_layer):\n",
    "                # Create all convolutional layers\n",
    "        # First argument to first Conv2d is number of channels for each pixel.\n",
    "        # Just 1 for our grayscale images.\n",
    "        n_in = 1\n",
    "        input_hw = int(np.sqrt(n_inputs))  # original input image height (=width because image assumed square)\n",
    "        self.conv_layers = torch.nn.ModuleList()\n",
    "        layeri = 0\n",
    "        for nh, patch_size, stride in zip(n_hiddens_per_conv_layer,\n",
    "                                          patch_size_per_conv_layer,\n",
    "                                          stride_per_conv_layer):\n",
    "            self.conv_layers.append(torch.nn.Conv2d(n_in, nh, kernel_size=patch_size, stride=stride))\n",
    "            conv_layer_output_hw = (input_hw - patch_size) // stride + 1\n",
    "            if conv_layer_output_hw <= 0:\n",
    "                raise Exception(f'''For conv layer {layeri}, input_hw of {input_hw} is less than patch_size {patch_size}.\n",
    "Try reducing the patch_size for this layer or for the previous layer.''')\n",
    "            input_hw = conv_layer_output_hw  # for next trip through this loop\n",
    "            n_in = nh\n",
    "            layeri += 1\n",
    "           \n",
    "        # Create all fully connected layers.  First must determine number of inputs to first\n",
    "        # fully-connected layer that results from flattening the images coming out of the last\n",
    "        # convolutional layer.\n",
    "        n_in = input_hw ** 2 * n_in\n",
    "        self.fc_layers = torch.nn.ModuleList()\n",
    "        for nh in n_hiddens_per_fc_layer:\n",
    "            self.fc_layers.append(torch.nn.Linear(n_in, nh))\n",
    "            n_in = nh\n",
    "        self.fc_layers.append(torch.nn.Linear(n_in, n_outputs))\n",
    "\n",
    "    def forward_all_outputs(self, X):\n",
    "        n_samples = X.shape[0]\n",
    "        Ys = [X]\n",
    "        for conv_layer in self.conv_layers:\n",
    "            Ys.append(self.activation_function(conv_layer(Ys[-1])))\n",
    "\n",
    "        flattened_input = Ys[-1].reshape(n_samples, -1)\n",
    "\n",
    "        for layeri, fc_layer in enumerate(self.fc_layers[:-1]):\n",
    "            if layeri == 0:\n",
    "                Ys.append(self.activation_function(fc_layer(flattened_input)))\n",
    "            else:\n",
    "                Ys.append(self.activation_function(fc_layer(Ys[-1])))\n",
    "\n",
    "        if len(self.fc_layers) == 1:\n",
    "            # only the output layer\n",
    "            Ys.append(self.fc_layers[-1](flattened_input))\n",
    "        else:\n",
    "            Ys.append(self.fc_layers[-1](Ys[-1]))\n",
    "\n",
    "        return Ys\n",
    "\n",
    "    def forward(self, X):\n",
    "        Ys = self.forward_all_outputs(X)\n",
    "        return Ys[-1]\n",
    "\n",
    "    def train(self, X, T, batch_size, n_epochs, learning_rate, method='sgd', verbose=True):\n",
    "        '''X and T must be numpy arrays'''\n",
    "\n",
    "        self.classes = np.unique(T)\n",
    "        T = np.arange(len(self.classes))[np.where(T.reshape(-1, 1) == self.classes)[1]]\n",
    "\n",
    "        # Set data matrices to torch.tensors\n",
    "        X = torch.from_numpy(X).float().to(self.device)\n",
    "        T = torch.from_numpy(T).long().to(self.device)  # required for classification in pytorch\n",
    "\n",
    "        # Setup standardization parameters\n",
    "        if self.Xmeans is None:\n",
    "            self.Xmeans = X.mean(axis=0)\n",
    "            self.Xstds = X.std(axis=0)\n",
    "            self.Xstds[self.Xstds == 0] = 1  # So we don't divide by zero when standardizing\n",
    "        #print(X.shape,self.Xmeans.shape)\n",
    "        # Standardize X\n",
    "        #print(X.shape,self.Xmeans.shape)\n",
    "        X = (X - self.Xmeans) / self.Xstds\n",
    "\n",
    "        X.requires_grad_(True)\n",
    "\n",
    "        if method == 'sgd':\n",
    "            optimizer = torch.optim.SGD(self.parameters(), lr=learning_rate, momentum=0.9)\n",
    "        else:\n",
    "            optimizer = torch.optim.Adam(self.parameters(), lr=learning_rate)\n",
    "\n",
    "        CELoss = torch.nn.CrossEntropyLoss(reduction='mean')\n",
    "        self.error_trace = []\n",
    "\n",
    "        for epoch in range(n_epochs):\n",
    "\n",
    "            num_batches = X.shape[0] // batch_size\n",
    "            loss_sum = 0\n",
    "\n",
    "            for k in range(num_batches):\n",
    "                start = k * batch_size\n",
    "                end = (k + 1) * batch_size\n",
    "                X_batch = X[start:end, ...]\n",
    "                T_batch = T[start:end, ...]\n",
    "\n",
    "                Y = self.forward(X_batch)\n",
    "\n",
    "                loss = CELoss(Y, T_batch)\n",
    "                loss.backward()\n",
    "\n",
    "                # Update parameters\n",
    "                optimizer.step()\n",
    "                optimizer.zero_grad()\n",
    "\n",
    "                loss_sum += loss\n",
    "\n",
    "            self.error_trace.append(loss_sum / num_batches)\n",
    "\n",
    "            if verbose and (epoch + 1) % (max(1, n_epochs // 10)) == 0:\n",
    "                print(f'{method}: Epoch {epoch + 1} Loss {self.error_trace[-1]:.3f}')\n",
    "        #print(self.Xmeans.shape)\n",
    "        return self\n",
    "\n",
    "    def softmax(self, Y):\n",
    "        '''Apply to final layer weighted sum outputs'''\n",
    "        # Trick to avoid overflow\n",
    "        maxY = torch.max(Y, axis=1)[0].reshape((-1, 1))\n",
    "        expY = torch.exp(Y - maxY)\n",
    "        denom = torch.sum(expY, axis=1).reshape((-1, 1))\n",
    "        Y = expY / denom\n",
    "        return Y\n",
    "\n",
    "    def use(self, X):\n",
    "        # Set input matrix to torch.tensors\n",
    "        X = torch.from_numpy(X).float().to(self.device)\n",
    "        # Standardize X\n",
    "        #print(X.shape,self.Xmeans.shape)\n",
    "        X = (X - self.Xmeans) / self.Xstds\n",
    "        # Calculate output of net for all samples in X\n",
    "        Y = self.forward(X)\n",
    "        # Convert output to class probabilities\n",
    "        probs = self.softmax(Y)\n",
    "        # For each sample pick highest probability and translate that to class labels\n",
    "        classes = self.classes[torch.argmax(probs, axis=1).cpu().numpy()].reshape(-1, 1)\n",
    "        return classes, probs.detach().cpu().numpy()"
   ]
  },
  {
   "cell_type": "markdown",
   "metadata": {
    "colab_type": "text",
    "id": "uEfBt16Wyjln"
   },
   "source": [
    "### CNN2D on MNIST Digits\n",
    "\n",
    "We will use a bunch (50,000) images of hand drawn digits from [this deeplearning.net site](http://deeplearning.net/tutorial/gettingstarted.html).  Download `mnist.pkl.gz`. \n",
    "\n",
    "This pickle file includes data already partitioned into training, validation, and test sets.  To read it into python, use the following steps"
   ]
  },
  {
   "cell_type": "code",
   "execution_count": 4,
   "metadata": {
    "colab": {
     "base_uri": "https://localhost:8080/",
     "height": 33
    },
    "colab_type": "code",
    "id": "pZUNBYnMyjlo",
    "outputId": "3d1037fc-e44b-4ec8-b69b-30e5d22c103b"
   },
   "outputs": [
    {
     "name": "stdout",
     "output_type": "stream",
     "text": [
      "(50000, 1, 28, 28) (50000, 1) (10000, 1, 28, 28) (10000, 1) (10000, 1, 28, 28) (10000, 1)\n"
     ]
    }
   ],
   "source": [
    "import pickle\n",
    "import gzip\n",
    "\n",
    "with gzip.open('mnist.pkl.gz', 'rb') as f:\n",
    "    train_set, valid_set, test_set = pickle.load(f, encoding='latin1')\n",
    "\n",
    "Xtrain = train_set[0]\n",
    "Ttrain = (train_set[1]).reshape(-1, 1)\n",
    "\n",
    "Xval = valid_set[0]\n",
    "Tval = valid_set[1].reshape(-1, 1)\n",
    "\n",
    "Xtest = test_set[0]\n",
    "Ttest = test_set[1].reshape(-1, 1)\n",
    "\n",
    "Xtrain = Xtrain.reshape(-1, 1, 28, 28)\n",
    "Xtest = Xtest.reshape(-1, 1, 28, 28)\n",
    "Xval = Xval.reshape(-1, 1, 28, 28)\n",
    "\n",
    "\n",
    "print(Xtrain.shape, Ttrain.shape,  Xval.shape, Tval.shape,  Xtest.shape, Ttest.shape)"
   ]
  },
  {
   "cell_type": "code",
   "execution_count": 5,
   "metadata": {
    "colab": {
     "base_uri": "https://localhost:8080/",
     "height": 50
    },
    "colab_type": "code",
    "id": "y89bswUKyjly",
    "outputId": "9539acab-bc29-49a4-dd23-3ea26ff7a527"
   },
   "outputs": [
    {
     "name": "stdout",
     "output_type": "stream",
     "text": [
      "Running on cpu\n"
     ]
    }
   ],
   "source": [
    "device = 'cpu'\n",
    "if torch.cuda.is_available():\n",
    "    y_or_n = input('Would you like to run on the GPU? (y or n): ')\n",
    "    if y_or_n == 'y' or y_or_n == 'yes':\n",
    "        device = torch.device('cuda:0' if torch.cuda.is_available() else 'cpu')\n",
    "print('Running on', device)"
   ]
  },
  {
   "cell_type": "code",
   "execution_count": 6,
   "metadata": {
    "colab": {
     "base_uri": "https://localhost:8080/",
     "height": 33
    },
    "colab_type": "code",
    "id": "g_qrFRg9yjl5",
    "outputId": "0a69adf7-aa8c-4d7d-fe92-8671c9572df5"
   },
   "outputs": [
    {
     "data": {
      "text/plain": [
       "10"
      ]
     },
     "execution_count": 6,
     "metadata": {},
     "output_type": "execute_result"
    }
   ],
   "source": [
    "len(np.unique(Ttrain))"
   ]
  },
  {
   "cell_type": "code",
   "execution_count": null,
   "metadata": {
    "colab": {
     "base_uri": "https://localhost:8080/",
     "height": 464
    },
    "colab_type": "code",
    "id": "3XgAnOrxyjl-",
    "outputId": "2b916752-959f-45a6-83c1-0d7fdd6a6564"
   },
   "outputs": [],
   "source": [
    "n_hiddens_per_conv_layer = [10, 10]\n",
    "patch_size_per_conv_layer = [10, 5]\n",
    "stride_per_conv_layer=[4, 2]\n",
    "n_hiddens_per_fc_layer = [5]\n",
    "\n",
    "cnnet = CNN2D(28 * 28, n_hiddens_per_conv_layer, n_hiddens_per_fc_layer, len(np.unique(Ttrain)), \n",
    "              patch_size_per_conv_layer, stride_per_conv_layer, device=device)\n",
    "\n",
    "n_epochs = 20\n",
    "batch_size = 500\n",
    "learning_rate = 0.01\n",
    "\n",
    "cnnet.train(Xtrain, Ttrain, batch_size, n_epochs, learning_rate, method='adam')\n",
    "\n",
    "plt.plot(cnnet.error_trace, label='Pytorch')\n",
    "plt.title('MNIST')"
   ]
  },
  {
   "cell_type": "code",
   "execution_count": null,
   "metadata": {
    "colab": {},
    "colab_type": "code",
    "id": "hP5jOP-kyjmD"
   },
   "outputs": [],
   "source": [
    "def confusion_matrix(Y_classes, T):\n",
    "    class_names = np.unique(T)\n",
    "    table = []\n",
    "    for true_class in class_names:\n",
    "        row = []\n",
    "        for Y_class in class_names:\n",
    "            row.append(100 * np.mean(Y_classes[T == true_class] == Y_class))\n",
    "        table.append(row)\n",
    "    conf_matrix = pandas.DataFrame(table, index=class_names, columns=class_names)\n",
    "    return conf_matrix"
   ]
  },
  {
   "cell_type": "code",
   "execution_count": null,
   "metadata": {
    "colab": {
     "base_uri": "https://localhost:8080/",
     "height": 364
    },
    "colab_type": "code",
    "id": "o6ITlJuQyjmJ",
    "outputId": "1442be8f-c4e0-4420-c19d-fd5ca23e6744"
   },
   "outputs": [],
   "source": [
    "Classes, _ = cnnet.use(Xtest)\n",
    "perc_correct = 100 * np.mean(Classes == Ttest)\n",
    "print(f'Test accuracy in percent correct: {perc_correct:.2f}')\n",
    "confusion_matrix(Classes, Ttest)"
   ]
  },
  {
   "cell_type": "markdown",
   "metadata": {
    "colab_type": "text",
    "id": "dT7Fg5WDyjmN"
   },
   "source": [
    "### Experiments\n",
    "\n",
    "To explore the effects of different CNN structures, show results for the following steps.  For each use the same number of epochs, batch size, and learning rate as used above.\n",
    "\n",
    "1. Compare test accuracy of CNN2D nets with one, two and three convolutional layers, each with 10 units and patch sizes of 5 and strides of 2.\n",
    "2. Using the best number of convolutional layers found in Step 1, compare the test accuracies of CNN2d nets with zero, one, and two fully-connected layers each with 10 hidden units.\n",
    "\n",
    "Combine the results of each of your runs and display them in a `pandas.Dataframe` that includes the network structure and percent correct on train and test sets. Discuss your results, and describe the network structure and training parameters that produced the best test results."
   ]
  },
  {
   "cell_type": "code",
   "execution_count": null,
   "metadata": {
    "colab": {},
    "colab_type": "code",
    "id": "dwaUzA-IBKMU"
   },
   "outputs": [],
   "source": [
    "Pr=len(np.unique(Ttrain))"
   ]
  },
  {
   "cell_type": "code",
   "execution_count": null,
   "metadata": {
    "colab": {},
    "colab_type": "code",
    "id": "4C1ek5TK1C2Y"
   },
   "outputs": [],
   "source": [
    "def run_experiment(n_hiddens_per_conv_layer,patch_size_per_conv_layer,stride_per_conv_layer,n_hiddens_per_fc_layer):\n",
    "  results = []\n",
    "  nh1=[]\n",
    "  np34=[]\n",
    "  ns=[]\n",
    "\n",
    "\n",
    "  n_epochs = 20\n",
    "  batch_size = 500\n",
    "  learning_rate = 0.01\n",
    "  for s1 in stride_per_conv_layer:\n",
    "    if s1 not in ns:\n",
    "      ns.append(s1)\n",
    "      for p1 in patch_size_per_conv_layer:\n",
    "        if p1 not in np34:\n",
    "          np34.append(p1)\n",
    "          for nh in n_hiddens_per_conv_layer:\n",
    "            if nh not in nh1:\n",
    "              nh1.append(nh)\n",
    "              print(f'For {nh} no of hidden layer ,{p1} kernel size ,{s1} patch size')\n",
    "              cnnet = CNN2D(28 * 28, nh, n_hiddens_per_fc_layer, Pr, p1, s1, device=device)\n",
    "\n",
    "              cnnet.train(Xtrain, Ttrain, batch_size, n_epochs, learning_rate, method='adam')\n",
    "              Train_classes, Train_probs = cnnet.use(Xtrain)\n",
    "              Test_classes, Test_probs = cnnet.use(Xtest)\n",
    "              Validate_classes, Validate_probs = cnnet.use(Xval)\n",
    "              Train_percent = np.mean(Train_classes == Ttrain) * 100\n",
    "              Test_percent = np.mean(Test_classes == Ttest) * 100 \n",
    "              Validate_percent = np.mean(Validate_classes == Tval) * 100 \n",
    "              results.append([nh, p1,s1,Train_percent, Test_percent, Validate_percent])\n",
    "              df = pandas.DataFrame(results, columns=('Hidden Conv Layers','Patch Size','stride size' ,'Train', 'Validate', 'Test'))\n",
    "              break\n",
    "          break\n",
    "  return df\n",
    "\n"
   ]
  },
  {
   "cell_type": "code",
   "execution_count": null,
   "metadata": {
    "colab": {
     "base_uri": "https://localhost:8080/",
     "height": 566
    },
    "colab_type": "code",
    "id": "2oLClxmhDUBL",
    "outputId": "e488f729-4219-4978-c15b-999e9112d28e"
   },
   "outputs": [],
   "source": [
    "df=run_experiment([[10],[10,10],[10,10,10]],[[5],[5,5],[5,5,5]],[[2],[2,2],[1,1,1]],[])"
   ]
  },
  {
   "cell_type": "code",
   "execution_count": null,
   "metadata": {
    "colab": {
     "base_uri": "https://localhost:8080/",
     "height": 83
    },
    "colab_type": "code",
    "id": "eeP7O1EgCt0P",
    "outputId": "74927373-419c-4ad8-da26-939760a18b07"
   },
   "outputs": [],
   "source": [
    "print(df)"
   ]
  },
  {
   "cell_type": "markdown",
   "metadata": {
    "colab_type": "text",
    "id": "VZrGV3uVoPTr"
   },
   "source": [
    "The best configuration :- \n",
    "Hidden Conv Layer - [10,10,10].\n",
    "Patch Size - [5,5,5]\n",
    "Stride Size- [1,1,1]\n",
    "For this configuration the test accuracy is maximum i.e 97.65 %.\n",
    "However here I have not connected any fully connected layer.\n"
   ]
  },
  {
   "cell_type": "code",
   "execution_count": null,
   "metadata": {
    "colab": {
     "base_uri": "https://localhost:8080/",
     "height": 297
    },
    "colab_type": "code",
    "id": "ia6tbb1J5C4A",
    "outputId": "4fabec63-36f7-4801-da9d-4b302ed62eea"
   },
   "outputs": [],
   "source": [
    "plt.plot(cnnet.error_trace, label='Pytorch')\n",
    "plt.title('MNIST') "
   ]
  },
  {
   "cell_type": "code",
   "execution_count": 0,
   "metadata": {
    "colab": {},
    "colab_type": "code",
    "id": "luH1Fr7lH0ry"
   },
   "outputs": [],
   "source": [
    "def best_config(n_hiddens_per_conv_layer,patch_size_per_conv_layer,stride_per_conv_layer,n_hiddens_per_fc_layer):\n",
    "  n_epochs = 20\n",
    "  batch_size = 500\n",
    "  learning_rate = 0.01\n",
    "  results1=[]\n",
    "  for fc in n_hiddens_per_fc_layer: \n",
    "      cnnet = CNN2D(28 * 28, n_hiddens_per_conv_layer, fc, len(np.unique(Ttrain)), \n",
    "              patch_size_per_conv_layer, stride_per_conv_layer, device=device)\n",
    "\n",
    "\n",
    "      cnnet.train(Xtrain, Ttrain, batch_size, n_epochs, learning_rate, method='adam')\n",
    "      Train_classes, Train_probs = cnnet.use(Xtrain)\n",
    "      Test_classes, Test_probs = cnnet.use(Xtest)\n",
    "      Validate_classes, Validate_probs = cnnet.use(Xval)\n",
    "      Train_percent = np.mean(Train_classes == Ttrain) * 100\n",
    "      Test_percent = np.mean(Test_classes == Ttest) * 100 \n",
    "      Validate_percent = np.mean(Validate_classes == Tval) * 100 \n",
    "      results1.append([n_hiddens_per_conv_layer, fc , Train_percent, Test_percent, Validate_percent])\n",
    "      df1 = pandas.DataFrame(results1, columns=('Conv Layers', 'FC Layer', 'Train', 'Validate', 'Test'))\n",
    "    \n",
    "  return df1\n",
    "\n"
   ]
  },
  {
   "cell_type": "code",
   "execution_count": 15,
   "metadata": {
    "colab": {
     "base_uri": "https://localhost:8080/",
     "height": 297
    },
    "colab_type": "code",
    "id": "fImj_WA5K5d6",
    "outputId": "511e98a3-620b-41a6-81c8-08080f69edbe"
   },
   "outputs": [
    {
     "data": {
      "text/plain": [
       "Text(0.5, 1.0, 'MNIST')"
      ]
     },
     "execution_count": 15,
     "metadata": {
      "tags": []
     },
     "output_type": "execute_result"
    },
    {
     "data": {
      "image/png": "[encoded data removed]",
      "text/plain": [
       "<Figure size 432x288 with 1 Axes>"
      ]
     },
     "metadata": {
      "needs_background": "light",
      "tags": []
     },
     "output_type": "display_data"
    }
   ],
   "source": [
    "plt.plot(cnnet.error_trace, label='Pytorch')\n",
    "plt.title('MNIST')"
   ]
  },
  {
   "cell_type": "code",
   "execution_count": 16,
   "metadata": {
    "colab": {
     "base_uri": "https://localhost:8080/",
     "height": 516
    },
    "colab_type": "code",
    "id": "fCrh_lEVQVYD",
    "outputId": "f387d5f7-8d84-441e-aee1-b3ea7f93b929"
   },
   "outputs": [
    {
     "name": "stdout",
     "output_type": "stream",
     "text": [
      "adam: Epoch 2 Loss 0.191\n",
      "adam: Epoch 4 Loss 0.129\n",
      "adam: Epoch 6 Loss 0.142\n",
      "adam: Epoch 8 Loss 0.140\n",
      "adam: Epoch 10 Loss 0.111\n",
      "adam: Epoch 12 Loss 0.127\n",
      "adam: Epoch 14 Loss 0.109\n",
      "adam: Epoch 16 Loss 0.089\n",
      "adam: Epoch 18 Loss 0.080\n",
      "adam: Epoch 20 Loss 0.081\n",
      "adam: Epoch 2 Loss 0.316\n",
      "adam: Epoch 4 Loss 0.222\n",
      "adam: Epoch 6 Loss 0.204\n",
      "adam: Epoch 8 Loss 0.192\n",
      "adam: Epoch 10 Loss 0.172\n",
      "adam: Epoch 12 Loss 0.176\n",
      "adam: Epoch 14 Loss 0.159\n",
      "adam: Epoch 16 Loss 0.163\n",
      "adam: Epoch 18 Loss 0.160\n",
      "adam: Epoch 20 Loss 0.153\n",
      "adam: Epoch 2 Loss 0.396\n",
      "adam: Epoch 4 Loss 0.310\n",
      "adam: Epoch 6 Loss 0.257\n",
      "adam: Epoch 8 Loss 0.232\n",
      "adam: Epoch 10 Loss 0.204\n",
      "adam: Epoch 12 Loss 0.211\n",
      "adam: Epoch 14 Loss 0.199\n",
      "adam: Epoch 16 Loss 0.202\n",
      "adam: Epoch 18 Loss 0.188\n",
      "adam: Epoch 20 Loss 0.179\n"
     ]
    }
   ],
   "source": [
    "df1=best_config([10,10,10],[5,5,5],[1,1,1],[[],[10],[10,10]])"
   ]
  },
  {
   "cell_type": "code",
   "execution_count": 17,
   "metadata": {
    "colab": {
     "base_uri": "https://localhost:8080/",
     "height": 83
    },
    "colab_type": "code",
    "id": "YMpnUONKK9Av",
    "outputId": "1824c651-4150-4b2e-b726-4d6223a559b6"
   },
   "outputs": [
    {
     "name": "stdout",
     "output_type": "stream",
     "text": [
      "    Conv Layers  FC Layer   Train  Validate   Test\n",
      "0  [10, 10, 10]        []  98.862     97.79  97.49\n",
      "1  [10, 10, 10]      [10]  95.590     95.65  95.80\n",
      "2  [10, 10, 10]  [10, 10]  94.964     95.47  95.36\n"
     ]
    }
   ],
   "source": [
    "print (df1)"
   ]
  },
  {
   "cell_type": "markdown",
   "metadata": {
    "colab_type": "text",
    "id": "nm58R9MEpOMg"
   },
   "source": [
    "Best Configuration:-\n",
    "\n",
    "Convolution Layer- [10,10,10]\n",
    "Patch size- [5,5,5]\n",
    "Stride Size- [1,1,1]\n",
    "Fully Connected Layer- [ ]\n",
    "\n",
    "Adding fully connected layer to the best configuration from the above experiment. \n",
    "The best configuration is achieved when there is no fully connected layer. The test accuracy in this case is 97.49 %. When more fully connected layer is added there is a drop in the test accuracy."
   ]
  },
  {
   "cell_type": "markdown",
   "metadata": {
    "colab_type": "text",
    "id": "XxRUgqnJyjmP"
   },
   "source": [
    "## CNN1D\n",
    "\n",
    "Complete the following code cell to define `CNN1D`.  The only change from `CNN2D` that is required is in the constructor.  Complete these steps.\n",
    "\n",
    "1. Copy the `__init__` function from `CNN2D`.\n",
    "2. For each convolutional layer, create a `torch.nn.Conv1d` object instead of a `torch.nn.Conv2d` object.\n",
    "3. Modify the statement `input_hw = int(np.sqrt(n_inputs))` appropriately.\n",
    "4. Modify the statement `n_in = input_hw ** 2 * n_in` appropriately."
   ]
  },
  {
   "cell_type": "code",
   "execution_count": 0,
   "metadata": {
    "colab": {},
    "colab_type": "code",
    "id": "HGHc_tJsyjmQ"
   },
   "outputs": [],
   "source": [
    "class CNN1D(CNN2D):\n",
    "\n",
    "    def make_conv_and_fc_layers(self, n_inputs, n_hiddens_per_conv_layer, n_hiddens_per_fc_layer, n_outputs,\n",
    "                                patch_size_per_conv_layer, stride_per_conv_layer):\n",
    "                        # Create all convolutional layers\n",
    "        n_in = 1\n",
    "        input_hw = n_inputs  \n",
    "        self.conv_layers = torch.nn.ModuleList()\n",
    "        layeri = 0\n",
    "        for nh, patch_size, stride in zip(n_hiddens_per_conv_layer,\n",
    "                                          patch_size_per_conv_layer,\n",
    "                                          stride_per_conv_layer):\n",
    "            self.conv_layers.append(torch.nn.Conv1d(n_in, nh, kernel_size=patch_size, stride=stride))\n",
    "            conv_layer_output_hw = (input_hw - patch_size) // stride + 1\n",
    "            if conv_layer_output_hw < 0:\n",
    "                raise Exception(f'''For conv layer {layeri}, input_hw of {input_hw} is less than patch_size {patch_size}.\n",
    "Try reducing the patch_size for this layer or for the previous layer.''')\n",
    "            input_hw = conv_layer_output_hw  # for next trip through this loop\n",
    "            n_in = nh\n",
    "            layeri += 1\n",
    "           \n",
    "        # Create all fully connected layers.  First must determine number of inputs to first\n",
    "        # fully-connected layer that results from flattening the images coming out of the last\n",
    "        # convolutional layer.\n",
    "        n_in = input_hw ** 1 * n_in\n",
    "        self.fc_layers = torch.nn.ModuleList()\n",
    "        for nh in n_hiddens_per_fc_layer:\n",
    "            self.fc_layers.append(torch.nn.Linear(n_in, nh))\n",
    "            n_in = nh\n",
    "        self.fc_layers.append(torch.nn.Linear(n_in, n_outputs))"
   ]
  },
  {
   "cell_type": "markdown",
   "metadata": {
    "colab_type": "text",
    "id": "Fn95lJ5FyjmX"
   },
   "source": [
    "### Toy Data to Test `CNN1D`\n",
    "\n",
    "Here is some toy data to test your `CNN1D` definition.  Each sample is now 1-dimensional.  Let's make vectors of two kinds, ones with square pulses and ones with triangular pulses, at random locations and random durations. Both kinds will be 100 values, with zeros between the waves long."
   ]
  },
  {
   "cell_type": "code",
   "execution_count": 0,
   "metadata": {
    "colab": {},
    "colab_type": "code",
    "id": "WdCvFd19yjmZ"
   },
   "outputs": [],
   "source": [
    "def make_square_pulse():\n",
    "    sample = np.zeros(100)\n",
    "    for i in range(np.random.randint(1, 5)):  # making from 1 to 4 pulses\n",
    "        start = np.random.randint(0, 80)\n",
    "        width = np.random.randint(5, 20)\n",
    "        sample[start:start + width] = 1\n",
    "    return sample"
   ]
  },
  {
   "cell_type": "code",
   "execution_count": 20,
   "metadata": {
    "colab": {
     "base_uri": "https://localhost:8080/",
     "height": 116
    },
    "colab_type": "code",
    "id": "TSDYWkluyjmi",
    "outputId": "1d8f320f-1cff-4dd5-8eda-e5973f18782e"
   },
   "outputs": [
    {
     "data": {
      "text/plain": [
       "array([0., 0., 0., 0., 0., 0., 0., 0., 0., 0., 0., 1., 1., 1., 1., 1., 1.,\n",
       "       1., 1., 1., 1., 1., 1., 0., 0., 0., 0., 0., 0., 0., 0., 0., 0., 0.,\n",
       "       0., 0., 0., 0., 0., 0., 0., 0., 0., 0., 0., 0., 0., 0., 0., 1., 1.,\n",
       "       1., 1., 1., 1., 1., 1., 1., 1., 1., 1., 1., 1., 1., 1., 1., 1., 1.,\n",
       "       1., 1., 1., 1., 1., 1., 1., 1., 1., 1., 1., 1., 1., 1., 1., 0., 0.,\n",
       "       0., 0., 0., 0., 0., 0., 0., 0., 0., 0., 0., 0., 0., 0., 0.])"
      ]
     },
     "execution_count": 20,
     "metadata": {
      "tags": []
     },
     "output_type": "execute_result"
    }
   ],
   "source": [
    "make_square_pulse()"
   ]
  },
  {
   "cell_type": "code",
   "execution_count": 21,
   "metadata": {
    "colab": {
     "base_uri": "https://localhost:8080/",
     "height": 264
    },
    "colab_type": "code",
    "id": "Nsb-fFQlyjml",
    "outputId": "f148c289-e42e-46c6-e707-13ecf0dc5419",
    "scrolled": true
   },
   "outputs": [
    {
     "data": {
      "image/png": "[encoded data removed]",
      "text/plain": [
       "<Figure size 432x288 with 1 Axes>"
      ]
     },
     "metadata": {
      "needs_background": "light",
      "tags": []
     },
     "output_type": "display_data"
    }
   ],
   "source": [
    "plt.plot(make_square_pulse());"
   ]
  },
  {
   "cell_type": "code",
   "execution_count": 0,
   "metadata": {
    "colab": {},
    "colab_type": "code",
    "id": "8huQCvykyjmq"
   },
   "outputs": [],
   "source": [
    "def make_triangular_pulse():\n",
    "    sample = np.zeros(100)\n",
    "    for i in range(np.random.randint(1, 5)):  # making from 1 to 4 pulses\n",
    "        start = np.random.randint(0, 80)\n",
    "        width = np.random.randint(5, 20)\n",
    "        if width % 2 == 1:\n",
    "            width += 1  # if odd, make it even\n",
    "        sample[start:start + width // 2] = np.linspace(0, 1, width // 2)\n",
    "        sample[start + width // 2:start + width] = np.linspace(1, 0, width // 2)\n",
    "    return sample"
   ]
  },
  {
   "cell_type": "code",
   "execution_count": 23,
   "metadata": {
    "colab": {
     "base_uri": "https://localhost:8080/",
     "height": 264
    },
    "colab_type": "code",
    "id": "-qlG2mh7yjmt",
    "outputId": "3a54548c-e016-43eb-92b8-b5c6fcd2b253",
    "scrolled": true
   },
   "outputs": [
    {
     "data": {
      "image/png": "[encoded data removed]",
      "text/plain": [
       "<Figure size 432x288 with 1 Axes>"
      ]
     },
     "metadata": {
      "needs_background": "light",
      "tags": []
     },
     "output_type": "display_data"
    }
   ],
   "source": [
    "plt.plot(make_triangular_pulse());"
   ]
  },
  {
   "cell_type": "code",
   "execution_count": 24,
   "metadata": {
    "colab": {
     "base_uri": "https://localhost:8080/",
     "height": 33
    },
    "colab_type": "code",
    "id": "h1si7Q0fyjmy",
    "outputId": "793d796f-0a21-46a7-f9e4-1b42a27abc80"
   },
   "outputs": [
    {
     "data": {
      "text/plain": [
       "((1000, 100), (1000, 1), (1000, 100), (1000, 1))"
      ]
     },
     "execution_count": 24,
     "metadata": {
      "tags": []
     },
     "output_type": "execute_result"
    }
   ],
   "source": [
    "n_each = 500\n",
    "Xtrain = np.array([make_square_pulse() for i in range(n_each)] +\n",
    "                   [make_triangular_pulse() for i in range(n_each)])\n",
    "Ttrain = np.array(['square'] * n_each + ['triangular'] * n_each).reshape(-1, 1)\n",
    "n_each = 500\n",
    "Xtest = np.array([make_square_pulse() for i in range(n_each)] +\n",
    "                   [make_triangular_pulse() for i in range(n_each)])\n",
    "Ttest = np.array(['square'] * n_each + ['triangular'] * n_each).reshape(-1, 1)\n",
    "Xtrain.shape, Ttrain.shape, Xtest.shape, Ttest.shape"
   ]
  },
  {
   "cell_type": "code",
   "execution_count": 25,
   "metadata": {
    "colab": {
     "base_uri": "https://localhost:8080/",
     "height": 33
    },
    "colab_type": "code",
    "id": "ApPROlVfyjm1",
    "outputId": "9c0d3831-24a7-46b9-f967-5b67fbad9107"
   },
   "outputs": [
    {
     "data": {
      "text/plain": [
       "True"
      ]
     },
     "execution_count": 25,
     "metadata": {
      "tags": []
     },
     "output_type": "execute_result"
    }
   ],
   "source": [
    "np.newaxis == None"
   ]
  },
  {
   "cell_type": "code",
   "execution_count": 26,
   "metadata": {
    "colab": {
     "base_uri": "https://localhost:8080/",
     "height": 33
    },
    "colab_type": "code",
    "id": "4enOx9wryjm9",
    "outputId": "1a250940-3277-4c0a-c821-58dd64bf47d0"
   },
   "outputs": [
    {
     "data": {
      "text/plain": [
       "(1000, 1, 100)"
      ]
     },
     "execution_count": 26,
     "metadata": {
      "tags": []
     },
     "output_type": "execute_result"
    }
   ],
   "source": [
    "Xtrain = Xtrain[:, None, :]\n",
    "Xtrain.shape"
   ]
  },
  {
   "cell_type": "code",
   "execution_count": 27,
   "metadata": {
    "colab": {
     "base_uri": "https://localhost:8080/",
     "height": 33
    },
    "colab_type": "code",
    "id": "_-9YdZTpyjnB",
    "outputId": "2da495a8-490f-4670-adbc-3342e6e23eed"
   },
   "outputs": [
    {
     "data": {
      "text/plain": [
       "((1000, 1, 100), (1000, 1, 100))"
      ]
     },
     "execution_count": 27,
     "metadata": {
      "tags": []
     },
     "output_type": "execute_result"
    }
   ],
   "source": [
    "Xtrain = Xtrain.reshape(Xtrain.shape[0], 1, -1)\n",
    "Xtest = Xtest.reshape(Xtest.shape[0], 1, -1)\n",
    "Xtrain.shape, Xtest.shape"
   ]
  },
  {
   "cell_type": "code",
   "execution_count": 28,
   "metadata": {
    "colab": {
     "base_uri": "https://localhost:8080/",
     "height": 464
    },
    "colab_type": "code",
    "id": "SC0VkbJbyjnH",
    "outputId": "e4567caf-005a-4a27-c734-b3865c8906e6"
   },
   "outputs": [
    {
     "name": "stdout",
     "output_type": "stream",
     "text": [
      "adam: Epoch 10 Loss 0.614\n",
      "adam: Epoch 20 Loss 0.395\n",
      "adam: Epoch 30 Loss 0.141\n",
      "adam: Epoch 40 Loss 0.029\n",
      "adam: Epoch 50 Loss 0.006\n",
      "adam: Epoch 60 Loss 0.002\n",
      "adam: Epoch 70 Loss 0.001\n",
      "adam: Epoch 80 Loss 0.000\n",
      "adam: Epoch 90 Loss 0.000\n",
      "adam: Epoch 100 Loss 0.000\n"
     ]
    },
    {
     "data": {
      "text/plain": [
       "Text(0.5, 1.0, 'Pulses')"
      ]
     },
     "execution_count": 28,
     "metadata": {
      "tags": []
     },
     "output_type": "execute_result"
    },
    {
     "data": {
      "image/png": "[encoded data removed]",
      "text/plain": [
       "<Figure size 432x288 with 1 Axes>"
      ]
     },
     "metadata": {
      "needs_background": "light",
      "tags": []
     },
     "output_type": "display_data"
    }
   ],
   "source": [
    "cnnet1 = CNN1D(100, [10, 5], [5, 5], 2, [10, 4], [1, 2], device=device)\n",
    "\n",
    "n_epochs = 100\n",
    "batch_size = 10\n",
    "learning_rate = 0.001\n",
    "\n",
    "cnnet1.train(Xtrain, Ttrain, batch_size, n_epochs, learning_rate, method='adam')\n",
    "\n",
    "plt.plot(cnnet1.error_trace, label='Pytorch')\n",
    "plt.title('Pulses')"
   ]
  },
  {
   "cell_type": "code",
   "execution_count": 29,
   "metadata": {
    "colab": {
     "base_uri": "https://localhost:8080/",
     "height": 124
    },
    "colab_type": "code",
    "id": "I9lqhlsqyjnM",
    "outputId": "76b76fb8-fbf1-4931-eadf-95884a10b7e3"
   },
   "outputs": [
    {
     "name": "stdout",
     "output_type": "stream",
     "text": [
      "Test accuracy in percent correct: 98.40\n"
     ]
    },
    {
     "data": {
      "text/html": [
       "<div>\n",
       "<style scoped>\n",
       "    .dataframe tbody tr th:only-of-type {\n",
       "        vertical-align: middle;\n",
       "    }\n",
       "\n",
       "    .dataframe tbody tr th {\n",
       "        vertical-align: top;\n",
       "    }\n",
       "\n",
       "    .dataframe thead th {\n",
       "        text-align: right;\n",
       "    }\n",
       "</style>\n",
       "<table border=\"1\" class=\"dataframe\">\n",
       "  <thead>\n",
       "    <tr style=\"text-align: right;\">\n",
       "      <th></th>\n",
       "      <th>square</th>\n",
       "      <th>triangular</th>\n",
       "    </tr>\n",
       "  </thead>\n",
       "  <tbody>\n",
       "    <tr>\n",
       "      <th>square</th>\n",
       "      <td>97.0</td>\n",
       "      <td>3.0</td>\n",
       "    </tr>\n",
       "    <tr>\n",
       "      <th>triangular</th>\n",
       "      <td>0.2</td>\n",
       "      <td>99.8</td>\n",
       "    </tr>\n",
       "  </tbody>\n",
       "</table>\n",
       "</div>"
      ],
      "text/plain": [
       "            square  triangular\n",
       "square        97.0         3.0\n",
       "triangular     0.2        99.8"
      ]
     },
     "execution_count": 29,
     "metadata": {
      "tags": []
     },
     "output_type": "execute_result"
    }
   ],
   "source": [
    "Classes, _ = cnnet1.use(Xtest)\n",
    "perc_correct = 100 * np.mean(Classes == Ttest)\n",
    "print(f'Test accuracy in percent correct: {perc_correct:.2f}')\n",
    "confusion_matrix(Classes, Ttest)"
   ]
  },
  {
   "cell_type": "code",
   "execution_count": 30,
   "metadata": {
    "colab": {
     "base_uri": "https://localhost:8080/",
     "height": 281
    },
    "colab_type": "code",
    "id": "RpWGB1pjyjnP",
    "outputId": "3ccd88ee-eb15-4400-89fd-f7dd572b0cd8"
   },
   "outputs": [
    {
     "data": {
      "text/plain": [
       "torch.Size([10, 10])"
      ]
     },
     "execution_count": 30,
     "metadata": {
      "tags": []
     },
     "output_type": "execute_result"
    },
    {
     "data": {
      "image/png": "[encoded data removed]",
      "text/plain": [
       "<Figure size 432x288 with 1 Axes>"
      ]
     },
     "metadata": {
      "needs_background": "light",
      "tags": []
     },
     "output_type": "display_data"
    }
   ],
   "source": [
    "W = list(cnnet1.children())[0][0].weight.data.cpu()  # in case running on GPU\n",
    "plt.plot(W[:, 0, :].T);\n",
    "W[:, 0, :].T.shape"
   ]
  },
  {
   "cell_type": "markdown",
   "metadata": {
    "colab_type": "text",
    "id": "Y_N7OLUUyjnX"
   },
   "source": [
    "### Experiments on ECG Data"
   ]
  },
  {
   "cell_type": "markdown",
   "metadata": {
    "colab_type": "text",
    "id": "pEPdq-9lyjnY"
   },
   "source": [
    "An [electrocardiogram](), or ECG, is a record in time of a voltage generated by the heart.  It can be used to diagnose abnormalities in the heart.\n",
    "\n",
    "Public datasets containing ECG traces are available, such as the [Non-Invasive Fetal ECG Arrhythmia Database](https://physionet.org/content/nifeadb/1.0.0/) site. The data files there are in a standard waveform-database (WFDB) format.  As is often the case for most standard data formats you run in to, a python package exists for reading this data, called [wfdb](https://github.com/MIT-LCP/wfdb-python) that you can install using [conda](https://anaconda.org/conda-forge/wfdb).\n",
    "\n",
    "This data set includes ECG from normal patients and from ones with arrythmias, with data file names like `ARR_01.dat` and `NR_01.dat`, respectively.  We have already downloaded these files, read them in using the `wfdb` package and collected them into segments of 2000 voltages.  The sample rate for this data is 1000 Hz, so 2000 voltages spans 2 seconds. Download this data set from [ecg.npy](https://www.cs.colostate.edu/~anderson/cs445/notebooks/ecg.npy) \n",
    "\n",
    "Now, our job for our `CNN1D` is to classify each 2000 sample segment into the classes `normal` or `arrythmia`."
   ]
  },
  {
   "cell_type": "markdown",
   "metadata": {
    "colab_type": "text",
    "id": "NK0qaRy7yjnb"
   },
   "source": [
    "After you have downloaded `ecg.npy`, you can load it and plot a few samples."
   ]
  },
  {
   "cell_type": "code",
   "execution_count": 31,
   "metadata": {
    "colab": {
     "base_uri": "https://localhost:8080/",
     "height": 33
    },
    "colab_type": "code",
    "id": "R7gb8PElyjnc",
    "outputId": "f8dde4f6-fc50-4b2d-baf2-ddeba1b200cb"
   },
   "outputs": [
    {
     "data": {
      "text/plain": [
       "((2429, 2000), (3634, 2000))"
      ]
     },
     "execution_count": 31,
     "metadata": {
      "tags": []
     },
     "output_type": "execute_result"
    }
   ],
   "source": [
    "ecg = np.load('ecg.npy')\n",
    "arr = ecg['arrythmia']\n",
    "norm = ecg['normal']\n",
    "arr.shape, norm.shape"
   ]
  },
  {
   "cell_type": "code",
   "execution_count": 32,
   "metadata": {
    "colab": {
     "base_uri": "https://localhost:8080/",
     "height": 863
    },
    "colab_type": "code",
    "id": "8pe6cHe8yjnk",
    "outputId": "4d5533cb-4957-417d-f211-4b71e610a116"
   },
   "outputs": [
    {
     "data": {
      "image/png": "[encoded data removed]",
      "text/plain": [
       "<Figure size 1080x1080 with 4 Axes>"
      ]
     },
     "metadata": {
      "needs_background": "light",
      "tags": []
     },
     "output_type": "display_data"
    }
   ],
   "source": [
    "plt.figure(figsize=(15, 15))\n",
    "\n",
    "plt.subplot(2, 2, 1)\n",
    "plt.plot(arr[0])\n",
    "plt.legend(('Arrythmia',))\n",
    "plt.subplot(2, 2, 2)\n",
    "plt.plot(arr[100])\n",
    "plt.legend(('Arrythmia',))\n",
    "\n",
    "plt.subplot(2, 2, 3)\n",
    "plt.plot(norm[0])\n",
    "plt.legend(('Normal',))\n",
    "plt.subplot(2, 2, 4)\n",
    "plt.plot(norm[100])\n",
    "plt.legend(('Normal',));"
   ]
  },
  {
   "cell_type": "markdown",
   "metadata": {
    "colab_type": "text",
    "id": "pE-6C5Bsyjnt"
   },
   "source": [
    "Now, let's stack the `arr` and `norm` samples together, create class labels for each sample, randomly rearrange them, and divide into train and test sets."
   ]
  },
  {
   "cell_type": "code",
   "execution_count": 33,
   "metadata": {
    "colab": {
     "base_uri": "https://localhost:8080/",
     "height": 33
    },
    "colab_type": "code",
    "id": "xDLt782Eyjnu",
    "outputId": "43d861f6-c68a-4739-de8e-32eafcb540c7"
   },
   "outputs": [
    {
     "data": {
      "text/plain": [
       "((4850, 1, 2000), (4850, 1), (1213, 1, 2000), (1213, 1))"
      ]
     },
     "execution_count": 33,
     "metadata": {
      "tags": []
     },
     "output_type": "execute_result"
    }
   ],
   "source": [
    "X = np.vstack((arr, norm))\n",
    "X = X.reshape(X.shape[0], 1, -1)\n",
    "T = np.hstack((['arr'] * arr.shape[0], ['nr'] * norm.shape[0])).reshape(-1, 1)\n",
    "n_samples = X.shape[0]\n",
    "rows = np.arange(n_samples)\n",
    "np.random.shuffle(rows)\n",
    "n_train = int(n_samples * 0.8)\n",
    "Xtrain = X[rows[:n_train], ...]\n",
    "Ttrain = T[rows[:n_train], ...]\n",
    "\n",
    "Xtest = X[rows[n_train:], ...]\n",
    "Ttest = T[rows[n_train:], ...]\n",
    "\n",
    "Xtrain.shape, Ttrain.shape, Xtest.shape, Ttest.shape"
   ]
  },
  {
   "cell_type": "code",
   "execution_count": 34,
   "metadata": {
    "colab": {
     "base_uri": "https://localhost:8080/",
     "height": 133
    },
    "colab_type": "code",
    "id": "tZSKvlbcyjn4",
    "outputId": "aed3f4db-a274-4914-974c-726f278720ac"
   },
   "outputs": [
    {
     "data": {
      "text/plain": [
       "array([['arr'],\n",
       "       ['arr'],\n",
       "       ['arr'],\n",
       "       ...,\n",
       "       ['arr'],\n",
       "       ['nr'],\n",
       "       ['nr']], dtype='<U3')"
      ]
     },
     "execution_count": 34,
     "metadata": {
      "tags": []
     },
     "output_type": "execute_result"
    }
   ],
   "source": [
    "Ttrain"
   ]
  },
  {
   "cell_type": "markdown",
   "metadata": {
    "colab_type": "text",
    "id": "9KasDtayyjn-"
   },
   "source": [
    "Okay, ready to train.  Create a `CNN1D` network with a statements like this."
   ]
  },
  {
   "cell_type": "code",
   "execution_count": 35,
   "metadata": {
    "colab": {
     "base_uri": "https://localhost:8080/",
     "height": 366
    },
    "colab_type": "code",
    "id": "lJ00J-oVyjn_",
    "outputId": "81d6bf39-3120-45c2-bfdb-5cf9e513a1fb"
   },
   "outputs": [
    {
     "name": "stdout",
     "output_type": "stream",
     "text": [
      "adam: Epoch 1 Loss 0.668\n",
      "adam: Epoch 2 Loss 0.596\n",
      "adam: Epoch 3 Loss 0.556\n",
      "adam: Epoch 4 Loss 0.525\n",
      "adam: Epoch 5 Loss 0.487\n",
      "adam: Epoch 6 Loss 0.445\n",
      "adam: Epoch 7 Loss 0.409\n",
      "adam: Epoch 8 Loss 0.362\n",
      "adam: Epoch 9 Loss 0.333\n",
      "adam: Epoch 10 Loss 0.296\n"
     ]
    },
    {
     "data": {
      "text/plain": [
       "CNN1D(\n",
       "  (conv_layers): ModuleList(\n",
       "    (0): Conv1d(1, 5, kernel_size=(100,), stride=(20,))\n",
       "    (1): Conv1d(5, 10, kernel_size=(20,), stride=(5,))\n",
       "  )\n",
       "  (fc_layers): ModuleList(\n",
       "    (0): Linear(in_features=160, out_features=10, bias=True)\n",
       "    (1): Linear(in_features=10, out_features=10, bias=True)\n",
       "    (2): Linear(in_features=10, out_features=2, bias=True)\n",
       "  )\n",
       ")"
      ]
     },
     "execution_count": 35,
     "metadata": {
      "tags": []
     },
     "output_type": "execute_result"
    }
   ],
   "source": [
    "cnn1d = CNN1D(Xtrain.shape[-1], [5, 10], [10, 10], 2, [100, 20], [20, 5], device=device)\n",
    "cnn1d.train(Xtrain, Ttrain, batch_size, 10, learning_rate, method='adam')"
   ]
  },
  {
   "cell_type": "code",
   "execution_count": 0,
   "metadata": {
    "colab": {},
    "colab_type": "code",
    "id": "SPZ7fCbX4vP0"
   },
   "outputs": [],
   "source": []
  },
  {
   "cell_type": "code",
   "execution_count": 0,
   "metadata": {
    "colab": {},
    "colab_type": "code",
    "id": "5m_qwGARru_L"
   },
   "outputs": [],
   "source": [
    "def run_experiment_ecg(n_hiddens_per_conv_layer,patch_size_per_conv_layer,stride_per_conv_layer,n_hiddens_per_fc_layer,act='tanh'):\n",
    "  n_inputs=Xtrain.shape[-1]\n",
    "  n_outputs=2\n",
    "  ns=[]\n",
    "  np34=[]\n",
    "  nh1=[]\n",
    "  results=[]\n",
    "  o89=[]\n",
    "  for s1 in stride_per_conv_layer:\n",
    "      if s1 not in ns:\n",
    "        ns.append(s1)\n",
    "        for p1 in patch_size_per_conv_layer:\n",
    "          if p1 not in np34:\n",
    "            np34.append(p1)\n",
    "            for nh in n_hiddens_per_conv_layer:\n",
    "              if nh not in nh1:\n",
    "                nh1.append(nh)\n",
    "                for oi in n_hiddens_per_fc_layer:\n",
    "                  if True:\n",
    "                    o89.append(oi)\n",
    "                    print(f'For {nh} no of hidden layer ,{p1} kernel size ,{s1} patch size,{oi} fnc')\n",
    "                    cnn1d = CNN1D(n_inputs, nh, oi, n_outputs, p1, s1,act, device=device)\n",
    "                    cnn1d.train(Xtrain, Ttrain, batch_size, n_epochs, learning_rate, method='adam')\n",
    "                    #print(Xtrain.shape,cnnet.Xmeans)\n",
    "                    Train_classes, Train_probs = cnn1d.use(Xtrain)\n",
    "                    Test_classes, Test_probs = cnn1d.use(Xtest)\n",
    "                    #Validate_classes, Validate_probs = cnn1d.use(Xval)\n",
    "                    Train_percent = np.mean(Train_classes == Ttrain) * 100\n",
    "                    Test_percent = np.mean(Test_classes == Ttest) * 100 \n",
    "                    #Validate_percent = np.mean(Validate_classes == Tval) * 100 \n",
    "                    results.append([nh,p1,s1,oi, Train_percent, Test_percent])\n",
    "                    \n",
    "                break\n",
    "            break\n",
    "  df = pandas.DataFrame(results, columns=('Hidden Layers','Patch Size', 'Stride Size','FC Layer', 'Train',  'Test'))\n",
    "                \n",
    "  return df\n",
    "\n",
    "\n",
    "#cnn1d = CNN1D(n_inputs, n_hiddens_per_conv_layer, n_hiddens_per_fc_layer, n_outputs, patch_size_per_conv_layer, stride_per_conv_layer, device=device)\n",
    "#cnn1d.train(Xtrain, Ttrain, batch_size, n_epochs, learning_rate, method='adam')"
   ]
  },
  {
   "cell_type": "code",
   "execution_count": 37,
   "metadata": {
    "colab": {
     "base_uri": "https://localhost:8080/",
     "height": 1000
    },
    "colab_type": "code",
    "id": "P_xMyKaUsbaz",
    "outputId": "8e38d9d3-88a8-4013-fb23-e4d3a4afbf25"
   },
   "outputs": [
    {
     "name": "stdout",
     "output_type": "stream",
     "text": [
      "For [5] no of hidden layer ,[5] kernel size ,[3] patch size,[] fnc\n",
      "adam: Epoch 10 Loss 0.651\n",
      "adam: Epoch 20 Loss 0.634\n",
      "adam: Epoch 30 Loss 0.622\n",
      "adam: Epoch 40 Loss 0.610\n",
      "adam: Epoch 50 Loss 0.597\n",
      "adam: Epoch 60 Loss 0.585\n",
      "adam: Epoch 70 Loss 0.575\n",
      "adam: Epoch 80 Loss 0.567\n",
      "adam: Epoch 90 Loss 0.560\n",
      "adam: Epoch 100 Loss 0.554\n",
      "For [5] no of hidden layer ,[5] kernel size ,[3] patch size,[10] fnc\n",
      "adam: Epoch 10 Loss 0.551\n",
      "adam: Epoch 20 Loss 0.481\n",
      "adam: Epoch 30 Loss 0.438\n",
      "adam: Epoch 40 Loss 0.401\n",
      "adam: Epoch 50 Loss 0.382\n",
      "adam: Epoch 60 Loss 0.357\n",
      "adam: Epoch 70 Loss 0.336\n",
      "adam: Epoch 80 Loss 0.311\n",
      "adam: Epoch 90 Loss 0.306\n",
      "adam: Epoch 100 Loss 0.292\n",
      "For [5] no of hidden layer ,[5] kernel size ,[3] patch size,[10, 5] fnc\n",
      "adam: Epoch 10 Loss 0.541\n",
      "adam: Epoch 20 Loss 0.465\n",
      "adam: Epoch 30 Loss 0.421\n",
      "adam: Epoch 40 Loss 0.385\n",
      "adam: Epoch 50 Loss 0.360\n",
      "adam: Epoch 60 Loss 0.343\n",
      "adam: Epoch 70 Loss 0.322\n",
      "adam: Epoch 80 Loss 0.314\n",
      "adam: Epoch 90 Loss 0.322\n",
      "adam: Epoch 100 Loss 0.296\n",
      "For [5] no of hidden layer ,[5] kernel size ,[3] patch size,[10, 10, 5] fnc\n",
      "adam: Epoch 10 Loss 0.671\n",
      "adam: Epoch 20 Loss 0.671\n",
      "adam: Epoch 30 Loss 0.671\n",
      "adam: Epoch 40 Loss 0.671\n",
      "adam: Epoch 50 Loss 0.671\n",
      "adam: Epoch 60 Loss 0.671\n",
      "adam: Epoch 70 Loss 0.671\n",
      "adam: Epoch 80 Loss 0.671\n",
      "adam: Epoch 90 Loss 0.671\n",
      "adam: Epoch 100 Loss 0.671\n",
      "For [10, 5] no of hidden layer ,[10, 5] kernel size ,[5, 2] patch size,[] fnc\n",
      "adam: Epoch 10 Loss 0.602\n",
      "adam: Epoch 20 Loss 0.540\n",
      "adam: Epoch 30 Loss 0.525\n",
      "adam: Epoch 40 Loss 0.517\n",
      "adam: Epoch 50 Loss 0.513\n",
      "adam: Epoch 60 Loss 0.506\n",
      "adam: Epoch 70 Loss 0.502\n",
      "adam: Epoch 80 Loss 0.497\n",
      "adam: Epoch 90 Loss 0.492\n",
      "adam: Epoch 100 Loss 0.487\n",
      "For [10, 5] no of hidden layer ,[10, 5] kernel size ,[5, 2] patch size,[10] fnc\n",
      "adam: Epoch 10 Loss 0.576\n",
      "adam: Epoch 20 Loss 0.342\n",
      "adam: Epoch 30 Loss 0.236\n",
      "adam: Epoch 40 Loss 0.185\n",
      "adam: Epoch 50 Loss 0.141\n",
      "adam: Epoch 60 Loss 0.094\n",
      "adam: Epoch 70 Loss 0.062\n",
      "adam: Epoch 80 Loss 0.047\n",
      "adam: Epoch 90 Loss 0.040\n",
      "adam: Epoch 100 Loss 0.037\n",
      "For [10, 5] no of hidden layer ,[10, 5] kernel size ,[5, 2] patch size,[10, 5] fnc\n",
      "adam: Epoch 10 Loss 0.459\n",
      "adam: Epoch 20 Loss 0.312\n",
      "adam: Epoch 30 Loss 0.225\n",
      "adam: Epoch 40 Loss 0.166\n",
      "adam: Epoch 50 Loss 0.125\n",
      "adam: Epoch 60 Loss 0.102\n",
      "adam: Epoch 70 Loss 0.076\n",
      "adam: Epoch 80 Loss 0.071\n",
      "adam: Epoch 90 Loss 0.059\n",
      "adam: Epoch 100 Loss 0.063\n",
      "For [10, 5] no of hidden layer ,[10, 5] kernel size ,[5, 2] patch size,[10, 10, 5] fnc\n",
      "adam: Epoch 10 Loss 0.505\n",
      "adam: Epoch 20 Loss 0.399\n",
      "adam: Epoch 30 Loss 0.319\n",
      "adam: Epoch 40 Loss 0.268\n",
      "adam: Epoch 50 Loss 0.229\n",
      "adam: Epoch 60 Loss 0.194\n",
      "adam: Epoch 70 Loss 0.184\n",
      "adam: Epoch 80 Loss 0.162\n",
      "adam: Epoch 90 Loss 0.156\n",
      "adam: Epoch 100 Loss 0.123\n",
      "For [10, 10, 5] no of hidden layer ,[20, 10, 5] kernel size ,[10, 5, 1] patch size,[] fnc\n",
      "adam: Epoch 10 Loss 0.580\n",
      "adam: Epoch 20 Loss 0.492\n",
      "adam: Epoch 30 Loss 0.328\n",
      "adam: Epoch 40 Loss 0.224\n",
      "adam: Epoch 50 Loss 0.156\n",
      "adam: Epoch 60 Loss 0.108\n",
      "adam: Epoch 70 Loss 0.080\n",
      "adam: Epoch 80 Loss 0.062\n",
      "adam: Epoch 90 Loss 0.056\n",
      "adam: Epoch 100 Loss 0.046\n",
      "For [10, 10, 5] no of hidden layer ,[20, 10, 5] kernel size ,[10, 5, 1] patch size,[10] fnc\n",
      "adam: Epoch 10 Loss 0.534\n",
      "adam: Epoch 20 Loss 0.332\n",
      "adam: Epoch 30 Loss 0.210\n",
      "adam: Epoch 40 Loss 0.135\n",
      "adam: Epoch 50 Loss 0.082\n",
      "adam: Epoch 60 Loss 0.063\n",
      "adam: Epoch 70 Loss 0.052\n",
      "adam: Epoch 80 Loss 0.064\n",
      "adam: Epoch 90 Loss 0.027\n",
      "adam: Epoch 100 Loss 0.035\n",
      "For [10, 10, 5] no of hidden layer ,[20, 10, 5] kernel size ,[10, 5, 1] patch size,[10, 5] fnc\n",
      "adam: Epoch 10 Loss 0.449\n",
      "adam: Epoch 20 Loss 0.214\n",
      "adam: Epoch 30 Loss 0.129\n",
      "adam: Epoch 40 Loss 0.111\n",
      "adam: Epoch 50 Loss 0.067\n",
      "adam: Epoch 60 Loss 0.082\n",
      "adam: Epoch 70 Loss 0.080\n",
      "adam: Epoch 80 Loss 0.054\n",
      "adam: Epoch 90 Loss 0.062\n",
      "adam: Epoch 100 Loss 0.029\n",
      "For [10, 10, 5] no of hidden layer ,[20, 10, 5] kernel size ,[10, 5, 1] patch size,[10, 10, 5] fnc\n",
      "adam: Epoch 10 Loss 0.671\n",
      "adam: Epoch 20 Loss 0.569\n",
      "adam: Epoch 30 Loss 0.293\n",
      "adam: Epoch 40 Loss 0.183\n",
      "adam: Epoch 50 Loss 0.131\n",
      "adam: Epoch 60 Loss 0.101\n",
      "adam: Epoch 70 Loss 0.088\n",
      "adam: Epoch 80 Loss 0.066\n",
      "adam: Epoch 90 Loss 0.070\n",
      "adam: Epoch 100 Loss 0.051\n"
     ]
    }
   ],
   "source": [
    "df=run_experiment_ecg([[5],[10,5],[10,10,5]],[[5],[10,5],[20,10,5]],[[3],[5,2],[10,5,1]],[[],[10],[10,5],[10,10,5]])"
   ]
  },
  {
   "cell_type": "code",
   "execution_count": 0,
   "metadata": {
    "colab": {},
    "colab_type": "code",
    "id": "Crkmh7eNsTNt"
   },
   "outputs": [],
   "source": [
    "#df=run_experiment_ecg([[10]],[[5]],[[2]],[[50,50,10]])"
   ]
  },
  {
   "cell_type": "code",
   "execution_count": 39,
   "metadata": {
    "colab": {
     "base_uri": "https://localhost:8080/",
     "height": 407
    },
    "colab_type": "code",
    "id": "OsJNvyF6b7et",
    "outputId": "527bf0ff-8624-47a4-8510-19cbd46cf7dc"
   },
   "outputs": [
    {
     "data": {
      "text/html": [
       "<div>\n",
       "<style scoped>\n",
       "    .dataframe tbody tr th:only-of-type {\n",
       "        vertical-align: middle;\n",
       "    }\n",
       "\n",
       "    .dataframe tbody tr th {\n",
       "        vertical-align: top;\n",
       "    }\n",
       "\n",
       "    .dataframe thead th {\n",
       "        text-align: right;\n",
       "    }\n",
       "</style>\n",
       "<table border=\"1\" class=\"dataframe\">\n",
       "  <thead>\n",
       "    <tr style=\"text-align: right;\">\n",
       "      <th></th>\n",
       "      <th>Hidden Layers</th>\n",
       "      <th>Patch Size</th>\n",
       "      <th>Stride Size</th>\n",
       "      <th>FC Layer</th>\n",
       "      <th>Train</th>\n",
       "      <th>Test</th>\n",
       "    </tr>\n",
       "  </thead>\n",
       "  <tbody>\n",
       "    <tr>\n",
       "      <th>0</th>\n",
       "      <td>[5]</td>\n",
       "      <td>[5]</td>\n",
       "      <td>[3]</td>\n",
       "      <td>[]</td>\n",
       "      <td>66.865979</td>\n",
       "      <td>54.740313</td>\n",
       "    </tr>\n",
       "    <tr>\n",
       "      <th>1</th>\n",
       "      <td>[5]</td>\n",
       "      <td>[5]</td>\n",
       "      <td>[3]</td>\n",
       "      <td>[10]</td>\n",
       "      <td>86.597938</td>\n",
       "      <td>67.600989</td>\n",
       "    </tr>\n",
       "    <tr>\n",
       "      <th>2</th>\n",
       "      <td>[5]</td>\n",
       "      <td>[5]</td>\n",
       "      <td>[3]</td>\n",
       "      <td>[10, 5]</td>\n",
       "      <td>85.731959</td>\n",
       "      <td>66.034625</td>\n",
       "    </tr>\n",
       "    <tr>\n",
       "      <th>3</th>\n",
       "      <td>[5]</td>\n",
       "      <td>[5]</td>\n",
       "      <td>[3]</td>\n",
       "      <td>[10, 10, 5]</td>\n",
       "      <td>60.659794</td>\n",
       "      <td>57.048640</td>\n",
       "    </tr>\n",
       "    <tr>\n",
       "      <th>4</th>\n",
       "      <td>[10, 5]</td>\n",
       "      <td>[10, 5]</td>\n",
       "      <td>[5, 2]</td>\n",
       "      <td>[]</td>\n",
       "      <td>70.247423</td>\n",
       "      <td>61.582852</td>\n",
       "    </tr>\n",
       "    <tr>\n",
       "      <th>5</th>\n",
       "      <td>[10, 5]</td>\n",
       "      <td>[10, 5]</td>\n",
       "      <td>[5, 2]</td>\n",
       "      <td>[10]</td>\n",
       "      <td>97.113402</td>\n",
       "      <td>65.127782</td>\n",
       "    </tr>\n",
       "    <tr>\n",
       "      <th>6</th>\n",
       "      <td>[10, 5]</td>\n",
       "      <td>[10, 5]</td>\n",
       "      <td>[5, 2]</td>\n",
       "      <td>[10, 5]</td>\n",
       "      <td>88.948454</td>\n",
       "      <td>64.303380</td>\n",
       "    </tr>\n",
       "    <tr>\n",
       "      <th>7</th>\n",
       "      <td>[10, 5]</td>\n",
       "      <td>[10, 5]</td>\n",
       "      <td>[5, 2]</td>\n",
       "      <td>[10, 10, 5]</td>\n",
       "      <td>94.515464</td>\n",
       "      <td>64.550701</td>\n",
       "    </tr>\n",
       "    <tr>\n",
       "      <th>8</th>\n",
       "      <td>[10, 10, 5]</td>\n",
       "      <td>[20, 10, 5]</td>\n",
       "      <td>[10, 5, 1]</td>\n",
       "      <td>[]</td>\n",
       "      <td>98.144330</td>\n",
       "      <td>92.827700</td>\n",
       "    </tr>\n",
       "    <tr>\n",
       "      <th>9</th>\n",
       "      <td>[10, 10, 5]</td>\n",
       "      <td>[20, 10, 5]</td>\n",
       "      <td>[10, 5, 1]</td>\n",
       "      <td>[10]</td>\n",
       "      <td>96.082474</td>\n",
       "      <td>85.985161</td>\n",
       "    </tr>\n",
       "    <tr>\n",
       "      <th>10</th>\n",
       "      <td>[10, 10, 5]</td>\n",
       "      <td>[20, 10, 5]</td>\n",
       "      <td>[10, 5, 1]</td>\n",
       "      <td>[10, 5]</td>\n",
       "      <td>96.742268</td>\n",
       "      <td>86.644683</td>\n",
       "    </tr>\n",
       "    <tr>\n",
       "      <th>11</th>\n",
       "      <td>[10, 10, 5]</td>\n",
       "      <td>[20, 10, 5]</td>\n",
       "      <td>[10, 5, 1]</td>\n",
       "      <td>[10, 10, 5]</td>\n",
       "      <td>95.443299</td>\n",
       "      <td>82.357791</td>\n",
       "    </tr>\n",
       "  </tbody>\n",
       "</table>\n",
       "</div>"
      ],
      "text/plain": [
       "   Hidden Layers   Patch Size Stride Size     FC Layer      Train       Test\n",
       "0            [5]          [5]         [3]           []  66.865979  54.740313\n",
       "1            [5]          [5]         [3]         [10]  86.597938  67.600989\n",
       "2            [5]          [5]         [3]      [10, 5]  85.731959  66.034625\n",
       "3            [5]          [5]         [3]  [10, 10, 5]  60.659794  57.048640\n",
       "4        [10, 5]      [10, 5]      [5, 2]           []  70.247423  61.582852\n",
       "5        [10, 5]      [10, 5]      [5, 2]         [10]  97.113402  65.127782\n",
       "6        [10, 5]      [10, 5]      [5, 2]      [10, 5]  88.948454  64.303380\n",
       "7        [10, 5]      [10, 5]      [5, 2]  [10, 10, 5]  94.515464  64.550701\n",
       "8    [10, 10, 5]  [20, 10, 5]  [10, 5, 1]           []  98.144330  92.827700\n",
       "9    [10, 10, 5]  [20, 10, 5]  [10, 5, 1]         [10]  96.082474  85.985161\n",
       "10   [10, 10, 5]  [20, 10, 5]  [10, 5, 1]      [10, 5]  96.742268  86.644683\n",
       "11   [10, 10, 5]  [20, 10, 5]  [10, 5, 1]  [10, 10, 5]  95.443299  82.357791"
      ]
     },
     "execution_count": 39,
     "metadata": {
      "tags": []
     },
     "output_type": "execute_result"
    }
   ],
   "source": [
    "df"
   ]
  },
  {
   "cell_type": "markdown",
   "metadata": {
    "colab_type": "text",
    "id": "gHINcwPxqkc2"
   },
   "source": [
    "Best configuration :\n",
    "hidden layer - [10,10,5]\n",
    "Patch size - [20,10,5]\n",
    "Stride size - [10,5,1]\n",
    "Fully Connected Layer - [ ]\n",
    "\n",
    "The test accuracy is this configuration is 92.82%.\n",
    "Adding more fully connected layer makes the model overfit the data as the testing accuracy decreases with more fully connected layer.\n",
    "When a smaller convolution layer is used the model was not able to train properly. Both Training and Testing accuracy was smaller in this case. "
   ]
  },
  {
   "cell_type": "code",
   "execution_count": 0,
   "metadata": {
    "colab": {},
    "colab_type": "code",
    "id": "tHSl9vsXwr1A"
   },
   "outputs": [],
   "source": []
  },
  {
   "cell_type": "code",
   "execution_count": 0,
   "metadata": {
    "colab": {},
    "colab_type": "code",
    "id": "0GdMfds6wsm8"
   },
   "outputs": [],
   "source": [
    "#df=run_experiment_ecg([[10,10]],[[5,5]],[[3,3]],[[10,5]],'relu')"
   ]
  },
  {
   "cell_type": "markdown",
   "metadata": {
    "colab_type": "text",
    "id": "CgMKUr2yyjoE"
   },
   "source": [
    "Now, experiment with at least ten different network structures, patch sizes and strides and compare them with the percent accuracy on test data.  Combine the results of each of your runs and display them in a `pandas.Dataframe` that includes the network structure and percent correct on train and test sets. Discuss your results, and describe the network structure and training parameters that produced the best test results."
   ]
  },
  {
   "cell_type": "markdown",
   "metadata": {
    "colab_type": "text",
    "id": "VZZs0nMNyjoF"
   },
   "source": [
    "## Grading and Check-In\n",
    "Download [A5grader.zip](https://www.cs.colostate.edu/~anderson/cs445/notebooks/A5grader.zip) and extract A5grader.py from it. Run the code in the following cell to demonstrate an example grading session. Remember to test your code with additional tests of your own design. Your notebook must be named as Lastname-A5.ipynb.  \n",
    "\n",
    "When ready, submit your notebook via the A5 link in our class Canvas web page."
   ]
  },
  {
   "cell_type": "code",
   "execution_count": 42,
   "metadata": {
    "colab": {
     "base_uri": "https://localhost:8080/",
     "height": 1000
    },
    "colab_type": "code",
    "id": "sT6VsG57yjoG",
    "outputId": "ec1324f7-a1b2-4ce9-deac-82d75c3a60f4"
   },
   "outputs": [
    {
     "name": "stdout",
     "output_type": "stream",
     "text": [
      "\n",
      "======================= Code Execution =======================\n",
      "\n",
      "Extracting python code from notebook named 'Chakraborty-A5_4.ipynb' and storing in notebookcode.py\n",
      "Removing all statements that are not function or class defs or import statements.\n",
      "\n",
      "Testing\n",
      "\n",
      "    xs = np.arange(100)\n",
      "    n_each = 500\n",
      "    n_samples = n_each * 2\n",
      "    X = np.array([np.sin(xs / 2) + np.random.normal(0, 1, size=100) for i in range(n_each)] +\n",
      "                 [np.sin(xs / 3) + np.random.normal(0, 1, size=100) for i in range(n_each)])\n",
      "    X = X[:, np.newaxis, :]\n",
      "    T = np.array([2] * n_each + [3] * n_each).reshape(-1, 1)\n",
      "    rows = np.arange(n_samples)\n",
      "    np.random.shuffle(rows)\n",
      "    X = X[rows, ...]\n",
      "    T = T[rows, ...]\n",
      "    n_train = int(n_samples * 0.8)\n",
      "    Xtrain = X[:n_train, ...]\n",
      "    Ttrain = T[:n_train, :]\n",
      "    Xtest = X[n_train:, ...]\n",
      "    Ttest = T[n_train:, :]\n",
      "\n",
      "    cnn1d = CNN1D(100, [5, 5], [3], 2, [10, 5], [1, 2])\n",
      "    cnn1d.train(Xtrain, Ttrain, 10, 20, 0.01, method='adam')\n",
      "\n",
      "    perc_train = 100 * np.mean(cnn1d.use(Xtrain)[0] == Ttrain)\n",
      "    perc_test = 100 * np.mean(cnn1d.use(Xtest)[0] == Ttest)\n",
      "\n",
      "adam: Epoch 2 Loss 0.020\n",
      "adam: Epoch 4 Loss 0.006\n",
      "adam: Epoch 6 Loss 0.003\n",
      "adam: Epoch 8 Loss 0.002\n",
      "adam: Epoch 10 Loss 0.001\n",
      "adam: Epoch 12 Loss 0.001\n",
      "adam: Epoch 14 Loss 0.001\n",
      "adam: Epoch 16 Loss 0.001\n",
      "adam: Epoch 18 Loss 0.000\n",
      "adam: Epoch 20 Loss 0.000\n",
      "\n",
      "--- 40/40 points.  perc_train is correctly 100%.\n",
      "\n",
      "--- 40/40 points.  perc_test is correctly 100%.\n",
      "\n",
      "======================================================================\n",
      "content Execution Grade is 80 / 80\n",
      "======================================================================\n",
      "\n",
      " __ / 10 Based on results of experiments with MNIST data.\n",
      "\n",
      " __ / 10 Based on results of experiments with ECG data.\n",
      "\n",
      "======================================================================\n",
      "content FINAL GRADE is  _  / 100\n",
      "======================================================================\n",
      "\n",
      "Extra Credit:\n",
      "\n",
      "Earn up to 3 extra credit points on this assignment by doing any or all of the following experiments.\n",
      "\n",
      "1. Compare your results on the MNIST data by using relu versus tanh activation functions. Show and \n",
      "   discuss the results.\n",
      "\n",
      "2. Compare your results on the MNIST data using adam versus sgd. Show and discuss the results.\n",
      "\n",
      "3. Download another image data set, apply your CNN2D class to this data and discuss the results.\n",
      "\n",
      "content EXTRA CREDIT is 0 / 3\n"
     ]
    },
    {
     "data": {
      "text/plain": [
       "<Figure size 432x288 with 0 Axes>"
      ]
     },
     "metadata": {
      "tags": []
     },
     "output_type": "display_data"
    }
   ],
   "source": [
    "%run -i A5grader.py"
   ]
  },
  {
   "cell_type": "markdown",
   "metadata": {
    "colab_type": "text",
    "id": "KipChxv1yjoM"
   },
   "source": [
    "## Extra Credit\n",
    "Earn up to 3 extra credit points on this assignment by doing any or all of the following experiments. \n",
    "\n",
    "1. Compare your results on the MNIST data by using `relu` versus `tanh` activation functions. Show and discuss the results.\n",
    "2. Compare your results on the MNIST data using `adam` versus `sgd`. Show and discuss the results.\n",
    "3. Download another image data set, apply your `CNN2D` class to this data and discuss the results."
   ]
  },
  {
   "cell_type": "code",
   "execution_count": 15,
   "metadata": {
    "colab": {
     "base_uri": "https://localhost:8080/",
     "height": 33
    },
    "colab_type": "code",
    "id": "E2pBidITwo-K",
    "outputId": "9892b840-dbf9-4108-ebc3-89ce33f3bed3"
   },
   "outputs": [
    {
     "name": "stdout",
     "output_type": "stream",
     "text": [
      "(50000, 1, 28, 28) (50000, 1) (10000, 1, 28, 28) (10000, 1) (10000, 1, 28, 28) (10000, 1)\n"
     ]
    }
   ],
   "source": [
    "import pickle\n",
    "import gzip\n",
    "\n",
    "with gzip.open('mnist.pkl.gz', 'rb') as f:\n",
    "    train_set, valid_set, test_set = pickle.load(f, encoding='latin1')\n",
    "\n",
    "Xtrain = train_set[0]\n",
    "Ttrain = (train_set[1]).reshape(-1, 1)\n",
    "\n",
    "Xval = valid_set[0]\n",
    "Tval = valid_set[1].reshape(-1, 1)\n",
    "\n",
    "Xtest = test_set[0]\n",
    "Ttest = test_set[1].reshape(-1, 1)\n",
    "\n",
    "Xtrain = Xtrain.reshape(-1, 1, 28, 28)\n",
    "Xtest = Xtest.reshape(-1, 1, 28, 28)\n",
    "Xval = Xval.reshape(-1, 1, 28, 28)\n",
    "\n",
    "\n",
    "print(Xtrain.shape, Ttrain.shape,  Xval.shape, Tval.shape,  Xtest.shape, Ttest.shape)"
   ]
  },
  {
   "cell_type": "code",
   "execution_count": 0,
   "metadata": {
    "colab": {},
    "colab_type": "code",
    "id": "_yTYFndJthgV"
   },
   "outputs": [],
   "source": [
    "def run_experiment(n_hiddens_per_conv_layer,patch_size_per_conv_layer,stride_per_conv_layer,n_hiddens_per_fc_layer,act='tanh'):\n",
    "  results = []\n",
    "  nh1=[]\n",
    "  np34=[]\n",
    "  ns=[]\n",
    "\n",
    "\n",
    "  n_epochs = 20\n",
    "  batch_size = 500\n",
    "  learning_rate = 0.01\n",
    "  for s1 in stride_per_conv_layer:\n",
    "    if s1 not in ns:\n",
    "      ns.append(s1)\n",
    "      for p1 in patch_size_per_conv_layer:\n",
    "        if p1 not in np34:\n",
    "          np34.append(p1)\n",
    "          for nh in n_hiddens_per_conv_layer:\n",
    "            if nh not in nh1:\n",
    "              nh1.append(nh)\n",
    "              print(f'For {nh} no of hidden layer ,{p1} kernel size ,{s1} patch size')\n",
    "              cnnet = CNN2D(28 * 28, nh, n_hiddens_per_fc_layer, Pr, p1, s1, device=device)\n",
    "\n",
    "              cnnet.train(Xtrain, Ttrain, batch_size, n_epochs, learning_rate, method='adam')\n",
    "              Train_classes, Train_probs = cnnet.use(Xtrain)\n",
    "              Test_classes, Test_probs = cnnet.use(Xtest)\n",
    "              Validate_classes, Validate_probs = cnnet.use(Xval)\n",
    "              Train_percent = np.mean(Train_classes == Ttrain) * 100\n",
    "              Test_percent = np.mean(Test_classes == Ttest) * 100 \n",
    "              Validate_percent = np.mean(Validate_classes == Tval) * 100 \n",
    "              results.append([nh,p1,s1, Train_percent, Test_percent, Validate_percent])\n",
    "              df = pandas.DataFrame(results, columns=('Hidden Layers','Patch Size ','Stride Size', 'Train', 'Validate', 'Test'))\n",
    "              break\n",
    "          break\n",
    "  return df\n",
    "\n"
   ]
  },
  {
   "cell_type": "code",
   "execution_count": 20,
   "metadata": {
    "colab": {
     "base_uri": "https://localhost:8080/",
     "height": 650
    },
    "colab_type": "code",
    "id": "4xARQHi2t_Ji",
    "outputId": "45df832a-20e1-4323-ee9d-e0a1bca7abf9"
   },
   "outputs": [
    {
     "name": "stdout",
     "output_type": "stream",
     "text": [
      "For [10] no of hidden layer ,[5] kernel size ,[2] patch size\n",
      "adam: Epoch 2 Loss 0.237\n",
      "adam: Epoch 4 Loss 0.141\n",
      "adam: Epoch 6 Loss 0.098\n",
      "adam: Epoch 8 Loss 0.078\n",
      "adam: Epoch 10 Loss 0.065\n",
      "adam: Epoch 12 Loss 0.058\n",
      "adam: Epoch 14 Loss 0.053\n",
      "adam: Epoch 16 Loss 0.058\n",
      "adam: Epoch 18 Loss 0.055\n",
      "adam: Epoch 20 Loss 0.042\n",
      "For [10, 10] no of hidden layer ,[5, 5] kernel size ,[2, 2] patch size\n",
      "adam: Epoch 2 Loss 0.191\n",
      "adam: Epoch 4 Loss 0.119\n",
      "adam: Epoch 6 Loss 0.094\n",
      "adam: Epoch 8 Loss 0.079\n",
      "adam: Epoch 10 Loss 0.074\n",
      "adam: Epoch 12 Loss 0.067\n",
      "adam: Epoch 14 Loss 0.063\n",
      "adam: Epoch 16 Loss 0.061\n",
      "adam: Epoch 18 Loss 0.056\n",
      "adam: Epoch 20 Loss 0.054\n",
      "For [10, 10, 10] no of hidden layer ,[5, 5, 5] kernel size ,[1, 1, 1] patch size\n",
      "adam: Epoch 2 Loss 0.164\n",
      "adam: Epoch 4 Loss 0.160\n",
      "adam: Epoch 6 Loss 0.142\n",
      "adam: Epoch 8 Loss 0.169\n",
      "adam: Epoch 10 Loss 0.102\n",
      "adam: Epoch 12 Loss 0.100\n",
      "adam: Epoch 14 Loss 0.120\n",
      "adam: Epoch 16 Loss 0.095\n",
      "adam: Epoch 18 Loss 0.085\n",
      "adam: Epoch 20 Loss 0.098\n",
      "FOR tanh ACTIVATION\n",
      "  Hidden Layers Patch Size  Stride Size   Train  Validate   Test\n",
      "0          [10]         [5]         [2]  98.568     96.42  96.51\n",
      "1      [10, 10]      [5, 5]      [2, 2]  97.876     96.85  96.88\n",
      "2  [10, 10, 10]   [5, 5, 5]   [1, 1, 1]  98.928     97.86  97.61\n"
     ]
    }
   ],
   "source": [
    "df=run_experiment([[10],[10,10],[10,10,10]],[[5],[5,5],[5,5,5]],[[2],[2,2],[1,1,1]],[],'tanh')\n",
    "print(\"FOR tanh ACTIVATION\")\n",
    "print (df)"
   ]
  },
  {
   "cell_type": "code",
   "execution_count": 0,
   "metadata": {
    "colab": {},
    "colab_type": "code",
    "id": "UEc787I4uZyx"
   },
   "outputs": [],
   "source": [
    "def best_config(n_hiddens_per_conv_layer,patch_size_per_conv_layer,stride_per_conv_layer,n_hiddens_per_fc_layer,act='tanh'):\n",
    "  n_epochs = 20\n",
    "  batch_size = 500\n",
    "  learning_rate = 0.01\n",
    "  results1=[]\n",
    "  for fc in n_hiddens_per_fc_layer: \n",
    "      cnnet = CNN2D(28 * 28, n_hiddens_per_conv_layer, fc, len(np.unique(Ttrain)), \n",
    "              patch_size_per_conv_layer, stride_per_conv_layer, device=device)\n",
    "\n",
    "\n",
    "      cnnet.train(Xtrain, Ttrain, batch_size, n_epochs, learning_rate, method='adam')\n",
    "      Train_classes, Train_probs = cnnet.use(Xtrain)\n",
    "      Test_classes, Test_probs = cnnet.use(Xtest)\n",
    "      Validate_classes, Validate_probs = cnnet.use(Xval)\n",
    "      Train_percent = np.mean(Train_classes == Ttrain) * 100\n",
    "      Test_percent = np.mean(Test_classes == Ttest) * 100 \n",
    "      Validate_percent = np.mean(Validate_classes == Tval) * 100 \n",
    "      results1.append([n_hiddens_per_conv_layer, fc , Train_percent, Test_percent, Validate_percent])\n",
    "      df1 = pandas.DataFrame(results1, columns=('Conv Layers', 'FC Layer', 'Train', 'Validate', 'Test'))\n",
    "    \n",
    "  return df1\n",
    "\n"
   ]
  },
  {
   "cell_type": "code",
   "execution_count": 22,
   "metadata": {
    "colab": {
     "base_uri": "https://localhost:8080/",
     "height": 600
    },
    "colab_type": "code",
    "id": "7gNe2gzku9W2",
    "outputId": "7a32e8ed-f32b-4d33-ebb0-97507fd1e845"
   },
   "outputs": [
    {
     "name": "stdout",
     "output_type": "stream",
     "text": [
      "For Best Configuration for Tanh\n",
      "adam: Epoch 2 Loss 0.187\n",
      "adam: Epoch 4 Loss 0.152\n",
      "adam: Epoch 6 Loss 0.180\n",
      "adam: Epoch 8 Loss 0.187\n",
      "adam: Epoch 10 Loss 0.128\n",
      "adam: Epoch 12 Loss 0.101\n",
      "adam: Epoch 14 Loss 0.090\n",
      "adam: Epoch 16 Loss 0.088\n",
      "adam: Epoch 18 Loss 0.092\n",
      "adam: Epoch 20 Loss 0.088\n",
      "adam: Epoch 2 Loss 0.321\n",
      "adam: Epoch 4 Loss 0.242\n",
      "adam: Epoch 6 Loss 0.211\n",
      "adam: Epoch 8 Loss 0.186\n",
      "adam: Epoch 10 Loss 0.194\n",
      "adam: Epoch 12 Loss 0.174\n",
      "adam: Epoch 14 Loss 0.167\n",
      "adam: Epoch 16 Loss 0.174\n",
      "adam: Epoch 18 Loss 0.174\n",
      "adam: Epoch 20 Loss 0.189\n",
      "adam: Epoch 2 Loss 0.389\n",
      "adam: Epoch 4 Loss 0.287\n",
      "adam: Epoch 6 Loss 0.262\n",
      "adam: Epoch 8 Loss 0.236\n",
      "adam: Epoch 10 Loss 0.242\n",
      "adam: Epoch 12 Loss 0.227\n",
      "adam: Epoch 14 Loss 0.228\n",
      "adam: Epoch 16 Loss 0.194\n",
      "adam: Epoch 18 Loss 0.190\n",
      "adam: Epoch 20 Loss 0.198\n",
      "    Conv Layers  FC Layer   Train  Validate   Test\n",
      "0  [10, 10, 10]        []  99.022     97.74  97.81\n",
      "1  [10, 10, 10]      [10]  95.020     95.63  95.25\n",
      "2  [10, 10, 10]  [10, 10]  93.148     93.21  93.53\n"
     ]
    }
   ],
   "source": [
    "print(\"For Best Configuration for Tanh\")\n",
    "df1=best_config([10,10,10],[5,5,5],[1,1,1],[[],[10],[10,10]])\n",
    "print(df1)\n"
   ]
  },
  {
   "cell_type": "code",
   "execution_count": 23,
   "metadata": {
    "colab": {
     "base_uri": "https://localhost:8080/",
     "height": 650
    },
    "colab_type": "code",
    "id": "538LwXoWvYyf",
    "outputId": "9017f163-9e81-4b21-c8d8-17430a4c0cf9"
   },
   "outputs": [
    {
     "name": "stdout",
     "output_type": "stream",
     "text": [
      "For [10] no of hidden layer ,[5] kernel size ,[2] patch size\n",
      "adam: Epoch 2 Loss 0.234\n",
      "adam: Epoch 4 Loss 0.131\n",
      "adam: Epoch 6 Loss 0.094\n",
      "adam: Epoch 8 Loss 0.073\n",
      "adam: Epoch 10 Loss 0.061\n",
      "adam: Epoch 12 Loss 0.056\n",
      "adam: Epoch 14 Loss 0.048\n",
      "adam: Epoch 16 Loss 0.044\n",
      "adam: Epoch 18 Loss 0.047\n",
      "adam: Epoch 20 Loss 0.054\n",
      "For [10, 10] no of hidden layer ,[5, 5] kernel size ,[2, 2] patch size\n",
      "adam: Epoch 2 Loss 0.193\n",
      "adam: Epoch 4 Loss 0.117\n",
      "adam: Epoch 6 Loss 0.093\n",
      "adam: Epoch 8 Loss 0.077\n",
      "adam: Epoch 10 Loss 0.069\n",
      "adam: Epoch 12 Loss 0.063\n",
      "adam: Epoch 14 Loss 0.060\n",
      "adam: Epoch 16 Loss 0.059\n",
      "adam: Epoch 18 Loss 0.062\n",
      "adam: Epoch 20 Loss 0.057\n",
      "For [10, 10, 10] no of hidden layer ,[5, 5, 5] kernel size ,[1, 1, 1] patch size\n",
      "adam: Epoch 2 Loss 0.203\n",
      "adam: Epoch 4 Loss 0.163\n",
      "adam: Epoch 6 Loss 0.153\n",
      "adam: Epoch 8 Loss 0.133\n",
      "adam: Epoch 10 Loss 0.101\n",
      "adam: Epoch 12 Loss 0.089\n",
      "adam: Epoch 14 Loss 0.101\n",
      "adam: Epoch 16 Loss 0.073\n",
      "adam: Epoch 18 Loss 0.102\n",
      "adam: Epoch 20 Loss 0.080\n",
      "FOR relu ACTIVATION\n",
      "  Hidden Layers Patch Size  Stride Size   Train  Validate   Test\n",
      "0          [10]         [5]         [2]  98.100     96.35  96.55\n",
      "1      [10, 10]      [5, 5]      [2, 2]  97.702     96.28  96.54\n",
      "2  [10, 10, 10]   [5, 5, 5]   [1, 1, 1]  99.022     97.98  97.88\n"
     ]
    }
   ],
   "source": [
    "df=run_experiment([[10],[10,10],[10,10,10]],[[5],[5,5],[5,5,5]],[[2],[2,2],[1,1,1]],[],'relu')\n",
    "print(\"FOR relu ACTIVATION\")\n",
    "print (df)"
   ]
  },
  {
   "cell_type": "code",
   "execution_count": 24,
   "metadata": {
    "colab": {
     "base_uri": "https://localhost:8080/",
     "height": 600
    },
    "colab_type": "code",
    "id": "B44DX2QhwbXl",
    "outputId": "127fccfe-7f09-46ad-f861-fb491dc1d7e3"
   },
   "outputs": [
    {
     "name": "stdout",
     "output_type": "stream",
     "text": [
      "For Best Configuration for Relu\n",
      "adam: Epoch 2 Loss 0.176\n",
      "adam: Epoch 4 Loss 0.163\n",
      "adam: Epoch 6 Loss 0.158\n",
      "adam: Epoch 8 Loss 0.140\n",
      "adam: Epoch 10 Loss 0.099\n",
      "adam: Epoch 12 Loss 0.127\n",
      "adam: Epoch 14 Loss 0.091\n",
      "adam: Epoch 16 Loss 0.102\n",
      "adam: Epoch 18 Loss 0.092\n",
      "adam: Epoch 20 Loss 0.077\n",
      "adam: Epoch 2 Loss 0.361\n",
      "adam: Epoch 4 Loss 0.244\n",
      "adam: Epoch 6 Loss 0.229\n",
      "adam: Epoch 8 Loss 0.208\n",
      "adam: Epoch 10 Loss 0.184\n",
      "adam: Epoch 12 Loss 0.201\n",
      "adam: Epoch 14 Loss 0.175\n",
      "adam: Epoch 16 Loss 0.162\n",
      "adam: Epoch 18 Loss 0.161\n",
      "adam: Epoch 20 Loss 0.165\n",
      "adam: Epoch 2 Loss 0.399\n",
      "adam: Epoch 4 Loss 0.288\n",
      "adam: Epoch 6 Loss 0.265\n",
      "adam: Epoch 8 Loss 0.239\n",
      "adam: Epoch 10 Loss 0.236\n",
      "adam: Epoch 12 Loss 0.212\n",
      "adam: Epoch 14 Loss 0.210\n",
      "adam: Epoch 16 Loss 0.208\n",
      "adam: Epoch 18 Loss 0.190\n",
      "adam: Epoch 20 Loss 0.197\n",
      "    Conv Layers  FC Layer   Train  Validate   Test\n",
      "0  [10, 10, 10]        []  99.250     98.05  97.99\n",
      "1  [10, 10, 10]      [10]  94.644     94.80  94.96\n",
      "2  [10, 10, 10]  [10, 10]  93.880     94.14  94.24\n"
     ]
    }
   ],
   "source": [
    "print(\"For Best Configuration for Relu\")\n",
    "df1=best_config([10,10,10],[5,5,5],[1,1,1],[[],[10],[10,10]])\n",
    "print(df1)\n"
   ]
  },
  {
   "cell_type": "markdown",
   "metadata": {
    "colab_type": "text",
    "id": "DO7CmAyJ6jKT"
   },
   "source": [
    "For both the activation function, the best configuration remains same.However, the testing accuracy in the case of relu activation is higher than that of tanh. \n",
    "\n",
    "Best configuration-\n",
    "\n",
    "Conv Layer-[10,10,10]\n",
    "Patch Size- [5,5,5]\n",
    "Stride Size - [1,1,1]\n",
    "FC Layer- [ ]\n",
    "\n",
    "Testing accuracy of tanh= 97.81\n",
    "\n",
    "Testing accuracy of relu= 97.99"
   ]
  },
  {
   "cell_type": "code",
   "execution_count": 25,
   "metadata": {
    "colab": {
     "base_uri": "https://localhost:8080/",
     "height": 33
    },
    "colab_type": "code",
    "id": "izB77HGOwoGL",
    "outputId": "569a5441-c4a9-4dab-acbf-2314e7905dfb"
   },
   "outputs": [
    {
     "name": "stdout",
     "output_type": "stream",
     "text": [
      "For ADAM OPTIMIZER: \n"
     ]
    }
   ],
   "source": [
    "print(\"For ADAM OPTIMIZER: \")\n",
    "def run_experiment(n_hiddens_per_conv_layer,patch_size_per_conv_layer,stride_per_conv_layer,n_hiddens_per_fc_layer,act='tanh'):\n",
    "  results = []\n",
    "  nh1=[]\n",
    "  np34=[]\n",
    "  ns=[]\n",
    "\n",
    "\n",
    "  n_epochs = 20\n",
    "  batch_size = 500\n",
    "  learning_rate = 0.01\n",
    "  for s1 in stride_per_conv_layer:\n",
    "    if s1 not in ns:\n",
    "      ns.append(s1)\n",
    "      for p1 in patch_size_per_conv_layer:\n",
    "        if p1 not in np34:\n",
    "          np34.append(p1)\n",
    "          for nh in n_hiddens_per_conv_layer:\n",
    "            if nh not in nh1:\n",
    "              nh1.append(nh)\n",
    "              print(f'For {nh} no of hidden layer ,{p1} kernel size ,{s1} patch size')\n",
    "              cnnet = CNN2D(28 * 28, nh, n_hiddens_per_fc_layer, Pr, p1, s1, device=device)\n",
    "\n",
    "              cnnet.train(Xtrain, Ttrain, batch_size, n_epochs, learning_rate, method='adam')\n",
    "              Train_classes, Train_probs = cnnet.use(Xtrain)\n",
    "              Test_classes, Test_probs = cnnet.use(Xtest)\n",
    "              Validate_classes, Validate_probs = cnnet.use(Xval)\n",
    "              Train_percent = np.mean(Train_classes == Ttrain) * 100\n",
    "              Test_percent = np.mean(Test_classes == Ttest) * 100 \n",
    "              Validate_percent = np.mean(Validate_classes == Tval) * 100 \n",
    "              results.append([nh, p1,s1,Train_percent, Test_percent, Validate_percent])\n",
    "              df = pandas.DataFrame(results, columns=('Hidden Layers','Patch Size','Stride Size' ,'Train', 'Validate', 'Test'))\n",
    "              break\n",
    "          break\n",
    "  return df\n",
    "\n"
   ]
  },
  {
   "cell_type": "code",
   "execution_count": 26,
   "metadata": {
    "colab": {
     "base_uri": "https://localhost:8080/",
     "height": 650
    },
    "colab_type": "code",
    "id": "Wgo3CH1dy0et",
    "outputId": "3564ba91-4c0f-40e0-bc1d-12752480aa12"
   },
   "outputs": [
    {
     "name": "stdout",
     "output_type": "stream",
     "text": [
      "For [10] no of hidden layer ,[5] kernel size ,[2] patch size\n",
      "adam: Epoch 2 Loss 0.235\n",
      "adam: Epoch 4 Loss 0.134\n",
      "adam: Epoch 6 Loss 0.092\n",
      "adam: Epoch 8 Loss 0.067\n",
      "adam: Epoch 10 Loss 0.058\n",
      "adam: Epoch 12 Loss 0.056\n",
      "adam: Epoch 14 Loss 0.058\n",
      "adam: Epoch 16 Loss 0.049\n",
      "adam: Epoch 18 Loss 0.048\n",
      "adam: Epoch 20 Loss 0.036\n",
      "For [10, 10] no of hidden layer ,[5, 5] kernel size ,[2, 2] patch size\n",
      "adam: Epoch 2 Loss 0.187\n",
      "adam: Epoch 4 Loss 0.119\n",
      "adam: Epoch 6 Loss 0.098\n",
      "adam: Epoch 8 Loss 0.082\n",
      "adam: Epoch 10 Loss 0.073\n",
      "adam: Epoch 12 Loss 0.068\n",
      "adam: Epoch 14 Loss 0.063\n",
      "adam: Epoch 16 Loss 0.061\n",
      "adam: Epoch 18 Loss 0.058\n",
      "adam: Epoch 20 Loss 0.060\n",
      "For [10, 10, 10] no of hidden layer ,[5, 5, 5] kernel size ,[1, 1, 1] patch size\n",
      "adam: Epoch 2 Loss 0.159\n",
      "adam: Epoch 4 Loss 0.124\n",
      "adam: Epoch 6 Loss 0.311\n",
      "adam: Epoch 8 Loss 0.151\n",
      "adam: Epoch 10 Loss 0.104\n",
      "adam: Epoch 12 Loss 0.081\n",
      "adam: Epoch 14 Loss 0.082\n",
      "adam: Epoch 16 Loss 0.064\n",
      "adam: Epoch 18 Loss 0.074\n",
      "adam: Epoch 20 Loss 0.068\n",
      "FOR ADAM: \n",
      "  Hidden Layers Patch Size Stride Size   Train  Validate   Test\n",
      "0          [10]        [5]         [2]  98.598     96.75  96.75\n",
      "1      [10, 10]     [5, 5]      [2, 2]  97.620     96.40  96.68\n",
      "2  [10, 10, 10]  [5, 5, 5]   [1, 1, 1]  99.286     98.28  98.06\n"
     ]
    }
   ],
   "source": [
    "df=run_experiment([[10],[10,10],[10,10,10]],[[5],[5,5],[5,5,5]],[[2],[2,2],[1,1,1]],[],'tanh')\n",
    "print(\"FOR ADAM: \")\n",
    "print (df)"
   ]
  },
  {
   "cell_type": "code",
   "execution_count": 27,
   "metadata": {
    "colab": {
     "base_uri": "https://localhost:8080/",
     "height": 33
    },
    "colab_type": "code",
    "id": "5341VUwvy9hC",
    "outputId": "cd5e81c6-08ec-43ab-bd2c-8197c8a6f962"
   },
   "outputs": [
    {
     "name": "stdout",
     "output_type": "stream",
     "text": [
      "For SGD OPTIMIZER: \n"
     ]
    }
   ],
   "source": [
    "print(\"For SGD OPTIMIZER: \")\n",
    "def run_experiment(n_hiddens_per_conv_layer,patch_size_per_conv_layer,stride_per_conv_layer,n_hiddens_per_fc_layer,act='tanh'):\n",
    "  results = []\n",
    "  nh1=[]\n",
    "  np34=[]\n",
    "  ns=[]\n",
    "\n",
    "\n",
    "  n_epochs = 20\n",
    "  batch_size = 500\n",
    "  learning_rate = 0.01\n",
    "  for s1 in stride_per_conv_layer:\n",
    "    if s1 not in ns:\n",
    "      ns.append(s1)\n",
    "      for p1 in patch_size_per_conv_layer:\n",
    "        if p1 not in np34:\n",
    "          np34.append(p1)\n",
    "          for nh in n_hiddens_per_conv_layer:\n",
    "            if nh not in nh1:\n",
    "              nh1.append(nh)\n",
    "              print(f'For {nh} no of hidden layer ,{p1} kernel size ,{s1} patch size')\n",
    "              cnnet = CNN2D(28 * 28, nh, n_hiddens_per_fc_layer, Pr, p1, s1, device=device)\n",
    "\n",
    "              cnnet.train(Xtrain, Ttrain, batch_size, n_epochs, learning_rate, method='sgd')\n",
    "              Train_classes, Train_probs = cnnet.use(Xtrain)\n",
    "              Test_classes, Test_probs = cnnet.use(Xtest)\n",
    "              Validate_classes, Validate_probs = cnnet.use(Xval)\n",
    "              Train_percent = np.mean(Train_classes == Ttrain) * 100\n",
    "              Test_percent = np.mean(Test_classes == Ttest) * 100 \n",
    "              Validate_percent = np.mean(Validate_classes == Tval) * 100 \n",
    "              results.append([nh, p1,s1,Train_percent, Test_percent, Validate_percent])\n",
    "              df = pandas.DataFrame(results, columns=('Hidden Layers', 'Patch Size','Stride Size','Train', 'Validate', 'Test'))\n",
    "              break\n",
    "          break\n",
    "  return df\n",
    "\n"
   ]
  },
  {
   "cell_type": "code",
   "execution_count": 28,
   "metadata": {
    "colab": {
     "base_uri": "https://localhost:8080/",
     "height": 650
    },
    "colab_type": "code",
    "id": "ovmZ45QazVKD",
    "outputId": "6e50443c-7924-43ff-a999-a97e6b1a0433"
   },
   "outputs": [
    {
     "name": "stdout",
     "output_type": "stream",
     "text": [
      "For [10] no of hidden layer ,[5] kernel size ,[2] patch size\n",
      "sgd: Epoch 2 Loss 0.318\n",
      "sgd: Epoch 4 Loss 0.268\n",
      "sgd: Epoch 6 Loss 0.238\n",
      "sgd: Epoch 8 Loss 0.214\n",
      "sgd: Epoch 10 Loss 0.194\n",
      "sgd: Epoch 12 Loss 0.176\n",
      "sgd: Epoch 14 Loss 0.161\n",
      "sgd: Epoch 16 Loss 0.148\n",
      "sgd: Epoch 18 Loss 0.137\n",
      "sgd: Epoch 20 Loss 0.127\n",
      "For [10, 10] no of hidden layer ,[5, 5] kernel size ,[2, 2] patch size\n",
      "sgd: Epoch 2 Loss 0.412\n",
      "sgd: Epoch 4 Loss 0.318\n",
      "sgd: Epoch 6 Loss 0.274\n",
      "sgd: Epoch 8 Loss 0.244\n",
      "sgd: Epoch 10 Loss 0.222\n",
      "sgd: Epoch 12 Loss 0.203\n",
      "sgd: Epoch 14 Loss 0.188\n",
      "sgd: Epoch 16 Loss 0.174\n",
      "sgd: Epoch 18 Loss 0.163\n",
      "sgd: Epoch 20 Loss 0.152\n",
      "For [10, 10, 10] no of hidden layer ,[5, 5, 5] kernel size ,[1, 1, 1] patch size\n",
      "sgd: Epoch 2 Loss 0.231\n",
      "sgd: Epoch 4 Loss 0.129\n",
      "sgd: Epoch 6 Loss 0.092\n",
      "sgd: Epoch 8 Loss 0.074\n",
      "sgd: Epoch 10 Loss 0.063\n",
      "sgd: Epoch 12 Loss 0.056\n",
      "sgd: Epoch 14 Loss 0.050\n",
      "sgd: Epoch 16 Loss 0.045\n",
      "sgd: Epoch 18 Loss 0.041\n",
      "sgd: Epoch 20 Loss 0.038\n",
      "FOR SGD: \n",
      "  Hidden Layers Patch Size Stride Size   Train  Validate   Test\n",
      "0          [10]        [5]         [2]  96.636     96.11  96.58\n",
      "1      [10, 10]     [5, 5]      [2, 2]  95.716     95.83  96.11\n",
      "2  [10, 10, 10]  [5, 5, 5]   [1, 1, 1]  99.116     98.36  98.42\n"
     ]
    }
   ],
   "source": [
    "df=run_experiment([[10],[10,10],[10,10,10]],[[5],[5,5],[5,5,5]],[[2],[2,2],[1,1,1]],[],'tanh')\n",
    "print(\"FOR SGD: \")\n",
    "print (df)"
   ]
  },
  {
   "cell_type": "code",
   "execution_count": 0,
   "metadata": {
    "colab": {},
    "colab_type": "code",
    "id": "VT24SWNGzdZb"
   },
   "outputs": [],
   "source": []
  },
  {
   "cell_type": "markdown",
   "metadata": {
    "colab_type": "text",
    "id": "T4TEhNim91bh"
   },
   "source": [
    "The best configuration is same for both ADAM and SGD optimizer.\n",
    "However the testing accuracy in the case of SGD is higher than in the case of ADAM.\n",
    "\n",
    "Best Testing Accuracy of SGD : 98.42\n",
    "\n",
    "Best Testing Accuracy of ADAM :98.06 "
   ]
  },
  {
   "cell_type": "code",
   "execution_count": 0,
   "metadata": {
    "colab": {},
    "colab_type": "code",
    "id": "RzQPOxunFkG7"
   },
   "outputs": [],
   "source": []
  }
 ],
 "metadata": {
  "accelerator": "GPU",
  "colab": {
   "collapsed_sections": [],
   "name": "Chakraborty-A5.4.ipynb",
   "provenance": [],
   "toc_visible": true
  },
  "kernelspec": {
   "display_name": "Python 3",
   "language": "python",
   "name": "python3"
  },
  "language_info": {
   "codemirror_mode": {
    "name": "ipython",
    "version": 3
   },
   "file_extension": ".py",
   "mimetype": "text/x-python",
   "name": "python",
   "nbconvert_exporter": "python",
   "pygments_lexer": "ipython3",
   "version": "3.7.6"
  },
  "toc": {
   "base_numbering": 1,
   "nav_menu": {},
   "number_sections": true,
   "sideBar": true,
   "skip_h1_title": false,
   "title_cell": "Table of Contents",
   "title_sidebar": "Contents",
   "toc_cell": false,
   "toc_position": {
    "height": "calc(100% - 180px)",
    "left": "10px",
    "top": "150px",
    "width": "165px"
   },
   "toc_section_display": true,
   "toc_window_display": false
  }
 },
 "nbformat": 4,
 "nbformat_minor": 1
}
