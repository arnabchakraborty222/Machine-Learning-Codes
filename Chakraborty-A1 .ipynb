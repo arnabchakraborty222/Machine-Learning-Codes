{
 "cells": [
  {
   "cell_type": "markdown",
   "metadata": {},
   "source": [
    "# A1 Linear Regression with SGD"
   ]
  },
  {
   "cell_type": "markdown",
   "metadata": {},
   "source": [
    "In this assignment, you will implement three functions `train`, `use`, and `rmse` and apply them to some weather data.\n",
    "Here are the specifications for these functions, which you must satisfy."
   ]
  },
  {
   "cell_type": "markdown",
   "metadata": {},
   "source": [
    "`model = train(X, T, learning_rate, n_epochs, verbose)`\n",
    "* `X`: is an $N$ x $D$ matrix of input data samples, one per row. $N$ is the number of samples and $D$ is the number of variable values in\n",
    "each sample.\n",
    "* `T`: is an $N$ x $K$ matrix of desired target values for each sample.  $K$ is the number of output values you want to predict for each sample.\n",
    "* `learning_rate`: is a scalar that controls the step size of each update to the weight values.\n",
    "* `n_epochs`: is the number of epochs, or passes, through all $N$ samples, to take while updating the weight values.\n",
    "* `verbose`: is True or False (default value) to control whether or not occasional text is printed to show the training progress.\n",
    "* `model`: is the returned value, which must be a dictionary with the keys `'w'`, `'Xmeans'`, `'Xstds'`, `'Tmeans'` and `'Tstds'`.\n",
    "\n",
    "`Y = use(X, model)`\n",
    "* `X`: is an $N$ x $D$ matrix of input data samples, one per row, for which you want to predict the target values.\n",
    "* `model`: is the dictionary returned by `train`.\n",
    "* `Y`: is the returned $N$ x $K$ matrix of predicted values, one for each sample in `X`.\n",
    "\n",
    "`result = rmse(Y, T)`\n",
    "* `Y`: is an $N$ x $K$ matrix of predictions produced by `use`.\n",
    "* `T`: is the $N$ x $K$ matrix of target values.\n",
    "* `result`: is a scalar calculated as the square root of the mean of the squared differences between each sample (row) in `Y` and `T`."
   ]
  },
  {
   "cell_type": "markdown",
   "metadata": {},
   "source": [
    "To get you started, here are the standard imports we need."
   ]
  },
  {
   "cell_type": "code",
   "execution_count": 93,
   "metadata": {
    "lines_to_next_cell": 1
   },
   "outputs": [],
   "source": [
    "import numpy as np\n",
    "import matplotlib.pyplot as plt\n",
    "import pandas"
   ]
  },
  {
   "cell_type": "markdown",
   "metadata": {},
   "source": [
    "## 60 points: 40 for train, 10 for use, 10 for rmse"
   ]
  },
  {
   "cell_type": "markdown",
   "metadata": {},
   "source": [
    "Now here is a start at defining the `train`, `use`, and `rmse`\n",
    "functions.  Fill in the correct code wherever you see `. . .` with\n",
    "one or more lines of code."
   ]
  },
  {
   "cell_type": "code",
   "execution_count": 94,
   "metadata": {
    "lines_to_next_cell": 1
   },
   "outputs": [],
   "source": [
    "def train(X, T, learning_rate, n_epochs, verbose=False):\n",
    "\n",
    "    # Calculate means and standard deviations of each column in X and T\n",
    "    Xmeans = np.mean(X , axis=0)\n",
    "    Xstds = np.std(X, axis=0)\n",
    "    Tmeans = np.mean(T, axis=0)\n",
    "    Tstds = np.std(T, axis=0)\n",
    "\n",
    "\n",
    "    \n",
    "    \n",
    "    # Use the means and standard deviations to standardize X and T\n",
    "    X = (X - Xmeans) / Xstds\n",
    "    T = (T - Tmeans) / Tstds\n",
    "\n",
    "\n",
    "   \n",
    "\n",
    "    # Insert the column of constant 1's as a new initial column in X\n",
    "    X = np.insert(X, 0, 1, 1)\n",
    "    \n",
    "    \n",
    "    # Initialize weights to be a numpy array of the correct shape and all zeros values.\n",
    "    n_samples, n_inputs = X.shape\n",
    "    w = np.zeros((n_inputs, 1)) \n",
    "    \n",
    "\n",
    "    for epoch in range(n_epochs):\n",
    "        sqerror_sum = 0\n",
    "\n",
    "        for n in range(n_samples):\n",
    "\n",
    "            # Use current weight values to predict output for sample n, then\n",
    "             y = X[n:n + 1, :] @ w\n",
    "            # calculate the error, and\n",
    "             error = T[n:n + 1, :] - y\n",
    "            # update the weight values.\n",
    "             w += learning_rate * X[n:n + 1, :].T * error\n",
    "           \n",
    "            \n",
    "            # Add the squared error to sqerror_sum\n",
    "             sqerror_sum += error ** 2\n",
    "            \n",
    "            \n",
    "        if verbose and (n_epochs < 11 or (epoch + 1) % (n_epochs // 10) == 0):\n",
    "            rmse = np.sqrt(sqerror_sum / n_samples)\n",
    "            rmse = rmse[0, 0]  # because rmse is 1x1 matrix\n",
    "            print(f'Epoch {epoch + 1} RMSE {rmse:.2f}')\n",
    "\n",
    "    return {'w': w, 'Xmeans': Xmeans, 'Xstds': Xstds,\n",
    "            'Tmeans': Tmeans, 'Tstds': Tstds}"
   ]
  },
  {
   "cell_type": "code",
   "execution_count": 95,
   "metadata": {
    "lines_to_next_cell": 1
   },
   "outputs": [],
   "source": [
    "def use(X, model):\n",
    "    # Standardize X using Xmeans and Xstds in model\n",
    "     X = (X - model['Xmeans']) / model['Xstds']\n",
    "        \n",
    "    \n",
    "    \n",
    "    # Predict output values using weights in model\n",
    "     X=np.insert(X,0,1,1)\n",
    "     \n",
    "     y = X @ model['w']\n",
    "    \n",
    "    # Unstandardize the predicted output values using Tmeans and Tstds in model\n",
    "     y = (y * model['Tstds']) + model['Tmeans']\n",
    "    # Return the unstandardized output values\n",
    "     return y"
   ]
  },
  {
   "cell_type": "code",
   "execution_count": 96,
   "metadata": {
    "lines_to_next_cell": 1
   },
   "outputs": [],
   "source": [
    "def rmse(A, B):\n",
    "    return np.sqrt(np.mean(((A - B)**2)))    "
   ]
  },
  {
   "cell_type": "markdown",
   "metadata": {},
   "source": [
    "Here is a simple example use of your functions to help you debug them.  Your functions must produce the same results."
   ]
  },
  {
   "cell_type": "code",
   "execution_count": 97,
   "metadata": {},
   "outputs": [
    {
     "data": {
      "image/png": "[encoded data removed]",
      "text/plain": [
       "<Figure size 432x288 with 1 Axes>"
      ]
     },
     "metadata": {
      "needs_background": "light"
     },
     "output_type": "display_data"
    }
   ],
   "source": [
    "X = np.arange(0, 100).reshape(-1, 1)  # make X a 100 x 1 matrix\n",
    "T = 0.5 + 0.3 * X + 0.005 * (X - 50) ** 2\n",
    "plt.plot(X, T, '.')\n",
    "plt.xlabel('X')\n",
    "plt.ylabel('T');"
   ]
  },
  {
   "cell_type": "code",
   "execution_count": 98,
   "metadata": {},
   "outputs": [
    {
     "name": "stdout",
     "output_type": "stream",
     "text": [
      "Epoch 5 RMSE 0.40\n",
      "Epoch 10 RMSE 0.40\n",
      "Epoch 15 RMSE 0.40\n",
      "Epoch 20 RMSE 0.40\n",
      "Epoch 25 RMSE 0.40\n",
      "Epoch 30 RMSE 0.40\n",
      "Epoch 35 RMSE 0.40\n",
      "Epoch 40 RMSE 0.40\n",
      "Epoch 45 RMSE 0.40\n",
      "Epoch 50 RMSE 0.40\n"
     ]
    },
    {
     "data": {
      "text/plain": [
       "{'w': array([[-0.00576098],\n",
       "        [ 1.05433338]]),\n",
       " 'Xmeans': array([49.5]),\n",
       " 'Xstds': array([28.86607005]),\n",
       " 'Tmeans': array([19.5175]),\n",
       " 'Tstds': array([9.29491938])}"
      ]
     },
     "execution_count": 98,
     "metadata": {},
     "output_type": "execute_result"
    }
   ],
   "source": [
    "model = train(X, T, 0.01, 50, verbose=True)\n",
    "model"
   ]
  },
  {
   "cell_type": "code",
   "execution_count": 99,
   "metadata": {},
   "outputs": [
    {
     "data": {
      "text/plain": [
       "<matplotlib.legend.Legend at 0x2195c8dbd30>"
      ]
     },
     "execution_count": 99,
     "metadata": {},
     "output_type": "execute_result"
    },
    {
     "data": {
      "image/png": "[encoded data removed]",
      "text/plain": [
       "<Figure size 432x288 with 1 Axes>"
      ]
     },
     "metadata": {
      "needs_background": "light"
     },
     "output_type": "display_data"
    }
   ],
   "source": [
    "Y = use(X, model)\n",
    "plt.plot(T, '.', label='T')\n",
    "plt.plot(Y, '.', label='Y')\n",
    "plt.legend()"
   ]
  },
  {
   "cell_type": "code",
   "execution_count": 100,
   "metadata": {},
   "outputs": [
    {
     "data": {
      "text/plain": [
       "[<matplotlib.lines.Line2D at 0x2195c7962b0>]"
      ]
     },
     "execution_count": 100,
     "metadata": {},
     "output_type": "execute_result"
    },
    {
     "data": {
      "image/png": "[encoded data removed]",
      "text/plain": [
       "<Figure size 432x288 with 1 Axes>"
      ]
     },
     "metadata": {
      "needs_background": "light"
     },
     "output_type": "display_data"
    }
   ],
   "source": [
    "plt.plot(Y[:, 0], T[:, 0], 'o')\n",
    "plt.xlabel('Predicted')\n",
    "plt.ylabel('Actual')\n",
    "a = max(min(Y[:, 0]), min(T[:, 0]))\n",
    "b = min(max(Y[:, 0]), max(T[:, 0]))\n",
    "plt.plot([a, b], [a, b], 'r', linewidth=3)"
   ]
  },
  {
   "cell_type": "markdown",
   "metadata": {},
   "source": [
    "## Weather Data"
   ]
  },
  {
   "cell_type": "markdown",
   "metadata": {},
   "source": [
    "Now that your functions are working, we can apply them to some real data. We will use data\n",
    "from  [CSU's CoAgMet Station Daily Data Access](http://coagmet.colostate.edu/cgi-bin/dailydata_form.pl).\n",
    "\n",
    "You can get the data file [here](http://www.cs.colostate.edu/~anderson/cs445/notebooks/weather.data)"
   ]
  },
  {
   "cell_type": "markdown",
   "metadata": {},
   "source": [
    "## 5 points:\n",
    "\n",
    "Read in the data into variable `df` using `pandas.read_csv` like we did in lecture notes.\n",
    "Missing values in this dataset are indicated by the string `'***'`."
   ]
  },
  {
   "cell_type": "code",
   "execution_count": 101,
   "metadata": {},
   "outputs": [],
   "source": [
    "df = pandas.read_csv('weather.data', delim_whitespace=True, na_values='***')"
   ]
  },
  {
   "cell_type": "markdown",
   "metadata": {},
   "source": [
    "## 5 points:\n",
    "\n",
    "Check for missing values by showing the number of NA values, as shown in lecture notes."
   ]
  },
  {
   "cell_type": "code",
   "execution_count": 102,
   "metadata": {},
   "outputs": [
    {
     "data": {
      "text/plain": [
       "Year      0\n",
       "Mo        0\n",
       "Dy        0\n",
       "tave     33\n",
       "tmax     33\n",
       "tmin     33\n",
       "vp       33\n",
       "rhmax    33\n",
       "rhmin    33\n",
       "pp       33\n",
       "gust     33\n",
       "dtype: int64"
      ]
     },
     "execution_count": 102,
     "metadata": {},
     "output_type": "execute_result"
    }
   ],
   "source": [
    "df.isna().sum()"
   ]
  },
  {
   "cell_type": "markdown",
   "metadata": {},
   "source": [
    "## 5 points:\n",
    "\n",
    "If there are missing values, remove samples that contain missing values. Prove that you\n",
    "were successful by counting the number of missing values now, which should be zero."
   ]
  },
  {
   "cell_type": "code",
   "execution_count": 103,
   "metadata": {},
   "outputs": [
    {
     "data": {
      "text/plain": [
       "Year     0\n",
       "Mo       0\n",
       "Dy       0\n",
       "tave     0\n",
       "tmax     0\n",
       "tmin     0\n",
       "vp       0\n",
       "rhmax    0\n",
       "rhmin    0\n",
       "pp       0\n",
       "gust     0\n",
       "dtype: int64"
      ]
     },
     "execution_count": 103,
     "metadata": {},
     "output_type": "execute_result"
    }
   ],
   "source": [
    "df = df.dropna()\n",
    "df.isna().sum()"
   ]
  },
  {
   "cell_type": "markdown",
   "metadata": {},
   "source": [
    "Your job is now to create a linear model that predicts the next day's average temperature (tave) from the previous day's values of\n",
    "1. tave: average temperature\n",
    "2. tmax: maximum temperature\n",
    "3. tmin: minimum temperature\n",
    "4. vp: vapor pressure\n",
    "5. rhmax: maximum relative humidity\n",
    "6. rhmin: minimum relative humidity\n",
    "7. pp: precipitation\n",
    "8. gust: wind gust speed\n",
    "\n",
    "As a hint on how to do this, here is a list with these column names:"
   ]
  },
  {
   "cell_type": "code",
   "execution_count": 104,
   "metadata": {},
   "outputs": [],
   "source": [
    "Xnames = ['tave', 'tmax', 'tmin', 'vp', 'rhmax', 'rhmin', 'pp', 'gust']\n",
    "Tnames = ['next tave']"
   ]
  },
  {
   "cell_type": "markdown",
   "metadata": {},
   "source": [
    "## 5 points:\n",
    "\n",
    "Now select those eight columns from `df` and convert the result to a `numpy` array.  (Easier than it sounds.)\n",
    "Then assign `X` to be all columns and all but the last row.  Assign `T` to be just the first column (tave) and all but the first sample.  So now the first row (sample) in `X` is associated with the first row (sample) in `T` which tave for the following day."
   ]
  },
  {
   "cell_type": "code",
   "execution_count": 105,
   "metadata": {},
   "outputs": [
    {
     "data": {
      "text/plain": [
       "array([[ 0.363],\n",
       "       [-4.448],\n",
       "       [-2.465],\n",
       "       ...,\n",
       "       [ 1.588],\n",
       "       [ 4.991],\n",
       "       [ 4.09 ]])"
      ]
     },
     "execution_count": 105,
     "metadata": {},
     "output_type": "execute_result"
    }
   ],
   "source": [
    "data=df.iloc[:,3:].values\n",
    "X=data[:-1,:]\n",
    "#X.shape\n",
    "T=data[1:,0:1]\n",
    "T\n"
   ]
  },
  {
   "cell_type": "markdown",
   "metadata": {},
   "source": [
    "## 15 points:\n",
    "\n",
    "Use the function `train` to train a model for the `X`\n",
    "and `T` data.  Run it several times with different `learning_rate`\n",
    "and `n_epochs` values to produce decreasing errors. Use the `use`\n",
    "function and plots of `T` versus predicted `Y` values to show how\n",
    "well the model is working.  Type your observations of the plot and of the value of `rmse` to discuss how well the model succeeds."
   ]
  },
  {
   "cell_type": "code",
   "execution_count": 106,
   "metadata": {},
   "outputs": [
    {
     "name": "stdout",
     "output_type": "stream",
     "text": [
      "Epoch 10 RMSE 0.80\n",
      "Epoch 20 RMSE 0.64\n",
      "Epoch 30 RMSE 0.54\n",
      "Epoch 40 RMSE 0.47\n",
      "Epoch 50 RMSE 0.42\n",
      "Epoch 60 RMSE 0.39\n",
      "Epoch 70 RMSE 0.37\n",
      "Epoch 80 RMSE 0.36\n",
      "Epoch 90 RMSE 0.35\n",
      "Epoch 100 RMSE 0.35\n"
     ]
    },
    {
     "data": {
      "text/plain": [
       "<matplotlib.legend.Legend at 0x2195c796ac8>"
      ]
     },
     "execution_count": 106,
     "metadata": {},
     "output_type": "execute_result"
    },
    {
     "data": {
      "image/png": "[encoded data removed]",
      "text/plain": [
       "<Figure size 432x288 with 1 Axes>"
      ]
     },
     "metadata": {
      "needs_background": "light"
     },
     "output_type": "display_data"
    }
   ],
   "source": [
    "model=train(X, T, 0.000001, 100, verbose=True)\n",
    "Y=use(X,model)\n",
    "plt.plot(T, '.', label='T')\n",
    "plt.plot(Y, '.', label='Y')\n",
    "plt.legend()"
   ]
  },
  {
   "cell_type": "markdown",
   "metadata": {},
   "source": [
    "The plot shows that the model is predicting the next day temperature accurately with respect to the actual temperature data. The RMSE value is decreasing upon training the model which shows the model is fitting the values."
   ]
  },
  {
   "cell_type": "markdown",
   "metadata": {},
   "source": [
    "## 5 points:\n",
    "\n",
    "Print the weight values in the resulting model along with their corresponding variable names (in `Xnames`). Use the relative magnitude\n",
    "of the weight values to discuss which input variables are most significant in predicting the changes in the tave values."
   ]
  },
  {
   "cell_type": "code",
   "execution_count": 112,
   "metadata": {},
   "outputs": [
    {
     "data": {
      "text/html": [
       "<div>\n",
       "<style scoped>\n",
       "    .dataframe tbody tr th:only-of-type {\n",
       "        vertical-align: middle;\n",
       "    }\n",
       "\n",
       "    .dataframe tbody tr th {\n",
       "        vertical-align: top;\n",
       "    }\n",
       "\n",
       "    .dataframe thead th {\n",
       "        text-align: right;\n",
       "    }\n",
       "</style>\n",
       "<table border=\"1\" class=\"dataframe\">\n",
       "  <thead>\n",
       "    <tr style=\"text-align: right;\">\n",
       "      <th></th>\n",
       "      <th>weights</th>\n",
       "    </tr>\n",
       "  </thead>\n",
       "  <tbody>\n",
       "    <tr>\n",
       "      <th>bias</th>\n",
       "      <td>0.000014</td>\n",
       "    </tr>\n",
       "    <tr>\n",
       "      <th>tave</th>\n",
       "      <td>0.229097</td>\n",
       "    </tr>\n",
       "    <tr>\n",
       "      <th>tmax</th>\n",
       "      <td>0.223693</td>\n",
       "    </tr>\n",
       "    <tr>\n",
       "      <th>tmin</th>\n",
       "      <td>0.221568</td>\n",
       "    </tr>\n",
       "    <tr>\n",
       "      <th>vp</th>\n",
       "      <td>0.215178</td>\n",
       "    </tr>\n",
       "    <tr>\n",
       "      <th>rhmax</th>\n",
       "      <td>0.011310</td>\n",
       "    </tr>\n",
       "    <tr>\n",
       "      <th>rhmin</th>\n",
       "      <td>0.064047</td>\n",
       "    </tr>\n",
       "    <tr>\n",
       "      <th>pp</th>\n",
       "      <td>0.000531</td>\n",
       "    </tr>\n",
       "    <tr>\n",
       "      <th>gust</th>\n",
       "      <td>0.036823</td>\n",
       "    </tr>\n",
       "  </tbody>\n",
       "</table>\n",
       "</div>"
      ],
      "text/plain": [
       "        weights\n",
       "bias   0.000014\n",
       "tave   0.229097\n",
       "tmax   0.223693\n",
       "tmin   0.221568\n",
       "vp     0.215178\n",
       "rhmax  0.011310\n",
       "rhmin  0.064047\n",
       "pp     0.000531\n",
       "gust   0.036823"
      ]
     },
     "execution_count": 112,
     "metadata": {},
     "output_type": "execute_result"
    }
   ],
   "source": [
    "pandas.DataFrame(np.abs(model['w']),index=list(['bias']+ Xnames),columns=['weights'])\n",
    "#np.abs(model['w'])"
   ]
  },
  {
   "cell_type": "markdown",
   "metadata": {},
   "source": [
    "'tave', 'tmax', 'tmin', 'vp' variables are most significant in predicting the changes in the 'tave' values."
   ]
  },
  {
   "cell_type": "code",
   "execution_count": 113,
   "metadata": {},
   "outputs": [
    {
     "name": "stdout",
     "output_type": "stream",
     "text": [
      "\n",
      "======================= Code Execution =======================\n",
      "\n",
      "Extracting python code from notebook named 'Chakraborty-A1 .ipynb' and storing in notebookcode.py\n",
      "Removing all statements that are not function or class defs or import statements.\n",
      "\n",
      "Testing\n",
      "  X = np.array([1, 2, 3, 4, 5, 8, 9, 11]).reshape((-1, 1))\n",
      "  T = (X - 5) * 0.05 + 0.002 * (X - 8)**2\n",
      "  model = train(X, T, 0.001, 1000, True)\n",
      "\n",
      "Epoch 100 RMSE 0.46\n",
      "Epoch 200 RMSE 0.24\n",
      "Epoch 300 RMSE 0.15\n",
      "Epoch 400 RMSE 0.13\n",
      "Epoch 500 RMSE 0.13\n",
      "Epoch 600 RMSE 0.12\n",
      "Epoch 700 RMSE 0.12\n",
      "Epoch 800 RMSE 0.12\n",
      "Epoch 900 RMSE 0.12\n",
      "Epoch 1000 RMSE 0.12\n",
      "\n",
      "--- 20/20 points. Returned correct values.\n",
      "\n",
      "--- 10/10 points. Xmeans and Xstds are correct values.\n",
      "\n",
      "--- 10/10 points. Tmeans and Tstds are correct values.\n",
      "\n",
      "Testing\n",
      "  Y = use(X, model)\n",
      "\n",
      "\n",
      "--- 10/10 points. Returned correct values.\n",
      "\n",
      "Testing\n",
      "  err = rmse(Y, T)\n",
      "\n",
      "\n",
      "--- 10/10 points. Returned correct values.\n",
      "\n",
      "======================================================================\n",
      "C:\\Users\\DELL Execution Grade is 60 / 60\n",
      "======================================================================\n",
      "\n",
      " __ / 5 Reading in weather.data correctly.\n",
      "\n",
      " __ / 5 Count missing values, to show there are some.\n",
      "\n",
      " __ / 5 Remove samples with missing values. Count to show there are none.\n",
      "\n",
      " __ / 5 Construct X and T matrices as specified.\n",
      "\n",
      " __ / 15 Use your train function on X and T. Show results as RMSE values and as plots\n",
      "       for several different values of learning_rate and n_epochs. Type your \n",
      "       observations of RMSE values and of plots with at least five sentences.\n",
      "\n",
      " __ / 5 Print the weight values with corresponding variable names. Discuss\n",
      "       which input variablesa re most signficant in predicting tave values.\n",
      "\n",
      "======================================================================\n",
      "C:\\Users\\DELL FINAL GRADE is  _  / 100\n",
      "======================================================================\n",
      "\n",
      "Extra Credit:\n",
      "Predict the change in tave from one day to the next, instead of the actual tave.\n",
      "Show and discuss RMSE and plotting results for several values of learning_rate\n",
      "and n_epochs.\n",
      "\n",
      "C:\\Users\\DELL EXTRA CREDIT is 0 / 1\n"
     ]
    }
   ],
   "source": [
    "%run -i A1grader.py\n"
   ]
  },
  {
   "cell_type": "markdown",
   "metadata": {},
   "source": [
    "## Extra Credit: 1 point"
   ]
  },
  {
   "cell_type": "markdown",
   "metadata": {},
   "source": [
    "A typical problem when predicting the next value in a time series is\n",
    "that the best solution may be to predict the previous value.  The\n",
    "predicted value will look a lot like the input tave value shifted on\n",
    "time step later.\n",
    "\n",
    "To do better, try predicting the change in tave from one day to the next. `T` can be assigned as"
   ]
  },
  {
   "cell_type": "code",
   "execution_count": 109,
   "metadata": {},
   "outputs": [
    {
     "data": {
      "text/plain": [
       "array([[-3.114],\n",
       "       [-4.811],\n",
       "       [ 1.983],\n",
       "       ...,\n",
       "       [-0.897],\n",
       "       [ 3.403],\n",
       "       [-0.901]])"
      ]
     },
     "execution_count": 109,
     "metadata": {},
     "output_type": "execute_result"
    }
   ],
   "source": [
    "T = data[1:, 0:1] -  data[:-1, 0:1]\n",
    "T"
   ]
  },
  {
   "cell_type": "markdown",
   "metadata": {},
   "source": [
    "Now repeat the training experiments to pick good `learning_rate` and\n",
    "`n_epochs`.  Use predicted values to produce next day tave values by\n",
    "adding the predicted values to the previous day's tave.  Use `rmse`\n",
    "to determine if this way of predicting next tave is better than\n",
    "directly predicting tave."
   ]
  },
  {
   "cell_type": "markdown",
   "metadata": {},
   "source": [
    "## Check In\n",
    "\n",
    "Name your notebook as `Lastname A1.ipynb`.  Check it in at the A1 assignment link in our Canvas web page."
   ]
  }
 ],
 "metadata": {
  "jupytext": {
   "formats": "ipynb,py"
  },
  "kernelspec": {
   "display_name": "Python 3",
   "language": "python",
   "name": "python3"
  },
  "language_info": {
   "codemirror_mode": {
    "name": "ipython",
    "version": 3
   },
   "file_extension": ".py",
   "mimetype": "text/x-python",
   "name": "python",
   "nbconvert_exporter": "python",
   "pygments_lexer": "ipython3",
   "version": "3.7.3"
  }
 },
 "nbformat": 4,
 "nbformat_minor": 2
}
