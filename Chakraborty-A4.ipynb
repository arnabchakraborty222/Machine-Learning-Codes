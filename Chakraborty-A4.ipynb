{
 "cells": [
  {
   "cell_type": "markdown",
   "metadata": {
    "colab_type": "text",
    "id": "Bs7w2i4VoXQA"
   },
   "source": [
    "# A4 Classification of Hand-Drawn Digits\n",
    "\n",
    "* A4.1: *Now includes `optimizers.py`*\n",
    "* A4.2: *Added `A4grader.zip` and extra credit.*\n",
    "\n",
    "In this assignment, you will define a new class named `NeuralNetworkClassifier` that extends the `NeuralNetwork` class provided here and is the solution to Assignment A2.  You will use `NeuralNetworkClassifier` to train a classifier of hand-drawn digits.\n",
    "\n",
    "You will also define the function `confusion_matrix`."
   ]
  },
  {
   "cell_type": "markdown",
   "metadata": {
    "colab_type": "text",
    "id": "DMXZmkA6oXQC"
   },
   "source": [
    "## `NeuralNetwork` class"
   ]
  },
  {
   "cell_type": "code",
   "execution_count": 0,
   "metadata": {
    "colab": {},
    "colab_type": "code",
    "id": "_F9KxuEjoXQF"
   },
   "outputs": [],
   "source": [
    "import matplotlib.pyplot as plt\n",
    "import math"
   ]
  },
  {
   "cell_type": "markdown",
   "metadata": {
    "colab_type": "text",
    "id": "HfDHD_W4oXQS"
   },
   "source": [
    "The following code cell will write its contents to `optimizers.py` so the `import optimizers` statement in the code cell after it will work correctly."
   ]
  },
  {
   "cell_type": "code",
   "execution_count": 0,
   "metadata": {
    "colab": {
     "base_uri": "https://localhost:8080/",
     "height": 34
    },
    "colab_type": "code",
    "id": "aF1by7pkoXQT",
    "outputId": "ade39897-be41-44a5-8fa1-061796937f7c"
   },
   "outputs": [
    {
     "name": "stdout",
     "output_type": "stream",
     "text": [
      "Overwriting optimizers.py\n"
     ]
    }
   ],
   "source": [
    "%%writefile optimizers.py\n",
    "import numpy as np\n",
    "\n",
    "######################################################################\n",
    "## class Optimizers()\n",
    "######################################################################\n",
    "\n",
    "class Optimizers():\n",
    "\n",
    "    def __init__(self, all_weights):\n",
    "        '''all_weights is a vector of all of a neural networks weights concatenated into a one-dimensional vector'''\n",
    "        \n",
    "        self.all_weights = all_weights\n",
    "\n",
    "        # The following initializations are only used by adam.\n",
    "        # Only initializing m, v, beta1t and beta2t here allows multiple calls to adam to handle training\n",
    "        # with multiple subsets (batches) of training data.\n",
    "        self.mt = np.zeros_like(all_weights)\n",
    "        self.vt = np.zeros_like(all_weights)\n",
    "        self.beta1 = 0.9\n",
    "        self.beta2 = 0.999\n",
    "        self.beta1t = 1\n",
    "        self.beta2t = 1\n",
    "\n",
    "        \n",
    "    def sgd(self, error_f, gradient_f, fargs=[], n_epochs=100, learning_rate=0.001, verbose=True, error_convert_f=None):\n",
    "        '''\n",
    "error_f: function that requires X and T as arguments (given in fargs) and returns mean squared error.\n",
    "gradient_f: function that requires X and T as arguments (in fargs) and returns gradient of mean squared error\n",
    "            with respect to each weight.\n",
    "error_convert_f: function that converts the standardized error from error_f to original T units.\n",
    "        '''\n",
    "\n",
    "        error_trace = []\n",
    "        epochs_per_print = n_epochs // 10\n",
    "\n",
    "        for epoch in range(n_epochs):\n",
    "\n",
    "            error = error_f(*fargs)\n",
    "            grad = gradient_f(*fargs)\n",
    "\n",
    "            # Update all weights using -= to modify their values in-place.\n",
    "            self.all_weights -= learning_rate * grad\n",
    "\n",
    "            if error_convert_f:\n",
    "                error = error_convert_f(error)\n",
    "            error_trace.append(error)\n",
    "\n",
    "            if verbose and ((epoch + 1) % max(1, epochs_per_print) == 0):\n",
    "                print(f'sgd: Epoch {epoch+1:d} Error={error:.5f}')\n",
    "\n",
    "        return error_trace\n",
    "\n",
    "    def adam(self, error_f, gradient_f, fargs=[], n_epochs=100, learning_rate=0.001, verbose=True, error_convert_f=None):\n",
    "        '''\n",
    "error_f: function that requires X and T as arguments (given in fargs) and returns mean squared error.\n",
    "gradient_f: function that requires X and T as arguments (in fargs) and returns gradient of mean squared error\n",
    "            with respect to each weight.\n",
    "error_convert_f: function that converts the standardized error from error_f to original T units.\n",
    "        '''\n",
    "\n",
    "        alpha = learning_rate  # learning rate called alpha in original paper on adam\n",
    "        epsilon = 1e-8\n",
    "        error_trace = []\n",
    "        epochs_per_print = n_epochs // 10\n",
    "\n",
    "        for epoch in range(n_epochs):\n",
    "\n",
    "            error = error_f(*fargs)\n",
    "            grad = gradient_f(*fargs)\n",
    "\n",
    "            self.mt[:] = self.beta1 * self.mt + (1 - self.beta1) * grad\n",
    "            self.vt[:] = self.beta2 * self.vt + (1 - self.beta2) * grad * grad\n",
    "            self.beta1t *= self.beta1\n",
    "            self.beta2t *= self.beta2\n",
    "\n",
    "            m_hat = self.mt / (1 - self.beta1t)\n",
    "            v_hat = self.vt / (1 - self.beta2t)\n",
    "\n",
    "            # Update all weights using -= to modify their values in-place.\n",
    "            self.all_weights -= alpha * m_hat / (np.sqrt(v_hat) + epsilon)\n",
    "    \n",
    "            if error_convert_f:\n",
    "                error = error_convert_f(error)\n",
    "            error_trace.append(error)\n",
    "\n",
    "            if verbose and ((epoch + 1) % max(1, epochs_per_print) == 0):\n",
    "                print(f'Adam: Epoch {epoch+1:d} Error={error:.5f}')\n",
    "\n",
    "        return error_trace\n",
    "\n",
    "if __name__ == '__main__':\n",
    "\n",
    "    import matplotlib.pyplot as plt\n",
    "    plt.ion()\n",
    "\n",
    "    def parabola(wmin):\n",
    "        return ((w - wmin) ** 2)[0]\n",
    "\n",
    "    def parabola_gradient(wmin):\n",
    "        return 2 * (w - wmin)\n",
    "\n",
    "    w = np.array([0.0])\n",
    "    optimizer = Optimizers(w)\n",
    "\n",
    "    wmin = 5\n",
    "    optimizer.sgd(parabola, parabola_gradient, [wmin],\n",
    "                  n_epochs=500, learning_rate=0.1)\n",
    "\n",
    "    print(f'sgd: Minimum of parabola is at {wmin}. Value found is {w}')\n",
    "\n",
    "    w = np.array([0.0])\n",
    "    optimizer = Optimizers(w)\n",
    "    optimizer.adam(parabola, parabola_gradient, [wmin],\n",
    "                   n_epochs=500, learning_rate=0.1)\n",
    "    \n",
    "    print(f'adam: Minimum of parabola is at {wmin}. Value found is {w}')"
   ]
  },
  {
   "cell_type": "code",
   "execution_count": 0,
   "metadata": {
    "colab": {},
    "colab_type": "code",
    "id": "x0Q2bsKpoXQb"
   },
   "outputs": [],
   "source": [
    "import numpy as np\n",
    "import optimizers\n",
    "import sys  # for sys.float_info.epsilon\n",
    "\n",
    "######################################################################\n",
    "## class NeuralNetwork()\n",
    "######################################################################\n",
    "\n",
    "class NeuralNetwork():\n",
    "\n",
    "\n",
    "    def __init__(self, n_inputs, n_hiddens_per_layer, n_outputs, activation_function='tanh'):\n",
    "        self.n_inputs = n_inputs\n",
    "        self.n_outputs = n_outputs\n",
    "        self.activation_function = activation_function\n",
    "\n",
    "    \n",
    "        if n_hiddens_per_layer == 0 or n_hiddens_per_layer == [] or n_hiddens_per_layer == [0]:\n",
    "            self.n_hiddens_per_layer = []\n",
    "        else:\n",
    "            self.n_hiddens_per_layer = n_hiddens_per_layer\n",
    "        n_in = n_inputs\n",
    "        shapes = []\n",
    "        for nh in self.n_hiddens_per_layer:\n",
    "            shapes.append((n_in + 1, nh))\n",
    "            n_in = nh\n",
    "        shapes.append((n_in + 1, n_outputs))\n",
    "        self.all_weights, self.Ws = self.make_weights_and_views(shapes)\n",
    "        self.all_gradients, self.dE_dWs = self.make_weights_and_views(shapes)\n",
    "        self.trained = False\n",
    "        self.total_epochs = 0\n",
    "        self.error_trace = []\n",
    "        self.Xmeans = None\n",
    "        self.Xstds = None\n",
    "        self.Tmeans = None\n",
    "        self.Tstds = None\n",
    "\n",
    "\n",
    "    def make_weights_and_views(self, shapes):\n",
    "        all_weights = np.hstack([np.random.uniform(size=shape).flat / np.sqrt(shape[0])\n",
    "                                 for shape in shapes])\n",
    "        views = []\n",
    "        start = 0\n",
    "        for shape in shapes:\n",
    "            size =shape[0] * shape[1]\n",
    "            views.append(all_weights[start:start + size].reshape(shape))\n",
    "            start += size\n",
    "        return all_weights, views\n",
    "\n",
    "    def __repr__(self):\n",
    "        return f'{type(self).__name__}({self.n_inputs}, {self.n_hiddens_per_layer}, {self.n_outputs}, \\'{self.activation_function}\\')'\n",
    "\n",
    "    def __str__(self):\n",
    "        result = self.__repr__()\n",
    "        if len(self.error_trace) > 0:\n",
    "            return self.__repr__() + f' trained for {len(self.error_trace)} epochs, final training error {self.error_trace[-1]:.4f}'\n",
    "\n",
    "\n",
    "    def train(self, X, T, n_epochs, learning_rate, method='sgd', verbose=True):\n",
    "        if self.Xmeans is None:\n",
    "            self.Xmeans = X.mean(axis=0)\n",
    "            self.Xstds = X.std(axis=0)\n",
    "            self.Xstds[self.Xstds == 0] = 1\n",
    "            self.Tmeans = T.mean(axis=0)\n",
    "            self.Tstds = T.std(axis=0)\n",
    "        X = (X - self.Xmeans) / self.Xstds\n",
    "        T = (T - self.Tmeans) / self.Tstds\n",
    "        optimizer = optimizers.Optimizers(self.all_weights)\n",
    "        if len(self.Tstds) == 1:\n",
    "            error_convert_f = lambda err: (np.sqrt(err) * self.Tstds)[0]\n",
    "        else:\n",
    "            error_convert_f = lambda err: np.sqrt(err)[0] \n",
    "            \n",
    "\n",
    "        if method == 'sgd':\n",
    "\n",
    "            error_trace = optimizer.sgd(self.error_f, self.gradient_f,\n",
    "                                        fargs=[X, T], n_epochs=n_epochs,\n",
    "                                        learning_rate=learning_rate,\n",
    "                                        verbose=True,\n",
    "                                        error_convert_f=error_convert_f)\n",
    "\n",
    "        elif method == 'adam':\n",
    "\n",
    "            error_trace = optimizer.adam(self.error_f, self.gradient_f,\n",
    "                                         fargs=[X, T], n_epochs=n_epochs,\n",
    "                                         learning_rate=learning_rate,\n",
    "                                         verbose=True,\n",
    "                                         error_convert_f=error_convert_f)\n",
    "\n",
    "        else:\n",
    "            raise Exception(\"method must be 'sgd' or 'adam'\")\n",
    "        \n",
    "        self.error_trace = error_trace\n",
    "        return self\n",
    "\n",
    "    def relu(self, s):\n",
    "        s[s < 0] = 0\n",
    "        return s\n",
    "\n",
    "    def grad_relu(self, s):\n",
    "        return (s > 0).astype(int)\n",
    "    \n",
    "    def forward_pass(self, X):\n",
    "        self.Ys = [X]\n",
    "        for W in self.Ws[:-1]:\n",
    "            if self.activation_function == 'relu':\n",
    "                self.Ys.append(self.relu(self.Ys[-1] @ W[1:, :] + W[0:1, :]))\n",
    "            else:\n",
    "                self.Ys.append(np.tanh(self.Ys[-1] @ W[1:, :] + W[0:1, :]))\n",
    "        last_W = self.Ws[-1]\n",
    "        self.Ys.append(self.Ys[-1] @ last_W[1:, :] + last_W[0:1, :])\n",
    "        return self.Ys\n",
    "\n",
    " \n",
    "    def error_f(self, X, T):\n",
    "        Ys = self.forward_pass(X)\n",
    "        mean_sq_error = np.mean((T - Ys[-1]) ** 2)\n",
    "        return mean_sq_error\n",
    "\n",
    "    def gradient_f(self, X, T):\n",
    "        error = T - self.Ys[-1]\n",
    "        n_samples = X.shape[0]\n",
    "        n_outputs = T.shape[1]\n",
    "        delta = - error / (n_samples * n_outputs)\n",
    "        n_layers = len(self.n_hiddens_per_layer) + 1\n",
    "        # Step backwards through the layers to back-propagate the error (delta)\n",
    "        for layeri in range(n_layers - 1, -1, -1):\n",
    "            # gradient of all but bias weights\n",
    "            self.dE_dWs[layeri][1:, :] = self.Ys[layeri].T @ delta\n",
    "            # gradient of just the bias weights\n",
    "            self.dE_dWs[layeri][0:1, :] = np.sum(delta, 0)\n",
    "            # Back-propagate this layer's delta to previous layer\n",
    "            if self.activation_function == 'relu':\n",
    "                delta = delta @ self.Ws[layeri][1:, :].T * self.grad_relu(self.Ys[layeri])\n",
    "            else:\n",
    "                delta = delta @ self.Ws[layeri][1:, :].T * (1 - self.Ys[layeri] ** 2)\n",
    "        return self.all_gradients\n",
    "    def use(self, X):\n",
    "        X = (X - self.Xmeans) / self.Xstds\n",
    "        Ys = self.forward_pass(X)\n",
    "        Y = Ys[-1]\n",
    "        return Y * self.Tstds + self.Tmeans"
   ]
  },
  {
   "cell_type": "code",
   "execution_count": 0,
   "metadata": {
    "colab": {
     "base_uri": "https://localhost:8080/",
     "height": 452
    },
    "colab_type": "code",
    "id": "v2mnlds6oXQm",
    "outputId": "c2ba4e1c-4f65-483c-942a-d0ad2efe76af"
   },
   "outputs": [
    {
     "name": "stdout",
     "output_type": "stream",
     "text": [
      "Adam: Epoch 25 Error=0.24045\n",
      "Adam: Epoch 50 Error=0.22242\n",
      "Adam: Epoch 75 Error=0.20345\n",
      "Adam: Epoch 100 Error=0.18067\n",
      "Adam: Epoch 125 Error=0.14507\n",
      "Adam: Epoch 150 Error=0.10186\n",
      "Adam: Epoch 175 Error=0.07442\n",
      "Adam: Epoch 200 Error=0.06129\n",
      "Adam: Epoch 225 Error=0.05355\n",
      "Adam: Epoch 250 Error=0.04759\n"
     ]
    },
    {
     "data": {
      "text/plain": [
       "<matplotlib.legend.Legend at 0x7fa9c6b89f98>"
      ]
     },
     "execution_count": 37,
     "metadata": {
      "tags": []
     },
     "output_type": "execute_result"
    },
    {
     "data": {
      "image/png": "[encoded data removed]",
      "text/plain": [
       "<Figure size 432x288 with 2 Axes>"
      ]
     },
     "metadata": {
      "tags": []
     },
     "output_type": "display_data"
    }
   ],
   "source": [
    "X = np.arange(100).reshape((-1, 1))\n",
    "T = (X - 20) ** 3 / 300000\n",
    "\n",
    "hiddens = [10]\n",
    "nnet = NeuralNetwork(X.shape[1], hiddens, T.shape[1])\n",
    "nnet.train(X, T, 250, 0.01, method='adam')\n",
    "\n",
    "plt.subplot(1, 2, 1)\n",
    "plt.plot(nnet.error_trace)\n",
    "\n",
    "plt.subplot(1, 2, 2)\n",
    "plt.plot(T, label='T')\n",
    "plt.plot(nnet.use(X), label='Y')\n",
    "plt.legend()"
   ]
  },
  {
   "cell_type": "markdown",
   "metadata": {
    "colab_type": "text",
    "id": "CLZi0hGwoXQu"
   },
   "source": [
    "## Your `NeuralNetworkClassifier` class"
   ]
  },
  {
   "cell_type": "markdown",
   "metadata": {
    "colab_type": "text",
    "id": "XngJcrVgoXQv"
   },
   "source": [
    "Complete the following definition of `NeuralNetworkClassifier` as discussed in class. You will need to override the functions\n",
    "\n",
    "* `train`\n",
    "* `error_f`\n",
    "* `gradient_f`\n",
    "* `use`\n",
    "\n",
    "and define the following new functions\n",
    "\n",
    "* `makeIndicatorVars`\n",
    "* `softmax`"
   ]
  },
  {
   "cell_type": "code",
   "execution_count": 0,
   "metadata": {
    "colab": {},
    "colab_type": "code",
    "id": "835wgJLHoXQw"
   },
   "outputs": [],
   "source": [
    "class NeuralNetworkClassifier(NeuralNetwork):\n",
    "    def standardizeT(self, T):\n",
    "        return T\n",
    "    def unstandardizeT(self, Ts):\n",
    "        return Ts\n",
    "\n",
    "    def makeIndicatorVars(self, T):\n",
    "        if T.ndim == 1:\n",
    "            T = T.reshape((-1,1))    \n",
    "        return (T == np.unique(T)).astype(int)\n",
    "\n",
    "    def error_f(self, X, T):\n",
    "        Ys = self.forward_pass(X)\n",
    "        probs = self.softmax(Ys[-1])\n",
    "        LL = T * np.log(probs + sys.float_info.epsilon)\n",
    "        neg_mean_LL = -np.mean(LL)\n",
    "        return neg_mean_LL\n",
    "\n",
    "\n",
    "    \n",
    "    \n",
    "    def gradient_f(self, X, T):\n",
    "        error = ( T - self.softmax(self.Ys[-1]) )\n",
    "        n_samples = X.shape[0]\n",
    "        n_outputs = T.shape[1]\n",
    "        delta = - error / (n_samples * n_outputs)\n",
    "        n_layers = len(self.n_hiddens_per_layer) + 1\n",
    "        # Step backwards through the layers to back-propagate the error (delta)\n",
    "        for layeri in range(n_layers - 1, -1, -1):\n",
    "            # gradient of all but bias weights\n",
    "            self.dE_dWs[layeri][1:, :] = self.Ys[layeri].T @ delta\n",
    "            # gradient of just the bias weights\n",
    "            self.dE_dWs[layeri][0:1, :] = np.sum(delta, 0)\n",
    "            # Back-propagate this layer's delta to previous layer\n",
    "            if self.activation_function == 'relu':\n",
    "                delta = delta @ self.Ws[layeri][1:, :].T * self.grad_relu(self.Ys[layeri])\n",
    "            else:\n",
    "                delta = delta @ self.Ws[layeri][1:, :].T * (1 - self.Ys[layeri] ** 2)\n",
    "        return self.all_gradients\n",
    "    \n",
    "  \n",
    "    def train(self, X, T, n_epochs, learning_rate, method='sgd', verbose=True):\n",
    "        self.classes=np.unique(T)\n",
    "        X=np.array(X,dtype=np.float)\n",
    "        if self.Xmeans is None:\n",
    "            self.Xmeans = X.mean(axis=0)\n",
    "            self.Xstds = X.std(axis=0)\n",
    "            self.Xstds[self.Xstds == 0] = 1\n",
    "        T = self.makeIndicatorVars(T)\n",
    "        X = (X - self.Xmeans) / self.Xstds\n",
    "        T = self.standardizeT(T)\n",
    "        if T.ndim == 1:\n",
    "            T = T.reshape((-1, 1))\n",
    "\n",
    "        \n",
    "        \n",
    "        optimizer = optimizers.Optimizers(self.all_weights)\n",
    "        \n",
    "        def error_convert_f(neg_mean_LL):\n",
    "            return np.exp( -neg_mean_LL )\n",
    "\n",
    "        if method == 'sgd':\n",
    "\n",
    "            error_trace = optimizer.sgd(self.error_f, self.gradient_f,\n",
    "                                        fargs=[X, T], n_epochs=n_epochs,\n",
    "                                        learning_rate=learning_rate,\n",
    "                                        verbose=True,\n",
    "                                        error_convert_f=error_convert_f)\n",
    "\n",
    "        elif method == 'adam':\n",
    "\n",
    "            error_trace = optimizer.adam(self.error_f, self.gradient_f,\n",
    "                                         fargs=[X, T], n_epochs=n_epochs,\n",
    "                                         learning_rate=learning_rate,\n",
    "                                         verbose=True,\n",
    "                                         error_convert_f=error_convert_f)\n",
    "\n",
    "\n",
    "        else:\n",
    "            raise Exception(\"method must be 'sgd' or 'adam'\")\n",
    "        \n",
    "        self.error_trace = error_trace\n",
    "\n",
    "\n",
    "    def use(self, X):\n",
    "       \n",
    "        X = (X - self.Xmeans) / self.Xstds\n",
    "        Ys = self.forward_pass(X)\n",
    "        W = self.softmax(Ys[-1])\n",
    "        d = np.argmax(W, axis = 1)\n",
    "        Y = self.classes[d].reshape(-1,1)\n",
    "       # Y = Y *self.Tstds + self.Tmeans\n",
    "        # Unstandardize output Y before returning it\n",
    "        return  Y, W\n",
    "    \n",
    "    def softmax(self, Y):\n",
    "        Y1 = np.exp(Y)  \n",
    "        denom = np.sum(Y1, axis=1).reshape((-1, 1))\n",
    "        Y2 = Y1 / denom\n",
    "        return Y2"
   ]
  },
  {
   "cell_type": "code",
   "execution_count": 0,
   "metadata": {
    "colab": {
     "base_uri": "https://localhost:8080/",
     "height": 452
    },
    "colab_type": "code",
    "id": "tJ52w1D4xcln",
    "outputId": "27bdce0a-05b1-49aa-ab76-3a525f5fbdc2"
   },
   "outputs": [
    {
     "name": "stdout",
     "output_type": "stream",
     "text": [
      "Adam: Epoch 25 Error=0.24770\n",
      "Adam: Epoch 50 Error=0.22430\n",
      "Adam: Epoch 75 Error=0.20379\n",
      "Adam: Epoch 100 Error=0.17634\n",
      "Adam: Epoch 125 Error=0.14123\n",
      "Adam: Epoch 150 Error=0.10550\n",
      "Adam: Epoch 175 Error=0.07652\n",
      "Adam: Epoch 200 Error=0.05637\n",
      "Adam: Epoch 225 Error=0.04340\n",
      "Adam: Epoch 250 Error=0.03506\n"
     ]
    },
    {
     "data": {
      "text/plain": [
       "<matplotlib.legend.Legend at 0x7fa9c6ad2208>"
      ]
     },
     "execution_count": 39,
     "metadata": {
      "tags": []
     },
     "output_type": "execute_result"
    },
    {
     "data": {
      "image/png": "[encoded data removed]",
      "text/plain": [
       "<Figure size 432x288 with 2 Axes>"
      ]
     },
     "metadata": {
      "tags": []
     },
     "output_type": "display_data"
    }
   ],
   "source": [
    "X = np.arange(100).reshape((-1, 1))\n",
    "T = (X - 20) ** 3 / 300000\n",
    "\n",
    "hiddens = [10]\n",
    "nnet = NeuralNetwork(X.shape[1], hiddens, T.shape[1])\n",
    "nnet.train(X, T, 250, 0.01, method='adam')\n",
    "\n",
    "plt.subplot(1, 2, 1)\n",
    "plt.plot(nnet.error_trace)\n",
    "\n",
    "plt.subplot(1, 2, 2)\n",
    "plt.plot(T, label='T')\n",
    "plt.plot(nnet.use(X), label='Y')\n",
    "plt.legend()"
   ]
  },
  {
   "cell_type": "code",
   "execution_count": 0,
   "metadata": {
    "colab": {},
    "colab_type": "code",
    "id": "9BG9AZWVXJWs"
   },
   "outputs": [],
   "source": []
  },
  {
   "cell_type": "markdown",
   "metadata": {
    "colab_type": "text",
    "id": "fvdxV8XKoXQ1"
   },
   "source": [
    "Here is a simple test of your new class.  For inputs from 0 to 100, classify values less than or equal to 25 as Class Label 25, greater than 25 and less than or equal to 75 as Class Label 75, and greater than 75 as Class Label 100. "
   ]
  },
  {
   "cell_type": "code",
   "execution_count": 0,
   "metadata": {
    "colab": {
     "base_uri": "https://localhost:8080/",
     "height": 279
    },
    "colab_type": "code",
    "id": "gZKSIBxRXJW3",
    "outputId": "d4d7120b-1972-4c7d-dfd7-2201968538da"
   },
   "outputs": [
    {
     "data": {
      "image/png": "[encoded data removed]",
      "text/plain": [
       "<Figure size 432x288 with 1 Axes>"
      ]
     },
     "metadata": {
      "tags": []
     },
     "output_type": "display_data"
    }
   ],
   "source": [
    "X = np.arange(100).reshape((-1, 1))\n",
    "T = X.copy()\n",
    "T[T <= 25] = 25\n",
    "T[np.logical_and(25 < T, T <= 75)] = 75\n",
    "T[T > 75] = 100\n",
    "\n",
    "plt.plot(X, T, 'o-')\n",
    "plt.xlabel('X')\n",
    "plt.ylabel('Class');"
   ]
  },
  {
   "cell_type": "code",
   "execution_count": 0,
   "metadata": {
    "colab": {
     "base_uri": "https://localhost:8080/",
     "height": 466
    },
    "colab_type": "code",
    "id": "89pdbx1DXJW_",
    "outputId": "43dab0cf-05d1-40f3-c6ad-c2bcbc7c7fdf"
   },
   "outputs": [
    {
     "name": "stdout",
     "output_type": "stream",
     "text": [
      "Adam: Epoch 20 Error=0.77385\n",
      "Adam: Epoch 40 Error=0.84451\n",
      "Adam: Epoch 60 Error=0.89328\n",
      "Adam: Epoch 80 Error=0.92506\n",
      "Adam: Epoch 100 Error=0.94325\n",
      "Adam: Epoch 120 Error=0.95386\n",
      "Adam: Epoch 140 Error=0.96064\n",
      "Adam: Epoch 160 Error=0.96538\n",
      "Adam: Epoch 180 Error=0.96892\n",
      "Adam: Epoch 200 Error=0.97170\n"
     ]
    },
    {
     "data": {
      "text/plain": [
       "<matplotlib.legend.Legend at 0x7fa9c6975f98>"
      ]
     },
     "execution_count": 41,
     "metadata": {
      "tags": []
     },
     "output_type": "execute_result"
    },
    {
     "data": {
      "image/png": "[encoded data removed]",
      "text/plain": [
       "<Figure size 432x288 with 2 Axes>"
      ]
     },
     "metadata": {
      "tags": []
     },
     "output_type": "display_data"
    }
   ],
   "source": [
    "hiddens = [10]\n",
    "nnet = NeuralNetworkClassifier(X.shape[1], hiddens, len(np.unique(T)))\n",
    "nnet.train(X, T, 200, 0.01, method='adam', verbose=True)\n",
    "\n",
    "plt.subplot(1, 2, 1)\n",
    "plt.plot(nnet.error_trace)\n",
    "plt.xlabel('Epoch')\n",
    "plt.ylabel('Likelihood')\n",
    "\n",
    "plt.subplot(1, 2, 2)\n",
    "plt.plot(T + 5, 'o-', label='T + 5')  # to see, when predicted overlap T very closely\n",
    "plt.plot(nnet.use(X)[0], 'o-', label='Y')\n",
    "plt.legend()"
   ]
  },
  {
   "cell_type": "markdown",
   "metadata": {
    "colab_type": "text",
    "id": "uMGtCqaVoXRB"
   },
   "source": [
    "## Now for the Hand-Draw Digits\n",
    "\n",
    "We will use a bunch (50,000) images of hand drawn digits from [this deeplearning.net site](http://deeplearning.net/tutorial/gettingstarted.html).  Download `mnist.pkl.gz`. \n",
    "\n",
    "This pickle file includes data already partitioned into training, validation, and test sets.  To read it into python, use the following steps"
   ]
  },
  {
   "cell_type": "code",
   "execution_count": 0,
   "metadata": {
    "colab": {
     "base_uri": "https://localhost:8080/",
     "height": 34
    },
    "colab_type": "code",
    "id": "Z4i8clHToXRC",
    "outputId": "77e9c53e-d316-4f4d-ab24-31b8ee81d105"
   },
   "outputs": [
    {
     "name": "stdout",
     "output_type": "stream",
     "text": [
      "(50000, 784) (50000, 1) (10000, 784) (10000, 1) (10000, 784) (10000, 1)\n"
     ]
    }
   ],
   "source": [
    "import pickle\n",
    "import gzip\n",
    "\n",
    "with gzip.open('mnist.pkl.gz', 'rb') as f:\n",
    "    train_set, valid_set, test_set = pickle.load(f, encoding='latin1')\n",
    "\n",
    "Xtrain = train_set[0]\n",
    "Ttrain = train_set[1].reshape(-1, 1)\n",
    "\n",
    "Xval = valid_set[0]\n",
    "Tval = valid_set[1].reshape(-1, 1)\n",
    "\n",
    "Xtest = test_set[0]\n",
    "Ttest = test_set[1].reshape(-1, 1)\n",
    "\n",
    "print(Xtrain.shape, Ttrain.shape,  Xval.shape, Tval.shape,  Xtest.shape, Ttest.shape)"
   ]
  },
  {
   "cell_type": "code",
   "execution_count": 0,
   "metadata": {
    "colab": {
     "base_uri": "https://localhost:8080/",
     "height": 187
    },
    "colab_type": "code",
    "id": "P7xdPrTOoXRH",
    "outputId": "e5367072-ad80-4d83-eddf-e285069985a2"
   },
   "outputs": [
    {
     "data": {
      "text/plain": [
       "array([[5],\n",
       "       [0],\n",
       "       [4],\n",
       "       [1],\n",
       "       [9],\n",
       "       [2],\n",
       "       [1],\n",
       "       [3],\n",
       "       [1],\n",
       "       [4]])"
      ]
     },
     "execution_count": 43,
     "metadata": {
      "tags": []
     },
     "output_type": "execute_result"
    }
   ],
   "source": [
    "Ttrain[:10]"
   ]
  },
  {
   "cell_type": "markdown",
   "metadata": {
    "colab_type": "text",
    "id": "um6y4K3NoXRQ"
   },
   "source": [
    "Those must be the digits.  What the heck is in those 784 columns in the input matrices?"
   ]
  },
  {
   "cell_type": "code",
   "execution_count": 0,
   "metadata": {
    "colab": {
     "base_uri": "https://localhost:8080/",
     "height": 265
    },
    "colab_type": "code",
    "id": "21x3CGO8oXRR",
    "outputId": "17cdad34-ed09-4b01-9b38-4465ef81959a"
   },
   "outputs": [
    {
     "data": {
      "image/png": "[encoded data removed]",
      "text/plain": [
       "<Figure size 432x288 with 1 Axes>"
      ]
     },
     "metadata": {
      "tags": []
     },
     "output_type": "display_data"
    }
   ],
   "source": [
    "plt.plot(Xtrain[0, :]);"
   ]
  },
  {
   "cell_type": "markdown",
   "metadata": {
    "colab_type": "text",
    "id": "ZsnfIa67oXRZ"
   },
   "source": [
    "Well, values between 0 and 1.  That doesn't help much.  These are actually intensity values for 784 pixels in an image.\n",
    "\n",
    "How can we rearrange these values into an image to be displayed?  We must first figure out how many columns and rows the image would have.  Perhaps the image is a square image, with equal numbers of rows and columns."
   ]
  },
  {
   "cell_type": "code",
   "execution_count": 0,
   "metadata": {
    "colab": {
     "base_uri": "https://localhost:8080/",
     "height": 34
    },
    "colab_type": "code",
    "id": "yyRnbnRNoXRc",
    "outputId": "ddb6e2af-549f-4ca4-9913-6bef0beb54be"
   },
   "outputs": [
    {
     "data": {
      "text/plain": [
       "28.0"
      ]
     },
     "execution_count": 45,
     "metadata": {
      "tags": []
     },
     "output_type": "execute_result"
    }
   ],
   "source": [
    "import math\n",
    "math.sqrt(784)"
   ]
  },
  {
   "cell_type": "markdown",
   "metadata": {
    "colab_type": "text",
    "id": "uzp8HCOYoXRn"
   },
   "source": [
    "Ah, cool."
   ]
  },
  {
   "cell_type": "code",
   "execution_count": 0,
   "metadata": {
    "colab": {
     "base_uri": "https://localhost:8080/",
     "height": 34
    },
    "colab_type": "code",
    "id": "PPDy6CRzoXRo",
    "outputId": "9ef2539f-b4e3-4f7f-8e71-cc4813e93dbe"
   },
   "outputs": [
    {
     "data": {
      "text/plain": [
       "784"
      ]
     },
     "execution_count": 46,
     "metadata": {
      "tags": []
     },
     "output_type": "execute_result"
    }
   ],
   "source": [
    "28 * 28"
   ]
  },
  {
   "cell_type": "markdown",
   "metadata": {
    "colab_type": "text",
    "id": "BBIh59bdoXRw"
   },
   "source": [
    "Ok Let's reshape it and look at the numbers."
   ]
  },
  {
   "cell_type": "code",
   "execution_count": 0,
   "metadata": {
    "colab": {
     "base_uri": "https://localhost:8080/",
     "height": 1000
    },
    "colab_type": "code",
    "id": "aINGXJlMoXRy",
    "outputId": "796d8bfa-7a87-4b7c-e990-8520a1f304bd"
   },
   "outputs": [
    {
     "data": {
      "text/plain": [
       "array([[0.        , 0.        , 0.        , 0.        , 0.        ,\n",
       "        0.        , 0.        , 0.        , 0.        , 0.        ,\n",
       "        0.        , 0.        , 0.        , 0.        , 0.        ,\n",
       "        0.        , 0.        , 0.        , 0.        , 0.        ,\n",
       "        0.        , 0.        , 0.        , 0.        , 0.        ,\n",
       "        0.        , 0.        , 0.        ],\n",
       "       [0.        , 0.        , 0.        , 0.        , 0.        ,\n",
       "        0.        , 0.        , 0.        , 0.        , 0.        ,\n",
       "        0.        , 0.        , 0.        , 0.        , 0.        ,\n",
       "        0.        , 0.        , 0.        , 0.        , 0.        ,\n",
       "        0.        , 0.        , 0.        , 0.        , 0.        ,\n",
       "        0.        , 0.        , 0.        ],\n",
       "       [0.        , 0.        , 0.        , 0.        , 0.        ,\n",
       "        0.        , 0.        , 0.        , 0.        , 0.        ,\n",
       "        0.        , 0.        , 0.        , 0.        , 0.        ,\n",
       "        0.        , 0.        , 0.        , 0.        , 0.        ,\n",
       "        0.        , 0.        , 0.        , 0.        , 0.        ,\n",
       "        0.        , 0.        , 0.        ],\n",
       "       [0.        , 0.        , 0.        , 0.        , 0.        ,\n",
       "        0.        , 0.        , 0.        , 0.        , 0.        ,\n",
       "        0.        , 0.        , 0.        , 0.        , 0.        ,\n",
       "        0.        , 0.        , 0.        , 0.        , 0.        ,\n",
       "        0.        , 0.        , 0.        , 0.        , 0.        ,\n",
       "        0.        , 0.        , 0.        ],\n",
       "       [0.        , 0.        , 0.        , 0.        , 0.        ,\n",
       "        0.        , 0.        , 0.        , 0.        , 0.        ,\n",
       "        0.        , 0.        , 0.        , 0.        , 0.        ,\n",
       "        0.        , 0.        , 0.        , 0.        , 0.        ,\n",
       "        0.        , 0.        , 0.        , 0.        , 0.        ,\n",
       "        0.        , 0.        , 0.        ],\n",
       "       [0.        , 0.        , 0.        , 0.        , 0.        ,\n",
       "        0.        , 0.        , 0.        , 0.        , 0.        ,\n",
       "        0.        , 0.        , 0.01171875, 0.0703125 , 0.0703125 ,\n",
       "        0.0703125 , 0.4921875 , 0.53125   , 0.68359375, 0.1015625 ,\n",
       "        0.6484375 , 0.99609375, 0.96484375, 0.49609375, 0.        ,\n",
       "        0.        , 0.        , 0.        ],\n",
       "       [0.        , 0.        , 0.        , 0.        , 0.        ,\n",
       "        0.        , 0.        , 0.        , 0.1171875 , 0.140625  ,\n",
       "        0.3671875 , 0.6015625 , 0.6640625 , 0.98828125, 0.98828125,\n",
       "        0.98828125, 0.98828125, 0.98828125, 0.87890625, 0.671875  ,\n",
       "        0.98828125, 0.9453125 , 0.76171875, 0.25      , 0.        ,\n",
       "        0.        , 0.        , 0.        ],\n",
       "       [0.        , 0.        , 0.        , 0.        , 0.        ,\n",
       "        0.        , 0.        , 0.19140625, 0.9296875 , 0.98828125,\n",
       "        0.98828125, 0.98828125, 0.98828125, 0.98828125, 0.98828125,\n",
       "        0.98828125, 0.98828125, 0.98046875, 0.36328125, 0.3203125 ,\n",
       "        0.3203125 , 0.21875   , 0.15234375, 0.        , 0.        ,\n",
       "        0.        , 0.        , 0.        ],\n",
       "       [0.        , 0.        , 0.        , 0.        , 0.        ,\n",
       "        0.        , 0.        , 0.0703125 , 0.85546875, 0.98828125,\n",
       "        0.98828125, 0.98828125, 0.98828125, 0.98828125, 0.7734375 ,\n",
       "        0.7109375 , 0.96484375, 0.94140625, 0.        , 0.        ,\n",
       "        0.        , 0.        , 0.        , 0.        , 0.        ,\n",
       "        0.        , 0.        , 0.        ],\n",
       "       [0.        , 0.        , 0.        , 0.        , 0.        ,\n",
       "        0.        , 0.        , 0.        , 0.3125    , 0.609375  ,\n",
       "        0.41796875, 0.98828125, 0.98828125, 0.80078125, 0.04296875,\n",
       "        0.        , 0.16796875, 0.6015625 , 0.        , 0.        ,\n",
       "        0.        , 0.        , 0.        , 0.        , 0.        ,\n",
       "        0.        , 0.        , 0.        ],\n",
       "       [0.        , 0.        , 0.        , 0.        , 0.        ,\n",
       "        0.        , 0.        , 0.        , 0.        , 0.0546875 ,\n",
       "        0.00390625, 0.6015625 , 0.98828125, 0.3515625 , 0.        ,\n",
       "        0.        , 0.        , 0.        , 0.        , 0.        ,\n",
       "        0.        , 0.        , 0.        , 0.        , 0.        ,\n",
       "        0.        , 0.        , 0.        ],\n",
       "       [0.        , 0.        , 0.        , 0.        , 0.        ,\n",
       "        0.        , 0.        , 0.        , 0.        , 0.        ,\n",
       "        0.        , 0.54296875, 0.98828125, 0.7421875 , 0.0078125 ,\n",
       "        0.        , 0.        , 0.        , 0.        , 0.        ,\n",
       "        0.        , 0.        , 0.        , 0.        , 0.        ,\n",
       "        0.        , 0.        , 0.        ],\n",
       "       [0.        , 0.        , 0.        , 0.        , 0.        ,\n",
       "        0.        , 0.        , 0.        , 0.        , 0.        ,\n",
       "        0.        , 0.04296875, 0.7421875 , 0.98828125, 0.2734375 ,\n",
       "        0.        , 0.        , 0.        , 0.        , 0.        ,\n",
       "        0.        , 0.        , 0.        , 0.        , 0.        ,\n",
       "        0.        , 0.        , 0.        ],\n",
       "       [0.        , 0.        , 0.        , 0.        , 0.        ,\n",
       "        0.        , 0.        , 0.        , 0.        , 0.        ,\n",
       "        0.        , 0.        , 0.13671875, 0.94140625, 0.87890625,\n",
       "        0.625     , 0.421875  , 0.00390625, 0.        , 0.        ,\n",
       "        0.        , 0.        , 0.        , 0.        , 0.        ,\n",
       "        0.        , 0.        , 0.        ],\n",
       "       [0.        , 0.        , 0.        , 0.        , 0.        ,\n",
       "        0.        , 0.        , 0.        , 0.        , 0.        ,\n",
       "        0.        , 0.        , 0.        , 0.31640625, 0.9375    ,\n",
       "        0.98828125, 0.98828125, 0.46484375, 0.09765625, 0.        ,\n",
       "        0.        , 0.        , 0.        , 0.        , 0.        ,\n",
       "        0.        , 0.        , 0.        ],\n",
       "       [0.        , 0.        , 0.        , 0.        , 0.        ,\n",
       "        0.        , 0.        , 0.        , 0.        , 0.        ,\n",
       "        0.        , 0.        , 0.        , 0.        , 0.17578125,\n",
       "        0.7265625 , 0.98828125, 0.98828125, 0.5859375 , 0.10546875,\n",
       "        0.        , 0.        , 0.        , 0.        , 0.        ,\n",
       "        0.        , 0.        , 0.        ],\n",
       "       [0.        , 0.        , 0.        , 0.        , 0.        ,\n",
       "        0.        , 0.        , 0.        , 0.        , 0.        ,\n",
       "        0.        , 0.        , 0.        , 0.        , 0.        ,\n",
       "        0.0625    , 0.36328125, 0.984375  , 0.98828125, 0.73046875,\n",
       "        0.        , 0.        , 0.        , 0.        , 0.        ,\n",
       "        0.        , 0.        , 0.        ],\n",
       "       [0.        , 0.        , 0.        , 0.        , 0.        ,\n",
       "        0.        , 0.        , 0.        , 0.        , 0.        ,\n",
       "        0.        , 0.        , 0.        , 0.        , 0.        ,\n",
       "        0.        , 0.        , 0.97265625, 0.98828125, 0.97265625,\n",
       "        0.25      , 0.        , 0.        , 0.        , 0.        ,\n",
       "        0.        , 0.        , 0.        ],\n",
       "       [0.        , 0.        , 0.        , 0.        , 0.        ,\n",
       "        0.        , 0.        , 0.        , 0.        , 0.        ,\n",
       "        0.        , 0.        , 0.        , 0.        , 0.1796875 ,\n",
       "        0.5078125 , 0.71484375, 0.98828125, 0.98828125, 0.80859375,\n",
       "        0.0078125 , 0.        , 0.        , 0.        , 0.        ,\n",
       "        0.        , 0.        , 0.        ],\n",
       "       [0.        , 0.        , 0.        , 0.        , 0.        ,\n",
       "        0.        , 0.        , 0.        , 0.        , 0.        ,\n",
       "        0.        , 0.        , 0.15234375, 0.578125  , 0.89453125,\n",
       "        0.98828125, 0.98828125, 0.98828125, 0.9765625 , 0.7109375 ,\n",
       "        0.        , 0.        , 0.        , 0.        , 0.        ,\n",
       "        0.        , 0.        , 0.        ],\n",
       "       [0.        , 0.        , 0.        , 0.        , 0.        ,\n",
       "        0.        , 0.        , 0.        , 0.        , 0.        ,\n",
       "        0.09375   , 0.4453125 , 0.86328125, 0.98828125, 0.98828125,\n",
       "        0.98828125, 0.98828125, 0.78515625, 0.3046875 , 0.        ,\n",
       "        0.        , 0.        , 0.        , 0.        , 0.        ,\n",
       "        0.        , 0.        , 0.        ],\n",
       "       [0.        , 0.        , 0.        , 0.        , 0.        ,\n",
       "        0.        , 0.        , 0.        , 0.08984375, 0.2578125 ,\n",
       "        0.83203125, 0.98828125, 0.98828125, 0.98828125, 0.98828125,\n",
       "        0.7734375 , 0.31640625, 0.0078125 , 0.        , 0.        ,\n",
       "        0.        , 0.        , 0.        , 0.        , 0.        ,\n",
       "        0.        , 0.        , 0.        ],\n",
       "       [0.        , 0.        , 0.        , 0.        , 0.        ,\n",
       "        0.        , 0.0703125 , 0.66796875, 0.85546875, 0.98828125,\n",
       "        0.98828125, 0.98828125, 0.98828125, 0.76171875, 0.3125    ,\n",
       "        0.03515625, 0.        , 0.        , 0.        , 0.        ,\n",
       "        0.        , 0.        , 0.        , 0.        , 0.        ,\n",
       "        0.        , 0.        , 0.        ],\n",
       "       [0.        , 0.        , 0.        , 0.        , 0.21484375,\n",
       "        0.671875  , 0.8828125 , 0.98828125, 0.98828125, 0.98828125,\n",
       "        0.98828125, 0.953125  , 0.51953125, 0.04296875, 0.        ,\n",
       "        0.        , 0.        , 0.        , 0.        , 0.        ,\n",
       "        0.        , 0.        , 0.        , 0.        , 0.        ,\n",
       "        0.        , 0.        , 0.        ],\n",
       "       [0.        , 0.        , 0.        , 0.        , 0.53125   ,\n",
       "        0.98828125, 0.98828125, 0.98828125, 0.828125  , 0.52734375,\n",
       "        0.515625  , 0.0625    , 0.        , 0.        , 0.        ,\n",
       "        0.        , 0.        , 0.        , 0.        , 0.        ,\n",
       "        0.        , 0.        , 0.        , 0.        , 0.        ,\n",
       "        0.        , 0.        , 0.        ],\n",
       "       [0.        , 0.        , 0.        , 0.        , 0.        ,\n",
       "        0.        , 0.        , 0.        , 0.        , 0.        ,\n",
       "        0.        , 0.        , 0.        , 0.        , 0.        ,\n",
       "        0.        , 0.        , 0.        , 0.        , 0.        ,\n",
       "        0.        , 0.        , 0.        , 0.        , 0.        ,\n",
       "        0.        , 0.        , 0.        ],\n",
       "       [0.        , 0.        , 0.        , 0.        , 0.        ,\n",
       "        0.        , 0.        , 0.        , 0.        , 0.        ,\n",
       "        0.        , 0.        , 0.        , 0.        , 0.        ,\n",
       "        0.        , 0.        , 0.        , 0.        , 0.        ,\n",
       "        0.        , 0.        , 0.        , 0.        , 0.        ,\n",
       "        0.        , 0.        , 0.        ],\n",
       "       [0.        , 0.        , 0.        , 0.        , 0.        ,\n",
       "        0.        , 0.        , 0.        , 0.        , 0.        ,\n",
       "        0.        , 0.        , 0.        , 0.        , 0.        ,\n",
       "        0.        , 0.        , 0.        , 0.        , 0.        ,\n",
       "        0.        , 0.        , 0.        , 0.        , 0.        ,\n",
       "        0.        , 0.        , 0.        ]], dtype=float32)"
      ]
     },
     "execution_count": 47,
     "metadata": {
      "tags": []
     },
     "output_type": "execute_result"
    }
   ],
   "source": [
    "image0 = Xtrain[0, :]\n",
    "image0 = image0.reshape(28, 28)\n",
    "image0"
   ]
  },
  {
   "cell_type": "markdown",
   "metadata": {
    "colab_type": "text",
    "id": "GXV4b3P4oXR8"
   },
   "source": [
    "Not that helpful.  Ok, let's use `matplotlib` to make an image display."
   ]
  },
  {
   "cell_type": "code",
   "execution_count": 0,
   "metadata": {
    "colab": {
     "base_uri": "https://localhost:8080/",
     "height": 265
    },
    "colab_type": "code",
    "id": "nbwrDgcaoXR_",
    "outputId": "a9104551-2dc0-4c7d-f65d-6593e27c7e9e"
   },
   "outputs": [
    {
     "data": {
      "image/png": "[encoded data removed]",
      "text/plain": [
       "<Figure size 432x288 with 1 Axes>"
      ]
     },
     "metadata": {
      "tags": []
     },
     "output_type": "display_data"
    }
   ],
   "source": [
    "plt.imshow(image0);"
   ]
  },
  {
   "cell_type": "markdown",
   "metadata": {
    "colab_type": "text",
    "id": "V03w7GMvoXSH"
   },
   "source": [
    "Humm.  Try a grayscale color map."
   ]
  },
  {
   "cell_type": "code",
   "execution_count": 0,
   "metadata": {
    "colab": {
     "base_uri": "https://localhost:8080/",
     "height": 265
    },
    "colab_type": "code",
    "id": "IqjXardPoXSJ",
    "outputId": "e0809de2-42f5-4463-e840-bc60685cd687"
   },
   "outputs": [
    {
     "data": {
      "image/png": "[encoded data removed]",
      "text/plain": [
       "<Figure size 432x288 with 1 Axes>"
      ]
     },
     "metadata": {
      "tags": []
     },
     "output_type": "display_data"
    }
   ],
   "source": [
    "plt.imshow(image0, cmap='gray');"
   ]
  },
  {
   "cell_type": "markdown",
   "metadata": {
    "colab_type": "text",
    "id": "eBS8AIAuoXSS"
   },
   "source": [
    "With a little more work, we can make it look like a pencil drawing."
   ]
  },
  {
   "cell_type": "code",
   "execution_count": 0,
   "metadata": {
    "colab": {
     "base_uri": "https://localhost:8080/",
     "height": 248
    },
    "colab_type": "code",
    "id": "e4GP2jwEoXST",
    "outputId": "0a4a81a0-6c4f-42bf-b2e1-2c75f6d71f80"
   },
   "outputs": [
    {
     "data": {
      "image/png": "[encoded data removed]",
      "text/plain": [
       "<Figure size 432x288 with 1 Axes>"
      ]
     },
     "metadata": {
      "tags": []
     },
     "output_type": "display_data"
    }
   ],
   "source": [
    "plt.imshow(-image0, cmap='gray')  # notice the negative sign\n",
    "plt.axis('off');"
   ]
  },
  {
   "cell_type": "markdown",
   "metadata": {
    "colab_type": "text",
    "id": "Nlt4CgfeoXSf"
   },
   "source": [
    "Looks like a 5.  What class label is associated with this image?"
   ]
  },
  {
   "cell_type": "code",
   "execution_count": 0,
   "metadata": {
    "colab": {
     "base_uri": "https://localhost:8080/",
     "height": 34
    },
    "colab_type": "code",
    "id": "TWR1xW0JoXSg",
    "outputId": "8c9bd906-8ad0-449b-c814-36c32c52f26b"
   },
   "outputs": [
    {
     "data": {
      "text/plain": [
       "array([5])"
      ]
     },
     "execution_count": 51,
     "metadata": {
      "tags": []
     },
     "output_type": "execute_result"
    }
   ],
   "source": [
    "Ttrain[0]"
   ]
  },
  {
   "cell_type": "markdown",
   "metadata": {
    "colab_type": "text",
    "id": "M3aWM049oXSn"
   },
   "source": [
    "Okay.  Makes sense.  Let's look at the first 100 images and their labels, as plot titles."
   ]
  },
  {
   "cell_type": "code",
   "execution_count": 0,
   "metadata": {
    "colab": {
     "base_uri": "https://localhost:8080/",
     "height": 952
    },
    "colab_type": "code",
    "id": "KtQtr_iAoXSo",
    "outputId": "b00e8cf2-55ab-4a2d-b753-40a41f336f36"
   },
   "outputs": [
    {
     "data": {
      "image/png": "[encoded data removed]",
      "text/plain": [
       "<Figure size 1440x1440 with 100 Axes>"
      ]
     },
     "metadata": {
      "tags": []
     },
     "output_type": "display_data"
    }
   ],
   "source": [
    "plt.figure(figsize=(20, 20))\n",
    "for i in range(100):\n",
    "    plt.subplot(10, 10, i + 1)\n",
    "    plt.imshow(-Xtrain[i, :].reshape(28, 28), cmap='gray')\n",
    "    plt.title(Ttrain[i, 0])\n",
    "    plt.axis('off');"
   ]
  },
  {
   "cell_type": "markdown",
   "metadata": {
    "colab_type": "text",
    "id": "iymrhmepoXSs"
   },
   "source": [
    "Okay.  We are ready to try to classify, right?\n",
    "\n",
    "First we should check the proportions of each digit in the given data partitions."
   ]
  },
  {
   "cell_type": "code",
   "execution_count": 0,
   "metadata": {
    "colab": {
     "base_uri": "https://localhost:8080/",
     "height": 34
    },
    "colab_type": "code",
    "id": "VjpByyUMoXSs",
    "outputId": "a2a57e56-150a-42f0-a8f6-2809de222689"
   },
   "outputs": [
    {
     "data": {
      "text/plain": [
       "(50000, 10)"
      ]
     },
     "execution_count": 53,
     "metadata": {
      "tags": []
     },
     "output_type": "execute_result"
    }
   ],
   "source": [
    "classes = np.arange(10)\n",
    "(Ttrain == classes).shape"
   ]
  },
  {
   "cell_type": "code",
   "execution_count": 0,
   "metadata": {
    "colab": {
     "base_uri": "https://localhost:8080/",
     "height": 34
    },
    "colab_type": "code",
    "id": "nZlqzKHKoXSw",
    "outputId": "a902dcf7-1c4c-4426-e9f1-645a845230ef"
   },
   "outputs": [
    {
     "data": {
      "text/plain": [
       "array([4932, 5678, 4968, 5101, 4859, 4506, 4951, 5175, 4842, 4988])"
      ]
     },
     "execution_count": 54,
     "metadata": {
      "tags": []
     },
     "output_type": "execute_result"
    }
   ],
   "source": [
    "(Ttrain == classes).sum(axis=0)"
   ]
  },
  {
   "cell_type": "code",
   "execution_count": 0,
   "metadata": {
    "colab": {
     "base_uri": "https://localhost:8080/",
     "height": 51
    },
    "colab_type": "code",
    "id": "7cit1uJBoXS0",
    "outputId": "67255ba6-bb4e-4bb6-aa07-88a419eac556"
   },
   "outputs": [
    {
     "data": {
      "text/plain": [
       "array([0.09864, 0.11356, 0.09936, 0.10202, 0.09718, 0.09012, 0.09902,\n",
       "       0.1035 , 0.09684, 0.09976])"
      ]
     },
     "execution_count": 55,
     "metadata": {
      "tags": []
     },
     "output_type": "execute_result"
    }
   ],
   "source": [
    "(Ttrain == classes).sum(axis=0) / Ttrain.shape[0]"
   ]
  },
  {
   "cell_type": "code",
   "execution_count": 0,
   "metadata": {
    "colab": {
     "base_uri": "https://localhost:8080/",
     "height": 204
    },
    "colab_type": "code",
    "id": "W_dL9aZ0oXS4",
    "outputId": "271915b4-f283-48c7-f80a-e886d988d254"
   },
   "outputs": [
    {
     "data": {
      "text/plain": [
       "['Ttrain',\n",
       " 0.09864,\n",
       " 0.11356,\n",
       " 0.09936,\n",
       " 0.10202,\n",
       " 0.09718,\n",
       " 0.09012,\n",
       " 0.09902,\n",
       " 0.1035,\n",
       " 0.09684,\n",
       " 0.09976]"
      ]
     },
     "execution_count": 56,
     "metadata": {
      "tags": []
     },
     "output_type": "execute_result"
    }
   ],
   "source": [
    "['Ttrain', *(Ttrain == classes).sum(axis=0) / Ttrain.shape[0]]"
   ]
  },
  {
   "cell_type": "code",
   "execution_count": 0,
   "metadata": {
    "colab": {
     "base_uri": "https://localhost:8080/",
     "height": 142
    },
    "colab_type": "code",
    "id": "g9RZ8-uuoXS9",
    "outputId": "273c1418-244d-4750-b784-83d73f08f478"
   },
   "outputs": [
    {
     "data": {
      "text/html": [
       "<div>\n",
       "<style scoped>\n",
       "    .dataframe tbody tr th:only-of-type {\n",
       "        vertical-align: middle;\n",
       "    }\n",
       "\n",
       "    .dataframe tbody tr th {\n",
       "        vertical-align: top;\n",
       "    }\n",
       "\n",
       "    .dataframe thead th {\n",
       "        text-align: right;\n",
       "    }\n",
       "</style>\n",
       "<table border=\"1\" class=\"dataframe\">\n",
       "  <thead>\n",
       "    <tr style=\"text-align: right;\">\n",
       "      <th></th>\n",
       "      <th>0</th>\n",
       "      <th>1</th>\n",
       "      <th>2</th>\n",
       "      <th>3</th>\n",
       "      <th>4</th>\n",
       "      <th>5</th>\n",
       "      <th>6</th>\n",
       "      <th>7</th>\n",
       "      <th>8</th>\n",
       "      <th>9</th>\n",
       "      <th>10</th>\n",
       "    </tr>\n",
       "  </thead>\n",
       "  <tbody>\n",
       "    <tr>\n",
       "      <th>0</th>\n",
       "      <td>Train</td>\n",
       "      <td>0.09864</td>\n",
       "      <td>0.11356</td>\n",
       "      <td>0.09936</td>\n",
       "      <td>0.10202</td>\n",
       "      <td>0.09718</td>\n",
       "      <td>0.09012</td>\n",
       "      <td>0.09902</td>\n",
       "      <td>0.1035</td>\n",
       "      <td>0.09684</td>\n",
       "      <td>0.09976</td>\n",
       "    </tr>\n",
       "    <tr>\n",
       "      <th>1</th>\n",
       "      <td>Tval</td>\n",
       "      <td>0.09910</td>\n",
       "      <td>0.10640</td>\n",
       "      <td>0.09900</td>\n",
       "      <td>0.10300</td>\n",
       "      <td>0.09830</td>\n",
       "      <td>0.09150</td>\n",
       "      <td>0.09670</td>\n",
       "      <td>0.1090</td>\n",
       "      <td>0.10090</td>\n",
       "      <td>0.09610</td>\n",
       "    </tr>\n",
       "    <tr>\n",
       "      <th>2</th>\n",
       "      <td>Ttest</td>\n",
       "      <td>0.09800</td>\n",
       "      <td>0.11350</td>\n",
       "      <td>0.10320</td>\n",
       "      <td>0.10100</td>\n",
       "      <td>0.09820</td>\n",
       "      <td>0.08920</td>\n",
       "      <td>0.09580</td>\n",
       "      <td>0.1028</td>\n",
       "      <td>0.09740</td>\n",
       "      <td>0.10090</td>\n",
       "    </tr>\n",
       "  </tbody>\n",
       "</table>\n",
       "</div>"
      ],
      "text/plain": [
       "      0        1        2        3   ...       7       8        9        10\n",
       "0  Train  0.09864  0.11356  0.09936  ...  0.09902  0.1035  0.09684  0.09976\n",
       "1   Tval  0.09910  0.10640  0.09900  ...  0.09670  0.1090  0.10090  0.09610\n",
       "2  Ttest  0.09800  0.11350  0.10320  ...  0.09580  0.1028  0.09740  0.10090\n",
       "\n",
       "[3 rows x 11 columns]"
      ]
     },
     "execution_count": 57,
     "metadata": {
      "tags": []
     },
     "output_type": "execute_result"
    }
   ],
   "source": [
    "import pandas\n",
    "\n",
    "result = []\n",
    "result.append(['Train', *(Ttrain == classes).sum(axis=0) / Ttrain.shape[0]])\n",
    "result.append(['Tval', *(Tval == classes).sum(axis=0) / Tval.shape[0]])\n",
    "result.append(['Ttest', *(Ttest == classes).sum(axis=0) / Ttest.shape[0]])\n",
    "pandas.DataFrame(result)"
   ]
  },
  {
   "cell_type": "markdown",
   "metadata": {
    "colab_type": "text",
    "id": "8cg1iKB4oXTE"
   },
   "source": [
    "All very close to 0.1. Super."
   ]
  },
  {
   "cell_type": "markdown",
   "metadata": {
    "colab_type": "text",
    "id": "kDqqVlEBoXTF"
   },
   "source": [
    "Time for our first experiment.  Let's train a small neural net with 5 hidden units in one layer for a small number of epochs using Adam."
   ]
  },
  {
   "cell_type": "code",
   "execution_count": 0,
   "metadata": {
    "colab": {
     "base_uri": "https://localhost:8080/",
     "height": 187
    },
    "colab_type": "code",
    "id": "DgM3ojRQoXTG",
    "outputId": "966381be-3554-4302-f36e-0e55e4ce7c80"
   },
   "outputs": [
    {
     "name": "stdout",
     "output_type": "stream",
     "text": [
      "Adam: Epoch 10 Error=0.82887\n",
      "Adam: Epoch 20 Error=0.85170\n",
      "Adam: Epoch 30 Error=0.87229\n",
      "Adam: Epoch 40 Error=0.88913\n",
      "Adam: Epoch 50 Error=0.90202\n",
      "Adam: Epoch 60 Error=0.91179\n",
      "Adam: Epoch 70 Error=0.91932\n",
      "Adam: Epoch 80 Error=0.92541\n",
      "Adam: Epoch 90 Error=0.93041\n",
      "Adam: Epoch 100 Error=0.93448\n"
     ]
    }
   ],
   "source": [
    "n_epochs = 100\n",
    "learning_rate = 0.01\n",
    "\n",
    "np.random.seed(142)\n",
    "\n",
    "nnet = NeuralNetworkClassifier(Xtrain.shape[1], [5], len(classes))\n",
    "nnet.train(Xtrain, Ttrain, n_epochs, learning_rate, method='adam', verbose=True)"
   ]
  },
  {
   "cell_type": "code",
   "execution_count": 0,
   "metadata": {
    "colab": {
     "base_uri": "https://localhost:8080/",
     "height": 34
    },
    "colab_type": "code",
    "id": "z4ntwmIJoXTJ",
    "outputId": "db470731-52ec-4d82-c2ec-90ad8ff12c59"
   },
   "outputs": [
    {
     "name": "stdout",
     "output_type": "stream",
     "text": [
      "NeuralNetworkClassifier(784, [5], 10, 'tanh') trained for 100 epochs, final training error 0.9345\n"
     ]
    }
   ],
   "source": [
    "print(nnet)  # uses the __str__ method"
   ]
  },
  {
   "cell_type": "code",
   "execution_count": 0,
   "metadata": {
    "colab": {
     "base_uri": "https://localhost:8080/",
     "height": 267
    },
    "colab_type": "code",
    "id": "R1L-VUWQoXTN",
    "outputId": "ace4b6d7-c4b9-4092-925f-49cb5254732b"
   },
   "outputs": [
    {
     "data": {
      "image/png": "[encoded data removed]",
      "text/plain": [
       "<Figure size 432x288 with 1 Axes>"
      ]
     },
     "metadata": {
      "tags": []
     },
     "output_type": "display_data"
    }
   ],
   "source": [
    "plt.plot(nnet.error_trace);"
   ]
  },
  {
   "cell_type": "markdown",
   "metadata": {
    "colab_type": "text",
    "id": "KHK5QRgroXTW"
   },
   "source": [
    "Now it is time for you to run some longer experiments.  You must write the code to do the following steps:\n",
    "\n",
    "1. For each of at least five different hidden layer structures\n",
    "\n",
    "    1. Train a network for 500 epochs.\n",
    "    1. Collect percent of samples correctly classified in the given train, validate, and test partitions.\n",
    "\n",
    "2. Create a `pandas.DataFrame` with these results and with column headings `('Hidden Layers', 'Train', 'Validate', 'Test', 'Time')` where `'Time'` is the number of seconds required to train each network.\n",
    "\n",
    "3. Retrain a network using the best hidden layer structure, judged by the percent correct on the validation set.\n",
    "4. Use this network to find several images in the test set for which the network's probability of the correct class is the closest to zero, meaning images for which your network does the worst.  Draw these images and discuss why your network might not be doing well for those images."
   ]
  },
  {
   "cell_type": "code",
   "execution_count": 0,
   "metadata": {
    "colab": {},
    "colab_type": "code",
    "id": "a89A0skhXJZ8"
   },
   "outputs": [],
   "source": [
    "import time"
   ]
  },
  {
   "cell_type": "code",
   "execution_count": 0,
   "metadata": {
    "colab": {},
    "colab_type": "code",
    "id": "LtriasKhXJaD"
   },
   "outputs": [],
   "source": [
    "def run_experiment(Xtrain, Ttrain, Xtest, Ttest, Xvalidate, Tvalidate, n_hidden_units_per_layer_choices):\n",
    "    epochs = 500\n",
    "    rate = 0.01\n",
    "    results = []\n",
    "    for nh in n_hidden_units_per_layer_choices:\n",
    "        start_time = time.time()        \n",
    "        nnet = NeuralNetworkClassifier(Xtrain.shape[1], nh, len(np.unique(Ttrain)))\n",
    "        nnet.train(Xtrain, Ttrain, epochs, rate, method='adam')\n",
    "        elapsed_time = time.time() - start_time\n",
    "        print (elapsed_time)\n",
    "        Train_classes, Train_probs = nnet.use(Xtrain)\n",
    "        Test_classes, Test_probs = nnet.use(Xtest)\n",
    "        Validate_classes, Validate_probs = nnet.use(Xvalidate)\n",
    "        Train_percent = np.mean(Train_classes == Ttrain) * 100\n",
    "        Test_percent = np.mean(Test_classes == Ttest) * 100 \n",
    "        Validate_percent = np.mean(Validate_classes == Tval) * 100 \n",
    "        results.append([nh, Train_percent, Test_percent, Validate_percent, elapsed_time])\n",
    "        df = pandas.DataFrame(results, columns=('Hidden Layers', 'Train', 'Validate', 'Test', 'Time'))\n",
    "    return df"
   ]
  },
  {
   "cell_type": "code",
   "execution_count": 0,
   "metadata": {
    "colab": {
     "base_uri": "https://localhost:8080/",
     "height": 952
    },
    "colab_type": "code",
    "id": "EC_zcQdBXJaJ",
    "outputId": "1b1a225c-8db0-4cd5-815d-a245d4ab336c"
   },
   "outputs": [
    {
     "name": "stdout",
     "output_type": "stream",
     "text": [
      "Adam: Epoch 50 Error=0.97328\n",
      "Adam: Epoch 100 Error=0.97618\n",
      "Adam: Epoch 150 Error=0.97719\n",
      "Adam: Epoch 200 Error=0.97783\n",
      "Adam: Epoch 250 Error=0.97827\n",
      "Adam: Epoch 300 Error=0.97859\n",
      "Adam: Epoch 350 Error=0.97885\n",
      "Adam: Epoch 400 Error=0.97905\n",
      "Adam: Epoch 450 Error=0.97921\n",
      "Adam: Epoch 500 Error=0.97935\n",
      "245.552809715271\n",
      "Adam: Epoch 50 Error=0.97115\n",
      "Adam: Epoch 100 Error=0.98013\n",
      "Adam: Epoch 150 Error=0.98393\n",
      "Adam: Epoch 200 Error=0.98631\n",
      "Adam: Epoch 250 Error=0.98797\n",
      "Adam: Epoch 300 Error=0.98916\n",
      "Adam: Epoch 350 Error=0.99008\n",
      "Adam: Epoch 400 Error=0.99081\n",
      "Adam: Epoch 450 Error=0.99137\n",
      "Adam: Epoch 500 Error=0.99187\n",
      "302.62653374671936\n",
      "Adam: Epoch 50 Error=0.97408\n",
      "Adam: Epoch 100 Error=0.99004\n",
      "Adam: Epoch 150 Error=0.99475\n",
      "Adam: Epoch 200 Error=0.99673\n",
      "Adam: Epoch 250 Error=0.99777\n",
      "Adam: Epoch 300 Error=0.99834\n",
      "Adam: Epoch 350 Error=0.99870\n",
      "Adam: Epoch 400 Error=0.99896\n",
      "Adam: Epoch 450 Error=0.99913\n",
      "Adam: Epoch 500 Error=0.99926\n",
      "465.12486934661865\n",
      "Adam: Epoch 50 Error=0.98070\n",
      "Adam: Epoch 100 Error=0.99211\n",
      "Adam: Epoch 150 Error=0.99616\n",
      "Adam: Epoch 200 Error=0.99792\n",
      "Adam: Epoch 250 Error=0.99873\n",
      "Adam: Epoch 300 Error=0.99916\n",
      "Adam: Epoch 350 Error=0.99941\n",
      "Adam: Epoch 400 Error=0.99956\n",
      "Adam: Epoch 450 Error=0.99966\n",
      "Adam: Epoch 500 Error=0.99974\n",
      "518.9384248256683\n",
      "Adam: Epoch 50 Error=0.95930\n",
      "Adam: Epoch 100 Error=0.99234\n",
      "Adam: Epoch 150 Error=0.99669\n",
      "Adam: Epoch 200 Error=0.99799\n",
      "Adam: Epoch 250 Error=0.99865\n",
      "Adam: Epoch 300 Error=0.99899\n",
      "Adam: Epoch 350 Error=0.99923\n",
      "Adam: Epoch 400 Error=0.99937\n",
      "Adam: Epoch 450 Error=0.99948\n",
      "Adam: Epoch 500 Error=0.99954\n",
      "541.8756992816925\n"
     ]
    }
   ],
   "source": [
    "result = run_experiment(Xtrain, Ttrain, Xtest, Ttest, Xval, Tval, \n",
    "                   n_hidden_units_per_layer_choices=[[0], [20], [50, 20], [50,50],[50, 50, 20]]);\n",
    "                   "
   ]
  },
  {
   "cell_type": "code",
   "execution_count": 0,
   "metadata": {
    "colab": {
     "base_uri": "https://localhost:8080/",
     "height": 187
    },
    "colab_type": "code",
    "id": "QjuEcyE31UFo",
    "outputId": "56e47524-8b71-4a36-909a-f84aef9f8ca3"
   },
   "outputs": [
    {
     "name": "stdout",
     "output_type": "stream",
     "text": [
      "Adam: Epoch 50 Error=0.98185\n",
      "Adam: Epoch 100 Error=0.99323\n",
      "Adam: Epoch 150 Error=0.99679\n",
      "Adam: Epoch 200 Error=0.99823\n",
      "Adam: Epoch 250 Error=0.99893\n",
      "Adam: Epoch 300 Error=0.99929\n",
      "Adam: Epoch 350 Error=0.99949\n",
      "Adam: Epoch 400 Error=0.99962\n",
      "Adam: Epoch 450 Error=0.99971\n",
      "Adam: Epoch 500 Error=0.99977\n"
     ]
    }
   ],
   "source": [
    "n_epochs = 500\n",
    "learning_rate = 0.01\n",
    "\n",
    "#np.random.seed(142)\n",
    "\n",
    "nnet = NeuralNetworkClassifier(Xtrain.shape[1], [50,50], len(classes))\n",
    "nnet.train(Xtrain, Ttrain, n_epochs, learning_rate, method='adam', verbose=True)"
   ]
  },
  {
   "cell_type": "markdown",
   "metadata": {
    "colab_type": "text",
    "id": "mVlTI1lqoXTZ"
   },
   "source": [
    "## `confusion_matrix`\n",
    "\n",
    "Now, write a function named `confusion_matrix` that returns a confusion matrix for any classification problem, returned as a `pandas.DataFrame` as shown in Lecture Notes 12.  It must require two arguments, the predicted classes for each sample and the true classes for each sample.  Here is an example."
   ]
  },
  {
   "cell_type": "code",
   "execution_count": 0,
   "metadata": {
    "colab": {
     "base_uri": "https://localhost:8080/",
     "height": 204
    },
    "colab_type": "code",
    "id": "nkkHSkEeomBT",
    "outputId": "97cb0519-d54e-4d27-ddd6-af49b989d92b"
   },
   "outputs": [
    {
     "data": {
      "text/html": [
       "<div>\n",
       "<style scoped>\n",
       "    .dataframe tbody tr th:only-of-type {\n",
       "        vertical-align: middle;\n",
       "    }\n",
       "\n",
       "    .dataframe tbody tr th {\n",
       "        vertical-align: top;\n",
       "    }\n",
       "\n",
       "    .dataframe thead th {\n",
       "        text-align: right;\n",
       "    }\n",
       "</style>\n",
       "<table border=\"1\" class=\"dataframe\">\n",
       "  <thead>\n",
       "    <tr style=\"text-align: right;\">\n",
       "      <th></th>\n",
       "      <th>Hidden Layers</th>\n",
       "      <th>Train</th>\n",
       "      <th>Validate</th>\n",
       "      <th>Test</th>\n",
       "      <th>Time</th>\n",
       "    </tr>\n",
       "  </thead>\n",
       "  <tbody>\n",
       "    <tr>\n",
       "      <th>0</th>\n",
       "      <td>[0]</td>\n",
       "      <td>94.166</td>\n",
       "      <td>92.35</td>\n",
       "      <td>92.57</td>\n",
       "      <td>245.552810</td>\n",
       "    </tr>\n",
       "    <tr>\n",
       "      <th>1</th>\n",
       "      <td>[20]</td>\n",
       "      <td>98.148</td>\n",
       "      <td>92.10</td>\n",
       "      <td>92.35</td>\n",
       "      <td>302.626534</td>\n",
       "    </tr>\n",
       "    <tr>\n",
       "      <th>2</th>\n",
       "      <td>[50, 20]</td>\n",
       "      <td>99.908</td>\n",
       "      <td>93.49</td>\n",
       "      <td>93.56</td>\n",
       "      <td>465.124869</td>\n",
       "    </tr>\n",
       "    <tr>\n",
       "      <th>3</th>\n",
       "      <td>[50, 50]</td>\n",
       "      <td>99.984</td>\n",
       "      <td>93.93</td>\n",
       "      <td>94.34</td>\n",
       "      <td>518.938425</td>\n",
       "    </tr>\n",
       "    <tr>\n",
       "      <th>4</th>\n",
       "      <td>[50, 50, 20]</td>\n",
       "      <td>99.942</td>\n",
       "      <td>92.81</td>\n",
       "      <td>92.99</td>\n",
       "      <td>541.875699</td>\n",
       "    </tr>\n",
       "  </tbody>\n",
       "</table>\n",
       "</div>"
      ],
      "text/plain": [
       "  Hidden Layers   Train  Validate   Test        Time\n",
       "0           [0]  94.166     92.35  92.57  245.552810\n",
       "1          [20]  98.148     92.10  92.35  302.626534\n",
       "2      [50, 20]  99.908     93.49  93.56  465.124869\n",
       "3      [50, 50]  99.984     93.93  94.34  518.938425\n",
       "4  [50, 50, 20]  99.942     92.81  92.99  541.875699"
      ]
     },
     "execution_count": 64,
     "metadata": {
      "tags": []
     },
     "output_type": "execute_result"
    }
   ],
   "source": [
    "result"
   ]
  },
  {
   "cell_type": "markdown",
   "metadata": {
    "colab_type": "text",
    "id": "lefwFKZRzcgP"
   },
   "source": [
    "The best configuration is when the number of hidden layer is [50,50]. The validation accuracy in this case is 93.93 %..\n",
    "When more layers were added the validation accuracy decreased due to overfitting.  "
   ]
  },
  {
   "cell_type": "code",
   "execution_count": 0,
   "metadata": {
    "colab": {},
    "colab_type": "code",
    "id": "QbOESr-ZXJaU"
   },
   "outputs": [],
   "source": [
    "def confusion_matrix(Y_classes, T):\n",
    "    table = []\n",
    "    for true_class in np.unique(Y_classes):\n",
    "        row = []\n",
    "        for predicted_class in np.unique(Y_classes):\n",
    "            row.append(100 * np.mean(Y_classes[T == true_class] == predicted_class))\n",
    "        table.append(row)\n",
    "    conf_matrix = pandas.DataFrame(table, index=np.unique(Y_classes), columns=np.unique(Y_classes))\n",
    "    return conf_matrix"
   ]
  },
  {
   "cell_type": "code",
   "execution_count": 0,
   "metadata": {
    "colab": {
     "base_uri": "https://localhost:8080/",
     "height": 359
    },
    "colab_type": "code",
    "id": "SB62U_jboXTa",
    "outputId": "6e7f4c3e-1e31-43e7-f1e7-b279196d4f9c"
   },
   "outputs": [
    {
     "data": {
      "text/html": [
       "<div>\n",
       "<style scoped>\n",
       "    .dataframe tbody tr th:only-of-type {\n",
       "        vertical-align: middle;\n",
       "    }\n",
       "\n",
       "    .dataframe tbody tr th {\n",
       "        vertical-align: top;\n",
       "    }\n",
       "\n",
       "    .dataframe thead th {\n",
       "        text-align: right;\n",
       "    }\n",
       "</style>\n",
       "<table border=\"1\" class=\"dataframe\">\n",
       "  <thead>\n",
       "    <tr style=\"text-align: right;\">\n",
       "      <th></th>\n",
       "      <th>0</th>\n",
       "      <th>1</th>\n",
       "      <th>2</th>\n",
       "      <th>3</th>\n",
       "      <th>4</th>\n",
       "      <th>5</th>\n",
       "      <th>6</th>\n",
       "      <th>7</th>\n",
       "      <th>8</th>\n",
       "      <th>9</th>\n",
       "    </tr>\n",
       "  </thead>\n",
       "  <tbody>\n",
       "    <tr>\n",
       "      <th>0</th>\n",
       "      <td>89.795918</td>\n",
       "      <td>0.204082</td>\n",
       "      <td>1.530612</td>\n",
       "      <td>0.000000</td>\n",
       "      <td>1.428571</td>\n",
       "      <td>1.020408</td>\n",
       "      <td>3.877551</td>\n",
       "      <td>1.326531</td>\n",
       "      <td>0.204082</td>\n",
       "      <td>0.612245</td>\n",
       "    </tr>\n",
       "    <tr>\n",
       "      <th>1</th>\n",
       "      <td>0.176211</td>\n",
       "      <td>94.625551</td>\n",
       "      <td>1.321586</td>\n",
       "      <td>1.233480</td>\n",
       "      <td>0.264317</td>\n",
       "      <td>0.176211</td>\n",
       "      <td>0.352423</td>\n",
       "      <td>0.088106</td>\n",
       "      <td>1.762115</td>\n",
       "      <td>0.000000</td>\n",
       "    </tr>\n",
       "    <tr>\n",
       "      <th>2</th>\n",
       "      <td>1.162791</td>\n",
       "      <td>1.550388</td>\n",
       "      <td>85.658915</td>\n",
       "      <td>2.228682</td>\n",
       "      <td>1.453488</td>\n",
       "      <td>0.387597</td>\n",
       "      <td>3.294574</td>\n",
       "      <td>0.872093</td>\n",
       "      <td>3.100775</td>\n",
       "      <td>0.290698</td>\n",
       "    </tr>\n",
       "    <tr>\n",
       "      <th>3</th>\n",
       "      <td>0.000000</td>\n",
       "      <td>0.792079</td>\n",
       "      <td>8.415842</td>\n",
       "      <td>77.821782</td>\n",
       "      <td>0.693069</td>\n",
       "      <td>3.663366</td>\n",
       "      <td>2.475248</td>\n",
       "      <td>1.683168</td>\n",
       "      <td>3.465347</td>\n",
       "      <td>0.990099</td>\n",
       "    </tr>\n",
       "    <tr>\n",
       "      <th>4</th>\n",
       "      <td>0.814664</td>\n",
       "      <td>1.120163</td>\n",
       "      <td>1.120163</td>\n",
       "      <td>0.305499</td>\n",
       "      <td>82.281059</td>\n",
       "      <td>1.731161</td>\n",
       "      <td>0.610998</td>\n",
       "      <td>1.018330</td>\n",
       "      <td>0.407332</td>\n",
       "      <td>10.590631</td>\n",
       "    </tr>\n",
       "    <tr>\n",
       "      <th>5</th>\n",
       "      <td>2.690583</td>\n",
       "      <td>0.336323</td>\n",
       "      <td>1.233184</td>\n",
       "      <td>3.139013</td>\n",
       "      <td>1.793722</td>\n",
       "      <td>74.887892</td>\n",
       "      <td>4.708520</td>\n",
       "      <td>0.896861</td>\n",
       "      <td>6.726457</td>\n",
       "      <td>3.587444</td>\n",
       "    </tr>\n",
       "    <tr>\n",
       "      <th>6</th>\n",
       "      <td>3.131524</td>\n",
       "      <td>0.208768</td>\n",
       "      <td>3.027140</td>\n",
       "      <td>0.626305</td>\n",
       "      <td>0.521921</td>\n",
       "      <td>5.323591</td>\n",
       "      <td>84.237996</td>\n",
       "      <td>2.400835</td>\n",
       "      <td>0.313152</td>\n",
       "      <td>0.208768</td>\n",
       "    </tr>\n",
       "    <tr>\n",
       "      <th>7</th>\n",
       "      <td>1.167315</td>\n",
       "      <td>3.015564</td>\n",
       "      <td>1.361868</td>\n",
       "      <td>0.875486</td>\n",
       "      <td>2.918288</td>\n",
       "      <td>0.000000</td>\n",
       "      <td>0.583658</td>\n",
       "      <td>84.241245</td>\n",
       "      <td>0.000000</td>\n",
       "      <td>5.836576</td>\n",
       "    </tr>\n",
       "    <tr>\n",
       "      <th>8</th>\n",
       "      <td>1.026694</td>\n",
       "      <td>1.848049</td>\n",
       "      <td>0.821355</td>\n",
       "      <td>6.262834</td>\n",
       "      <td>0.513347</td>\n",
       "      <td>7.802875</td>\n",
       "      <td>1.129363</td>\n",
       "      <td>1.437372</td>\n",
       "      <td>76.694045</td>\n",
       "      <td>2.464066</td>\n",
       "    </tr>\n",
       "    <tr>\n",
       "      <th>9</th>\n",
       "      <td>2.081269</td>\n",
       "      <td>1.288404</td>\n",
       "      <td>0.000000</td>\n",
       "      <td>0.991080</td>\n",
       "      <td>5.748266</td>\n",
       "      <td>1.189296</td>\n",
       "      <td>0.000000</td>\n",
       "      <td>3.567889</td>\n",
       "      <td>1.090188</td>\n",
       "      <td>84.043608</td>\n",
       "    </tr>\n",
       "  </tbody>\n",
       "</table>\n",
       "</div>"
      ],
      "text/plain": [
       "           0          1          2  ...          7          8          9\n",
       "0  89.795918   0.204082   1.530612  ...   1.326531   0.204082   0.612245\n",
       "1   0.176211  94.625551   1.321586  ...   0.088106   1.762115   0.000000\n",
       "2   1.162791   1.550388  85.658915  ...   0.872093   3.100775   0.290698\n",
       "3   0.000000   0.792079   8.415842  ...   1.683168   3.465347   0.990099\n",
       "4   0.814664   1.120163   1.120163  ...   1.018330   0.407332  10.590631\n",
       "5   2.690583   0.336323   1.233184  ...   0.896861   6.726457   3.587444\n",
       "6   3.131524   0.208768   3.027140  ...   2.400835   0.313152   0.208768\n",
       "7   1.167315   3.015564   1.361868  ...  84.241245   0.000000   5.836576\n",
       "8   1.026694   1.848049   0.821355  ...   1.437372  76.694045   2.464066\n",
       "9   2.081269   1.288404   0.000000  ...   3.567889   1.090188  84.043608\n",
       "\n",
       "[10 rows x 10 columns]"
      ]
     },
     "execution_count": 69,
     "metadata": {
      "tags": []
     },
     "output_type": "execute_result"
    }
   ],
   "source": [
    "Y_classes, Y_probs = nnet.use(Xtest)\n",
    "confusion_matrix(Y_classes, Ttest)"
   ]
  },
  {
   "cell_type": "code",
   "execution_count": 0,
   "metadata": {
    "colab": {
     "base_uri": "https://localhost:8080/",
     "height": 232
    },
    "colab_type": "code",
    "id": "2Qn7vlxE1l-R",
    "outputId": "a2c52edf-2a45-4216-c63b-a4e606f3c530"
   },
   "outputs": [
    {
     "ename": "TypeError",
     "evalue": "ignored",
     "output_type": "error",
     "traceback": [
      "\u001b[0;31m---------------------------------------------------------------------------\u001b[0m",
      "\u001b[0;31mTypeError\u001b[0m                                 Traceback (most recent call last)",
      "\u001b[0;32m/content/A4grader.py\u001b[0m in \u001b[0;36m<module>\u001b[0;34m()\u001b[0m\n\u001b[1;32m      2\u001b[0m \u001b[0mpredict_class\u001b[0m\u001b[0;34m,\u001b[0m \u001b[0mprobab\u001b[0m \u001b[0;34m=\u001b[0m \u001b[0mnnet\u001b[0m\u001b[0;34m.\u001b[0m\u001b[0muse\u001b[0m\u001b[0;34m(\u001b[0m\u001b[0mXtest\u001b[0m\u001b[0;34m)\u001b[0m\u001b[0;34m\u001b[0m\u001b[0;34m\u001b[0m\u001b[0m\n\u001b[1;32m      3\u001b[0m \u001b[0mpred\u001b[0m \u001b[0;34m=\u001b[0m \u001b[0mpredict_class\u001b[0m\u001b[0;34m,\u001b[0m \u001b[0mprobab\u001b[0m \u001b[0;34m=\u001b[0m \u001b[0mnnet\u001b[0m\u001b[0;34m.\u001b[0m\u001b[0muse\u001b[0m\u001b[0;34m(\u001b[0m\u001b[0mXtest\u001b[0m\u001b[0;34m)\u001b[0m\u001b[0;34m\u001b[0m\u001b[0;34m\u001b[0m\u001b[0m\n\u001b[0;32m----> 4\u001b[0;31m \u001b[0mnum\u001b[0m \u001b[0;34m=\u001b[0m \u001b[0mpred\u001b[0m \u001b[0;34m[\u001b[0m\u001b[0mpred\u001b[0m \u001b[0;34m<\u001b[0m \u001b[0mthreshold\u001b[0m\u001b[0;34m]\u001b[0m\u001b[0;34m\u001b[0m\u001b[0;34m\u001b[0m\u001b[0m\n\u001b[0m\u001b[1;32m      5\u001b[0m \u001b[0mnum1\u001b[0m \u001b[0;34m=\u001b[0m \u001b[0mnp\u001b[0m\u001b[0;34m.\u001b[0m\u001b[0mshape\u001b[0m\u001b[0;34m(\u001b[0m\u001b[0mnum\u001b[0m\u001b[0;34m)\u001b[0m\u001b[0;34m[\u001b[0m\u001b[0;36m0\u001b[0m\u001b[0;34m]\u001b[0m\u001b[0;34m\u001b[0m\u001b[0;34m\u001b[0m\u001b[0m\n\u001b[1;32m      6\u001b[0m \u001b[0mplt\u001b[0m\u001b[0;34m.\u001b[0m\u001b[0mfigure\u001b[0m\u001b[0;34m(\u001b[0m\u001b[0mfigsize\u001b[0m \u001b[0;34m=\u001b[0m \u001b[0;34m(\u001b[0m\u001b[0;36m28\u001b[0m\u001b[0;34m,\u001b[0m\u001b[0;36m28\u001b[0m\u001b[0;34m)\u001b[0m\u001b[0;34m)\u001b[0m\u001b[0;34m\u001b[0m\u001b[0;34m\u001b[0m\u001b[0m\n",
      "\u001b[0;31mTypeError\u001b[0m: '<' not supported between instances of 'tuple' and 'float'"
     ]
    }
   ],
   "source": [
    "threshold= 0.05\n",
    "predict_class, probab = nnet.use(Xtest)\n",
    "pred = predict_class, probab = nnet.use(Xtest)\n",
    "num = pred [pred < threshold]\n",
    "num1 = np.shape(num)[0]\n",
    "plt.figure(figsize = (28,28))\n",
    "for j in range(0,num1):\n",
    "  f = np.where(pred == num[j])\n",
    "  f = f[0][0]\n",
    "  plt.subplot(10, 10, j+1)\n",
    "  plt.imshow(-Xtest[f, : ].reshape(28,28),cmap ='gray')\n",
    "  plt.title(\" P:%d\" % Y_classes [f ,0] + \"A: %d\"% Ttest[f])\n",
    "  plt.axis('off');"
   ]
  },
  {
   "cell_type": "markdown",
   "metadata": {
    "colab_type": "text",
    "id": "IDKGYg6poXTh"
   },
   "source": [
    "## Grading and Check-In\n",
    "Download [A4grader.zip](https://www.cs.colostate.edu/~anderson/cs445/notebooks/A4grader.zip) and extract A4grader.py from it. Run the code in the following cell to demonstrate an example grading session. Remember to test your code with additional tests of your own design. Your notebook must be named as Lastname-A4.ipynb.  \n",
    "\n",
    "When ready, submit your notebook via the A4 link in our class Canvas web page."
   ]
  },
  {
   "cell_type": "code",
   "execution_count": 1,
   "metadata": {
    "colab": {
     "base_uri": "https://localhost:8080/",
     "height": 300
    },
    "colab_type": "code",
    "id": "-KSHpyqnoXTi",
    "outputId": "e2da77ff-c6b4-460a-aa17-df68f67fa79e"
   },
   "outputs": [
    {
     "name": "stdout",
     "output_type": "stream",
     "text": [
      "\n",
      "======================= Code Execution =======================\n",
      "\n",
      "Extracting python code from notebook named 'Chakraborty-A4.ipynb' and storing in notebookcode.py\n",
      "Removing all statements that are not function or class defs or import statements.\n",
      "\n",
      "Testing\n",
      "\n",
      "    nn_reg = NeuralNetwork(1, [5], 2)\n",
      "    nn_class = NeuralNetworkClassifier(1, [5], 5)\n",
      "\n",
      "    nn_reg.forward_pass.__func__ == nn_class.forward_pass.__func__\n",
      "\n",
      "\n",
      "--- 10/10 points.  Function NeuralNetwork.forward_pass is correctly not overridden in NeuralNetworkClassifier.\n",
      "\n",
      "Testing\n",
      "\n",
      "    nn_reg = NeuralNetwork(1, [5], 2)\n",
      "    nn_class = NeuralNetworkClassifier(1, [5], 5)\n",
      "\n",
      "    nn_reg.train.__func__ != nn_class.train.__func__\n",
      "\n",
      "\n",
      "--- 10/10 points.  Function NeuralNetwork.train is correctly overridden in NeuralNetworkClassifier.\n",
      "\n",
      "Testing\n",
      "\n",
      "    nn_reg = NeuralNetwork(1, [5], 2)\n",
      "    nn_class = NeuralNetworkClassifier(1, [5], 5)\n",
      "\n",
      "    nn_reg.use.__func__ != nn_class.use.__func__\n",
      "\n",
      "\n",
      "--- 10/10 points.  Function NeuralNetwork.use is correctly overridden in NeuralNetworkClassifier.\n",
      "\n",
      "Testing\n",
      "\n",
      "    nn_class = NeuralNetworkClassifier(1, [5], 5)\n",
      "    result = nn_class.makeIndicatorVars(np.arange(5).reshape(-1, 1))\n",
      "\n",
      "\n",
      "\n",
      "--- 10/10 points.  makeIndicatorVars correctly returned all 1s on diagonal.\n",
      "\n",
      "Testing\n",
      "\n",
      "    nn_class = NeuralNetworkClassifier(1, [5], 5)\n",
      "    result = nn_class.softmax(np.array([[-5.5, 5.5]]))\n",
      "\n",
      "\n",
      "\n",
      "--- 10/10 points.  softmax returned correct answer.\n",
      "\n",
      "Testing\n",
      "\n",
      "    X = np.arange(20).reshape(20, 1)\n",
      "    X = np.hstack((X, X[::-1, :]))\n",
      "    T = np.array(['ends', 'mid'])[(np.abs(X[:, 0:1] - X[:, 1:2]) < 6).astype(int)]\n",
      "\n",
      "    np.random.seed(42)\n",
      "    \n",
      "    nnet = NeuralNetworkClassifier(X.shape[1], [10, 10], len(np.unique(T)), activation_function='relu')\n",
      "    nnet.train(X, T, 500, 0.001, method='adam', verbose=False)\n",
      "\n",
      "    Y_classes, Y_probs = nnet.use(X)\n",
      "\n",
      "    percent_correct = 100 * np.mean(Y_classes == T)\n",
      "\n",
      "Adam: Epoch 50 Error=0.74489\n",
      "Adam: Epoch 100 Error=0.75837\n",
      "Adam: Epoch 150 Error=0.79285\n",
      "Adam: Epoch 200 Error=0.84487\n",
      "Adam: Epoch 250 Error=0.89611\n",
      "Adam: Epoch 300 Error=0.92994\n",
      "Adam: Epoch 350 Error=0.94947\n",
      "Adam: Epoch 400 Error=0.96140\n",
      "Adam: Epoch 450 Error=0.96942\n",
      "Adam: Epoch 500 Error=0.97522\n",
      "\n",
      "--- 30/30 points. Correctly returned 100.0.\n",
      "\n",
      "Testing\n",
      "\n",
      "    cm = confusion_matrix(Y_classes, T)\n",
      "\n",
      "\n",
      "--- 10/10 points. Correctly returned DataFrame:\n",
      "       ends    mid\n",
      "ends  100.0    0.0\n",
      "mid     0.0  100.0\n",
      "\n",
      "======================================================================\n",
      "C:\\Users\\DELL\\Desktop\\Machine Learning\\Assignment Execution Grade is 90 / 90\n",
      "======================================================================\n",
      "\n",
      " __ / 10 Based on other testing and the results you obtain and your discussions.\n",
      "\n",
      "======================================================================\n",
      "C:\\Users\\DELL\\Desktop\\Machine Learning\\Assignment FINAL GRADE is  _  / 100\n",
      "======================================================================\n",
      "\n",
      "Extra Credit:\n",
      "\n",
      "Earn 1 extra credit point on this assignment by doing the following steps.\n",
      "\n",
      "1. Combine the train, validate, and test partitions loaded from the MNIST data file into \n",
      "   two matrices, X and T.\n",
      "\n",
      "2. Using adam , relu and just one value of learning_rate and n_epochs, compare several \n",
      "   hidden layer architectures. Do so by applying our generate_k_fold_cross_validation_sets\n",
      "   function as defined in Lecture Notes 12 which forms stratified partitioning, for use\n",
      "   in classification problems, to your X and T matrices using n_fold of 3.\n",
      "\n",
      "3. Show results and discuss which architectures you find works the best, and how you\n",
      "    determined this.\n",
      "\n",
      "C:\\Users\\DELL\\Desktop\\Machine Learning\\Assignment EXTRA CREDIT is 0 / 1\n"
     ]
    }
   ],
   "source": [
    "%run -i A4grader.py"
   ]
  },
  {
   "cell_type": "markdown",
   "metadata": {
    "colab_type": "text",
    "id": "XlU4-99RoXTo"
   },
   "source": [
    "## Extra Credit\n",
    "Earn 1 extra credit point on this assignment by doing the following.\n",
    "\n",
    "1. Combine the train, validate, and test partitions loaded from the MNIST data file into two matrices, `X` and `T`. \n",
    "2. Using `adam` , `relu` and just one value of `learning_rate` and `n_epochs`, compare several hidden layer architectures. Do so by applying our `generate_k_fold_cross_validation_sets` function as defined in Lecture Notes 12 which forms stratified partitioning, for use in classification problems, to your `X` and `T` matrices using `n_fold` of 3.\n",
    "3. Show results and discuss which architectures you find works the best, and how you determined this."
   ]
  },
  {
   "cell_type": "code",
   "execution_count": 0,
   "metadata": {
    "colab": {},
    "colab_type": "code",
    "id": "AoSx4_trxeEy"
   },
   "outputs": [],
   "source": []
  },
  {
   "cell_type": "code",
   "execution_count": 0,
   "metadata": {
    "colab": {},
    "colab_type": "code",
    "id": "bImE8ztCxhFn"
   },
   "outputs": [],
   "source": []
  },
  {
   "cell_type": "code",
   "execution_count": 0,
   "metadata": {
    "colab": {},
    "colab_type": "code",
    "id": "l2NwZANaxjO8"
   },
   "outputs": [],
   "source": []
  },
  {
   "cell_type": "code",
   "execution_count": 0,
   "metadata": {
    "colab": {},
    "colab_type": "code",
    "id": "c2QrQQyIxpXS"
   },
   "outputs": [],
   "source": []
  }
 ],
 "metadata": {
  "accelerator": "GPU",
  "colab": {
   "collapsed_sections": [],
   "name": "Chakraborty-A4.ipynb",
   "provenance": [],
   "toc_visible": true
  },
  "kernelspec": {
   "display_name": "Python 3",
   "language": "python",
   "name": "python3"
  },
  "language_info": {
   "codemirror_mode": {
    "name": "ipython",
    "version": 3
   },
   "file_extension": ".py",
   "mimetype": "text/x-python",
   "name": "python",
   "nbconvert_exporter": "python",
   "pygments_lexer": "ipython3",
   "version": "3.7.3"
  },
  "toc": {
   "base_numbering": 1,
   "nav_menu": {},
   "number_sections": true,
   "sideBar": true,
   "skip_h1_title": false,
   "title_cell": "Table of Contents",
   "title_sidebar": "Contents",
   "toc_cell": false,
   "toc_position": {},
   "toc_section_display": true,
   "toc_window_display": true
  }
 },
 "nbformat": 4,
 "nbformat_minor": 1
}
